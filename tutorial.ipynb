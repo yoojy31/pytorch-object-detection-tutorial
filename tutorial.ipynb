{
  "nbformat": 4,
  "nbformat_minor": 0,
  "metadata": {
    "colab": {
      "name": "tutorial.ipynb",
      "provenance": [],
      "collapsed_sections": [],
      "include_colab_link": true
    },
    "kernelspec": {
      "name": "python3",
      "display_name": "Python 3"
    },
    "accelerator": "GPU",
    "widgets": {
      "application/vnd.jupyter.widget-state+json": {
        "0bf42bdad2cd475b8b9f9cffbc9d2712": {
          "model_module": "@jupyter-widgets/controls",
          "model_name": "HBoxModel",
          "model_module_version": "1.5.0",
          "state": {
            "_view_name": "HBoxView",
            "_dom_classes": [],
            "_model_name": "HBoxModel",
            "_view_module": "@jupyter-widgets/controls",
            "_model_module_version": "1.5.0",
            "_view_count": null,
            "_view_module_version": "1.5.0",
            "box_style": "",
            "layout": "IPY_MODEL_6585475e10bf42cbade9118c5854342e",
            "_model_module": "@jupyter-widgets/controls",
            "children": [
              "IPY_MODEL_c77d9c6c6d7d4165af50dce2b8ab2263",
              "IPY_MODEL_87a7accb5b3b4428b733863fce820f2e",
              "IPY_MODEL_adddf987a8f34d4d8b1a778302d029ec"
            ]
          }
        },
        "6585475e10bf42cbade9118c5854342e": {
          "model_module": "@jupyter-widgets/base",
          "model_name": "LayoutModel",
          "model_module_version": "1.2.0",
          "state": {
            "_view_name": "LayoutView",
            "grid_template_rows": null,
            "right": null,
            "justify_content": null,
            "_view_module": "@jupyter-widgets/base",
            "overflow": null,
            "_model_module_version": "1.2.0",
            "_view_count": null,
            "flex_flow": null,
            "width": null,
            "min_width": null,
            "border": null,
            "align_items": null,
            "bottom": null,
            "_model_module": "@jupyter-widgets/base",
            "top": null,
            "grid_column": null,
            "overflow_y": null,
            "overflow_x": null,
            "grid_auto_flow": null,
            "grid_area": null,
            "grid_template_columns": null,
            "flex": null,
            "_model_name": "LayoutModel",
            "justify_items": null,
            "grid_row": null,
            "max_height": null,
            "align_content": null,
            "visibility": null,
            "align_self": null,
            "height": null,
            "min_height": null,
            "padding": null,
            "grid_auto_rows": null,
            "grid_gap": null,
            "max_width": null,
            "order": null,
            "_view_module_version": "1.2.0",
            "grid_template_areas": null,
            "object_position": null,
            "object_fit": null,
            "grid_auto_columns": null,
            "margin": null,
            "display": null,
            "left": null
          }
        },
        "c77d9c6c6d7d4165af50dce2b8ab2263": {
          "model_module": "@jupyter-widgets/controls",
          "model_name": "HTMLModel",
          "model_module_version": "1.5.0",
          "state": {
            "_view_name": "HTMLView",
            "style": "IPY_MODEL_99d9d458d2704526953cd6191c00a111",
            "_dom_classes": [],
            "description": "",
            "_model_name": "HTMLModel",
            "placeholder": "​",
            "_view_module": "@jupyter-widgets/controls",
            "_model_module_version": "1.5.0",
            "value": "100%",
            "_view_count": null,
            "_view_module_version": "1.5.0",
            "description_tooltip": null,
            "_model_module": "@jupyter-widgets/controls",
            "layout": "IPY_MODEL_b82d9ac47572416db0d8c2cd82c88598"
          }
        },
        "87a7accb5b3b4428b733863fce820f2e": {
          "model_module": "@jupyter-widgets/controls",
          "model_name": "FloatProgressModel",
          "model_module_version": "1.5.0",
          "state": {
            "_view_name": "ProgressView",
            "style": "IPY_MODEL_ac5829daac384fb1aea32e27b71075b0",
            "_dom_classes": [],
            "description": "",
            "_model_name": "FloatProgressModel",
            "bar_style": "success",
            "max": 102530333,
            "_view_module": "@jupyter-widgets/controls",
            "_model_module_version": "1.5.0",
            "value": 102530333,
            "_view_count": null,
            "_view_module_version": "1.5.0",
            "orientation": "horizontal",
            "min": 0,
            "description_tooltip": null,
            "_model_module": "@jupyter-widgets/controls",
            "layout": "IPY_MODEL_12a3194a44fe4ac896f1d8bdef857eb7"
          }
        },
        "adddf987a8f34d4d8b1a778302d029ec": {
          "model_module": "@jupyter-widgets/controls",
          "model_name": "HTMLModel",
          "model_module_version": "1.5.0",
          "state": {
            "_view_name": "HTMLView",
            "style": "IPY_MODEL_c56e668678ec4b91afa1655814334287",
            "_dom_classes": [],
            "description": "",
            "_model_name": "HTMLModel",
            "placeholder": "​",
            "_view_module": "@jupyter-widgets/controls",
            "_model_module_version": "1.5.0",
            "value": " 97.8M/97.8M [00:01&lt;00:00, 85.5MB/s]",
            "_view_count": null,
            "_view_module_version": "1.5.0",
            "description_tooltip": null,
            "_model_module": "@jupyter-widgets/controls",
            "layout": "IPY_MODEL_59fb236c8e40435cbfda8ef3a49fe4ff"
          }
        },
        "99d9d458d2704526953cd6191c00a111": {
          "model_module": "@jupyter-widgets/controls",
          "model_name": "DescriptionStyleModel",
          "model_module_version": "1.5.0",
          "state": {
            "_view_name": "StyleView",
            "_model_name": "DescriptionStyleModel",
            "description_width": "",
            "_view_module": "@jupyter-widgets/base",
            "_model_module_version": "1.5.0",
            "_view_count": null,
            "_view_module_version": "1.2.0",
            "_model_module": "@jupyter-widgets/controls"
          }
        },
        "b82d9ac47572416db0d8c2cd82c88598": {
          "model_module": "@jupyter-widgets/base",
          "model_name": "LayoutModel",
          "model_module_version": "1.2.0",
          "state": {
            "_view_name": "LayoutView",
            "grid_template_rows": null,
            "right": null,
            "justify_content": null,
            "_view_module": "@jupyter-widgets/base",
            "overflow": null,
            "_model_module_version": "1.2.0",
            "_view_count": null,
            "flex_flow": null,
            "width": null,
            "min_width": null,
            "border": null,
            "align_items": null,
            "bottom": null,
            "_model_module": "@jupyter-widgets/base",
            "top": null,
            "grid_column": null,
            "overflow_y": null,
            "overflow_x": null,
            "grid_auto_flow": null,
            "grid_area": null,
            "grid_template_columns": null,
            "flex": null,
            "_model_name": "LayoutModel",
            "justify_items": null,
            "grid_row": null,
            "max_height": null,
            "align_content": null,
            "visibility": null,
            "align_self": null,
            "height": null,
            "min_height": null,
            "padding": null,
            "grid_auto_rows": null,
            "grid_gap": null,
            "max_width": null,
            "order": null,
            "_view_module_version": "1.2.0",
            "grid_template_areas": null,
            "object_position": null,
            "object_fit": null,
            "grid_auto_columns": null,
            "margin": null,
            "display": null,
            "left": null
          }
        },
        "ac5829daac384fb1aea32e27b71075b0": {
          "model_module": "@jupyter-widgets/controls",
          "model_name": "ProgressStyleModel",
          "model_module_version": "1.5.0",
          "state": {
            "_view_name": "StyleView",
            "_model_name": "ProgressStyleModel",
            "description_width": "",
            "_view_module": "@jupyter-widgets/base",
            "_model_module_version": "1.5.0",
            "_view_count": null,
            "_view_module_version": "1.2.0",
            "bar_color": null,
            "_model_module": "@jupyter-widgets/controls"
          }
        },
        "12a3194a44fe4ac896f1d8bdef857eb7": {
          "model_module": "@jupyter-widgets/base",
          "model_name": "LayoutModel",
          "model_module_version": "1.2.0",
          "state": {
            "_view_name": "LayoutView",
            "grid_template_rows": null,
            "right": null,
            "justify_content": null,
            "_view_module": "@jupyter-widgets/base",
            "overflow": null,
            "_model_module_version": "1.2.0",
            "_view_count": null,
            "flex_flow": null,
            "width": null,
            "min_width": null,
            "border": null,
            "align_items": null,
            "bottom": null,
            "_model_module": "@jupyter-widgets/base",
            "top": null,
            "grid_column": null,
            "overflow_y": null,
            "overflow_x": null,
            "grid_auto_flow": null,
            "grid_area": null,
            "grid_template_columns": null,
            "flex": null,
            "_model_name": "LayoutModel",
            "justify_items": null,
            "grid_row": null,
            "max_height": null,
            "align_content": null,
            "visibility": null,
            "align_self": null,
            "height": null,
            "min_height": null,
            "padding": null,
            "grid_auto_rows": null,
            "grid_gap": null,
            "max_width": null,
            "order": null,
            "_view_module_version": "1.2.0",
            "grid_template_areas": null,
            "object_position": null,
            "object_fit": null,
            "grid_auto_columns": null,
            "margin": null,
            "display": null,
            "left": null
          }
        },
        "c56e668678ec4b91afa1655814334287": {
          "model_module": "@jupyter-widgets/controls",
          "model_name": "DescriptionStyleModel",
          "model_module_version": "1.5.0",
          "state": {
            "_view_name": "StyleView",
            "_model_name": "DescriptionStyleModel",
            "description_width": "",
            "_view_module": "@jupyter-widgets/base",
            "_model_module_version": "1.5.0",
            "_view_count": null,
            "_view_module_version": "1.2.0",
            "_model_module": "@jupyter-widgets/controls"
          }
        },
        "59fb236c8e40435cbfda8ef3a49fe4ff": {
          "model_module": "@jupyter-widgets/base",
          "model_name": "LayoutModel",
          "model_module_version": "1.2.0",
          "state": {
            "_view_name": "LayoutView",
            "grid_template_rows": null,
            "right": null,
            "justify_content": null,
            "_view_module": "@jupyter-widgets/base",
            "overflow": null,
            "_model_module_version": "1.2.0",
            "_view_count": null,
            "flex_flow": null,
            "width": null,
            "min_width": null,
            "border": null,
            "align_items": null,
            "bottom": null,
            "_model_module": "@jupyter-widgets/base",
            "top": null,
            "grid_column": null,
            "overflow_y": null,
            "overflow_x": null,
            "grid_auto_flow": null,
            "grid_area": null,
            "grid_template_columns": null,
            "flex": null,
            "_model_name": "LayoutModel",
            "justify_items": null,
            "grid_row": null,
            "max_height": null,
            "align_content": null,
            "visibility": null,
            "align_self": null,
            "height": null,
            "min_height": null,
            "padding": null,
            "grid_auto_rows": null,
            "grid_gap": null,
            "max_width": null,
            "order": null,
            "_view_module_version": "1.2.0",
            "grid_template_areas": null,
            "object_position": null,
            "object_fit": null,
            "grid_auto_columns": null,
            "margin": null,
            "display": null,
            "left": null
          }
        },
        "f952e710c5f84f99948817149360642f": {
          "model_module": "@jupyter-widgets/controls",
          "model_name": "HBoxModel",
          "model_module_version": "1.5.0",
          "state": {
            "_view_name": "HBoxView",
            "_dom_classes": [],
            "_model_name": "HBoxModel",
            "_view_module": "@jupyter-widgets/controls",
            "_model_module_version": "1.5.0",
            "_view_count": null,
            "_view_module_version": "1.5.0",
            "box_style": "",
            "layout": "IPY_MODEL_e097ea0f8e9a4ac7a2678d5eb1ed30e5",
            "_model_module": "@jupyter-widgets/controls",
            "children": [
              "IPY_MODEL_8253aa9db8da48d585ee9aa6742b922f",
              "IPY_MODEL_89aae22dd68a45eb9853d66f01722ab7",
              "IPY_MODEL_e1a7da806e374c17b6346cc8e5a1e101"
            ]
          }
        },
        "e097ea0f8e9a4ac7a2678d5eb1ed30e5": {
          "model_module": "@jupyter-widgets/base",
          "model_name": "LayoutModel",
          "model_module_version": "1.2.0",
          "state": {
            "_view_name": "LayoutView",
            "grid_template_rows": null,
            "right": null,
            "justify_content": null,
            "_view_module": "@jupyter-widgets/base",
            "overflow": null,
            "_model_module_version": "1.2.0",
            "_view_count": null,
            "flex_flow": null,
            "width": null,
            "min_width": null,
            "border": null,
            "align_items": null,
            "bottom": null,
            "_model_module": "@jupyter-widgets/base",
            "top": null,
            "grid_column": null,
            "overflow_y": null,
            "overflow_x": null,
            "grid_auto_flow": null,
            "grid_area": null,
            "grid_template_columns": null,
            "flex": null,
            "_model_name": "LayoutModel",
            "justify_items": null,
            "grid_row": null,
            "max_height": null,
            "align_content": null,
            "visibility": null,
            "align_self": null,
            "height": null,
            "min_height": null,
            "padding": null,
            "grid_auto_rows": null,
            "grid_gap": null,
            "max_width": null,
            "order": null,
            "_view_module_version": "1.2.0",
            "grid_template_areas": null,
            "object_position": null,
            "object_fit": null,
            "grid_auto_columns": null,
            "margin": null,
            "display": null,
            "left": null
          }
        },
        "8253aa9db8da48d585ee9aa6742b922f": {
          "model_module": "@jupyter-widgets/controls",
          "model_name": "HTMLModel",
          "model_module_version": "1.5.0",
          "state": {
            "_view_name": "HTMLView",
            "style": "IPY_MODEL_c827b61dffff4c6aaf945e1e2f1fc9a7",
            "_dom_classes": [],
            "description": "",
            "_model_name": "HTMLModel",
            "placeholder": "​",
            "_view_module": "@jupyter-widgets/controls",
            "_model_module_version": "1.5.0",
            "value": "100%",
            "_view_count": null,
            "_view_module_version": "1.5.0",
            "description_tooltip": null,
            "_model_module": "@jupyter-widgets/controls",
            "layout": "IPY_MODEL_c7633fe9d3fa4b0b81cfd4bc334e3f35"
          }
        },
        "89aae22dd68a45eb9853d66f01722ab7": {
          "model_module": "@jupyter-widgets/controls",
          "model_name": "FloatProgressModel",
          "model_module_version": "1.5.0",
          "state": {
            "_view_name": "ProgressView",
            "style": "IPY_MODEL_c4d294e288f1418190df79f3b16d3ea0",
            "_dom_classes": [],
            "description": "",
            "_model_name": "FloatProgressModel",
            "bar_style": "success",
            "max": 167502836,
            "_view_module": "@jupyter-widgets/controls",
            "_model_module_version": "1.5.0",
            "value": 167502836,
            "_view_count": null,
            "_view_module_version": "1.5.0",
            "orientation": "horizontal",
            "min": 0,
            "description_tooltip": null,
            "_model_module": "@jupyter-widgets/controls",
            "layout": "IPY_MODEL_0d06b60b690740c2872957e48288731a"
          }
        },
        "e1a7da806e374c17b6346cc8e5a1e101": {
          "model_module": "@jupyter-widgets/controls",
          "model_name": "HTMLModel",
          "model_module_version": "1.5.0",
          "state": {
            "_view_name": "HTMLView",
            "style": "IPY_MODEL_dcdeae1945494317bb14f4b2a0a2c5bd",
            "_dom_classes": [],
            "description": "",
            "_model_name": "HTMLModel",
            "placeholder": "​",
            "_view_module": "@jupyter-widgets/controls",
            "_model_module_version": "1.5.0",
            "value": " 160M/160M [00:05&lt;00:00, 29.5MB/s]",
            "_view_count": null,
            "_view_module_version": "1.5.0",
            "description_tooltip": null,
            "_model_module": "@jupyter-widgets/controls",
            "layout": "IPY_MODEL_7699ac3c8ae342d0a9aaded62c2bd55f"
          }
        },
        "c827b61dffff4c6aaf945e1e2f1fc9a7": {
          "model_module": "@jupyter-widgets/controls",
          "model_name": "DescriptionStyleModel",
          "model_module_version": "1.5.0",
          "state": {
            "_view_name": "StyleView",
            "_model_name": "DescriptionStyleModel",
            "description_width": "",
            "_view_module": "@jupyter-widgets/base",
            "_model_module_version": "1.5.0",
            "_view_count": null,
            "_view_module_version": "1.2.0",
            "_model_module": "@jupyter-widgets/controls"
          }
        },
        "c7633fe9d3fa4b0b81cfd4bc334e3f35": {
          "model_module": "@jupyter-widgets/base",
          "model_name": "LayoutModel",
          "model_module_version": "1.2.0",
          "state": {
            "_view_name": "LayoutView",
            "grid_template_rows": null,
            "right": null,
            "justify_content": null,
            "_view_module": "@jupyter-widgets/base",
            "overflow": null,
            "_model_module_version": "1.2.0",
            "_view_count": null,
            "flex_flow": null,
            "width": null,
            "min_width": null,
            "border": null,
            "align_items": null,
            "bottom": null,
            "_model_module": "@jupyter-widgets/base",
            "top": null,
            "grid_column": null,
            "overflow_y": null,
            "overflow_x": null,
            "grid_auto_flow": null,
            "grid_area": null,
            "grid_template_columns": null,
            "flex": null,
            "_model_name": "LayoutModel",
            "justify_items": null,
            "grid_row": null,
            "max_height": null,
            "align_content": null,
            "visibility": null,
            "align_self": null,
            "height": null,
            "min_height": null,
            "padding": null,
            "grid_auto_rows": null,
            "grid_gap": null,
            "max_width": null,
            "order": null,
            "_view_module_version": "1.2.0",
            "grid_template_areas": null,
            "object_position": null,
            "object_fit": null,
            "grid_auto_columns": null,
            "margin": null,
            "display": null,
            "left": null
          }
        },
        "c4d294e288f1418190df79f3b16d3ea0": {
          "model_module": "@jupyter-widgets/controls",
          "model_name": "ProgressStyleModel",
          "model_module_version": "1.5.0",
          "state": {
            "_view_name": "StyleView",
            "_model_name": "ProgressStyleModel",
            "description_width": "",
            "_view_module": "@jupyter-widgets/base",
            "_model_module_version": "1.5.0",
            "_view_count": null,
            "_view_module_version": "1.2.0",
            "bar_color": null,
            "_model_module": "@jupyter-widgets/controls"
          }
        },
        "0d06b60b690740c2872957e48288731a": {
          "model_module": "@jupyter-widgets/base",
          "model_name": "LayoutModel",
          "model_module_version": "1.2.0",
          "state": {
            "_view_name": "LayoutView",
            "grid_template_rows": null,
            "right": null,
            "justify_content": null,
            "_view_module": "@jupyter-widgets/base",
            "overflow": null,
            "_model_module_version": "1.2.0",
            "_view_count": null,
            "flex_flow": null,
            "width": null,
            "min_width": null,
            "border": null,
            "align_items": null,
            "bottom": null,
            "_model_module": "@jupyter-widgets/base",
            "top": null,
            "grid_column": null,
            "overflow_y": null,
            "overflow_x": null,
            "grid_auto_flow": null,
            "grid_area": null,
            "grid_template_columns": null,
            "flex": null,
            "_model_name": "LayoutModel",
            "justify_items": null,
            "grid_row": null,
            "max_height": null,
            "align_content": null,
            "visibility": null,
            "align_self": null,
            "height": null,
            "min_height": null,
            "padding": null,
            "grid_auto_rows": null,
            "grid_gap": null,
            "max_width": null,
            "order": null,
            "_view_module_version": "1.2.0",
            "grid_template_areas": null,
            "object_position": null,
            "object_fit": null,
            "grid_auto_columns": null,
            "margin": null,
            "display": null,
            "left": null
          }
        },
        "dcdeae1945494317bb14f4b2a0a2c5bd": {
          "model_module": "@jupyter-widgets/controls",
          "model_name": "DescriptionStyleModel",
          "model_module_version": "1.5.0",
          "state": {
            "_view_name": "StyleView",
            "_model_name": "DescriptionStyleModel",
            "description_width": "",
            "_view_module": "@jupyter-widgets/base",
            "_model_module_version": "1.5.0",
            "_view_count": null,
            "_view_module_version": "1.2.0",
            "_model_module": "@jupyter-widgets/controls"
          }
        },
        "7699ac3c8ae342d0a9aaded62c2bd55f": {
          "model_module": "@jupyter-widgets/base",
          "model_name": "LayoutModel",
          "model_module_version": "1.2.0",
          "state": {
            "_view_name": "LayoutView",
            "grid_template_rows": null,
            "right": null,
            "justify_content": null,
            "_view_module": "@jupyter-widgets/base",
            "overflow": null,
            "_model_module_version": "1.2.0",
            "_view_count": null,
            "flex_flow": null,
            "width": null,
            "min_width": null,
            "border": null,
            "align_items": null,
            "bottom": null,
            "_model_module": "@jupyter-widgets/base",
            "top": null,
            "grid_column": null,
            "overflow_y": null,
            "overflow_x": null,
            "grid_auto_flow": null,
            "grid_area": null,
            "grid_template_columns": null,
            "flex": null,
            "_model_name": "LayoutModel",
            "justify_items": null,
            "grid_row": null,
            "max_height": null,
            "align_content": null,
            "visibility": null,
            "align_self": null,
            "height": null,
            "min_height": null,
            "padding": null,
            "grid_auto_rows": null,
            "grid_gap": null,
            "max_width": null,
            "order": null,
            "_view_module_version": "1.2.0",
            "grid_template_areas": null,
            "object_position": null,
            "object_fit": null,
            "grid_auto_columns": null,
            "margin": null,
            "display": null,
            "left": null
          }
        }
      }
    }
  },
  "cells": [
    {
      "cell_type": "markdown",
      "metadata": {
        "id": "view-in-github",
        "colab_type": "text"
      },
      "source": [
        "<a href=\"https://colab.research.google.com/github/yoojy31/pytorch-object-detection-tutorial/blob/main/tutorial.ipynb\" target=\"_parent\"><img src=\"https://colab.research.google.com/assets/colab-badge.svg\" alt=\"Open In Colab\"/></a>"
      ]
    },
    {
      "cell_type": "code",
      "metadata": {
        "id": "D08aLiTpw5W8",
        "colab": {
          "base_uri": "https://localhost:8080/"
        },
        "outputId": "a9ab5fbd-188b-42b9-d143-0fb5e02e4be2"
      },
      "source": [
        "from google.colab import drive\n",
        "drive.mount('/content/drive')\n",
        "# drive._mount('/content/drive')"
      ],
      "execution_count": 1,
      "outputs": [
        {
          "output_type": "stream",
          "name": "stdout",
          "text": [
            "Mounted at /content/drive\n"
          ]
        }
      ]
    },
    {
      "cell_type": "code",
      "metadata": {
        "id": "cqnoOks2LF-l",
        "colab": {
          "base_uri": "https://localhost:8080/"
        },
        "outputId": "d24bb7c3-ddc0-44f0-b4cc-951b6676c100"
      },
      "source": [
        "import os\n",
        "%cd \"/content/\"\n",
        "!wget \"https://www.cis.upenn.edu/~jshi/ped_html/PennFudanPed.zip\"\n",
        "\n",
        "!unzip -qq \"PennFudanPed.zip\"\n",
        "\n",
        "print('\\n\\n /content/ 경로의 파일과 폴더 리스트', os.listdir('/content/'))\n",
        "print(' /content/PennFudanPed/ 경로의 파일과 폴더 리스트', os.listdir('PennFudanPed/'), '\\n\\n')\n",
        "\n",
        "%cd /content"
      ],
      "execution_count": 2,
      "outputs": [
        {
          "output_type": "stream",
          "name": "stdout",
          "text": [
            "/content\n",
            "--2022-01-22 06:48:49--  https://www.cis.upenn.edu/~jshi/ped_html/PennFudanPed.zip\n",
            "Resolving www.cis.upenn.edu (www.cis.upenn.edu)... 158.130.69.163, 2607:f470:8:64:5ea5::d\n",
            "Connecting to www.cis.upenn.edu (www.cis.upenn.edu)|158.130.69.163|:443... connected.\n",
            "HTTP request sent, awaiting response... 200 OK\n",
            "Length: 53723336 (51M) [application/zip]\n",
            "Saving to: ‘PennFudanPed.zip’\n",
            "\n",
            "PennFudanPed.zip    100%[===================>]  51.23M   221MB/s    in 0.2s    \n",
            "\n",
            "2022-01-22 06:48:49 (221 MB/s) - ‘PennFudanPed.zip’ saved [53723336/53723336]\n",
            "\n",
            "\n",
            "\n",
            " /content/ 경로의 파일과 폴더 리스트 ['.config', 'PennFudanPed.zip', 'drive', 'PennFudanPed', 'sample_data']\n",
            " /content/PennFudanPed/ 경로의 파일과 폴더 리스트 ['PNGImages', 'Annotation', 'added-object-list.txt', 'PedMasks', 'readme.txt'] \n",
            "\n",
            "\n",
            "/content\n"
          ]
        }
      ]
    },
    {
      "cell_type": "code",
      "source": [
        "# 데이터를 구글 드라이브에 직접 업로드한 경우\n",
        "# !cp \"/content/drive/MyDrive/Colab Notebooks/Data/PennFudanPed.zip\" \"/content/PennFudanPed.zip\" \n",
        "# !unzip -qq \"/content/PennFudanPed.zip\"\n",
        "# print(os.listdir('/content/PennFudanPed/'))"
      ],
      "metadata": {
        "id": "rcdkZo6yZP7h"
      },
      "execution_count": 3,
      "outputs": []
    },
    {
      "cell_type": "code",
      "metadata": {
        "id": "01192B-Rm9fO",
        "outputId": "c8896ef8-5ffa-45c1-9156-8a1f6040acb3",
        "colab": {
          "base_uri": "https://localhost:8080/"
        }
      },
      "source": [
        "%cd /content/drive/MyDrive/Colab Notebooks\n",
        "!git clone https://github.com/yoojy31/pytorch-object-detection-tutorial.git  # 외부에서 clone 해옴"
      ],
      "execution_count": 4,
      "outputs": [
        {
          "output_type": "stream",
          "name": "stdout",
          "text": [
            "/content/drive/MyDrive/Colab Notebooks\n",
            "Cloning into 'pytorch-object-detection-tutorial'...\n",
            "remote: Enumerating objects: 55, done.\u001b[K\n",
            "remote: Counting objects: 100% (55/55), done.\u001b[K\n",
            "remote: Compressing objects: 100% (50/50), done.\u001b[K\n",
            "remote: Total 55 (delta 17), reused 29 (delta 3), pack-reused 0\u001b[K\n",
            "Unpacking objects: 100% (55/55), done.\n"
          ]
        }
      ]
    },
    {
      "cell_type": "code",
      "metadata": {
        "id": "B_YzuaMpnAiu",
        "outputId": "00713ba2-00f2-444f-81f1-5d8ee9520ef7",
        "colab": {
          "base_uri": "https://localhost:8080/"
        }
      },
      "source": [
        "# clone 해온 코드를 import 하기 위함\n",
        "# 너무 복잡한 부분은 외부에서 불러오고, colab 에서는 생략\n",
        "\n",
        "%cd 'pytorch-object-detection-tutorial'\n",
        "import engine, utils\n",
        "import transforms as T\n",
        "%cd /content "
      ],
      "execution_count": 5,
      "outputs": [
        {
          "output_type": "stream",
          "name": "stdout",
          "text": [
            "/content/drive/MyDrive/Colab Notebooks/pytorch-object-detection-tutorial\n",
            "/content\n"
          ]
        }
      ]
    },
    {
      "cell_type": "code",
      "metadata": {
        "id": "AGbaepV1HpX3"
      },
      "source": [
        "# 필요한 라이브러리\n",
        "\n",
        "import os\n",
        "import sys\n",
        "import math\n",
        "\n",
        "import numpy as np\n",
        "import torch\n",
        "import torch.nn as nn\n",
        "from PIL import Image\n",
        "\n",
        "import torchvision\n",
        "from torchvision.models.detection import FasterRCNN\n",
        "from torchvision.models.detection.rpn import AnchorGenerator, RPNHead\n",
        "from torchvision.models.detection.faster_rcnn import TwoMLPHead, FastRCNNPredictor"
      ],
      "execution_count": 6,
      "outputs": []
    },
    {
      "cell_type": "code",
      "metadata": {
        "id": "IFo6PVNNkcxx"
      },
      "source": [
        "def main(model_name='faster_rcnn', num_epochs=5):  # 전체 코드 구조를 먼저 만든 후, 각 요소들을 만들 예정.\n",
        "    # model_name option\n",
        "    #     faster_rcnn : full modeling and weight initialization\n",
        "    #     pretrained_faster_rcnn : coco-pretrained. faster rcnn\n",
        "    #     pretrained_ssd : coco-trained. ssdlite320_mobilenet_v3_large\n",
        "\n",
        "    # Data Loader\n",
        "    data_loader_train, data_loader_test = create_dataset_and_dataloader(root='PennFudanPed')\n",
        "\n",
        "    # Model\n",
        "    if model_name=='faster_rcnn': model = create_faster_rcnn()\n",
        "    elif model_name=='pretrained_faster_rcnn': model = create_pretrained_faster_rcnn()\n",
        "    elif model_name=='pretrained_ssd': model = create_pretrained_ssd()\n",
        "\n",
        "    device = torch.device('cuda') if torch.cuda.is_available() else torch.device('cpu')\n",
        "    model.to(device)  # if gpu 가 가능 then gpu로 학습,  else, cpu로 학습\n",
        "\n",
        "    # Optimizer\n",
        "    params = [p for p in model.parameters() if p.requires_grad]\n",
        "    optimizer = torch.optim.SGD(params, lr=0.005, momentum=0.9, weight_decay=0.0005)\n",
        "\n",
        "    # let's train\n",
        "    for epoch in range(num_epochs):\n",
        "        # train for one epoch, printing every 10 iterations\n",
        "        train_one_epoch(model, optimizer, data_loader_train, device, epoch, print_freq=10)\n",
        "        # evaluate on the test dataset\n",
        "        # eval code 는 외부에서 가져옴\n",
        "        engine.evaluate(model, data_loader_test, device=device)\n",
        "\n",
        "    print(\"That's it!\")\n",
        "    return model"
      ],
      "execution_count": 7,
      "outputs": []
    },
    {
      "cell_type": "code",
      "metadata": {
        "id": "3vQl4PHOOgmm"
      },
      "source": [
        "def create_dataset_and_dataloader(root='PennFudanPed'):\n",
        "  dataset = PennFudanDataset(root, get_transform(train=True))\n",
        "  dataset_test = PennFudanDataset(root, get_transform(train=False))\n",
        "\n",
        "  # split the dataset in train and test set\n",
        "  indices = list(range(len(dataset)))\n",
        "  dataset = torch.utils.data.Subset(dataset, indices[:-50])\n",
        "  dataset_test = torch.utils.data.Subset(dataset_test, indices[-50:])\n",
        "\n",
        "  # define training and validation data loaders\n",
        "  data_loader = torch.utils.data.DataLoader(\n",
        "      dataset, batch_size=2, shuffle=True, num_workers=4,\n",
        "      collate_fn=utils.collate_fn)\n",
        "\n",
        "  data_loader_test = torch.utils.data.DataLoader(\n",
        "      dataset_test, batch_size=1, shuffle=False, num_workers=4,\n",
        "      collate_fn=utils.collate_fn)\n",
        "  return data_loader, data_loader_test\n"
      ],
      "execution_count": 8,
      "outputs": []
    },
    {
      "cell_type": "code",
      "metadata": {
        "id": "8YztgWHcMXWi"
      },
      "source": [
        "class PennFudanDataset(torch.utils.data.Dataset):\n",
        "    '''\n",
        "    PennFudanPed/\n",
        "      PedMasks/\n",
        "        FudanPed00001_mask.png\n",
        "        FudanPed00002_mask.png\n",
        "        FudanPed00003_mask.png\n",
        "        FudanPed00004_mask.png\n",
        "        ...\n",
        "      PNGImages/\n",
        "        FudanPed00001.png\n",
        "        FudanPed00002.png\n",
        "        FudanPed00003.png\n",
        "        FudanPed00004.png\n",
        "    '''\n",
        "    def __init__(self, root, transforms):\n",
        "        self.root = root\n",
        "        self.transforms = transforms\n",
        "        # load all image files, sorting them to\n",
        "        # ensure that they are aligned\n",
        "        self.imgs = list(sorted(os.listdir(os.path.join(root, \"PNGImages\"))))\n",
        "        self.masks = list(sorted(os.listdir(os.path.join(root, \"PedMasks\"))))\n",
        "\n",
        "    def __getitem__(self, idx):\n",
        "        # load images and masks\n",
        "        img_path = os.path.join(self.root, \"PNGImages\", self.imgs[idx])\n",
        "        mask_path = os.path.join(self.root, \"PedMasks\", self.masks[idx])\n",
        "\n",
        "        img = Image.open(img_path).convert(\"RGB\")\n",
        "        mask = Image.open(mask_path)  # mask --> 0 : 배경, 1,2,3,... : 보행자 \n",
        "        mask = np.array(mask) # convert the PIL Image into a numpy array\n",
        "        \n",
        "        obj_ids = np.unique(mask)\n",
        "        obj_ids = obj_ids[1:] # index 0 은 배경이라서 제거\n",
        "        masks = mask == obj_ids[:, None, None]\n",
        "\n",
        "        # mask 로부터 box를 생성  (left, top, right, bottom)\n",
        "        num_objs = len(obj_ids) \n",
        "        boxes = []\n",
        "        for i in range(num_objs):\n",
        "            pos = np.where(masks[i])\n",
        "            xmin = np.min(pos[1])\n",
        "            xmax = np.max(pos[1])\n",
        "            ymin = np.min(pos[0])\n",
        "            ymax = np.max(pos[0])\n",
        "            boxes.append([xmin, ymin, xmax, ymax])\n",
        "\n",
        "        # torch tensor 로 변환\n",
        "        boxes = torch.as_tensor(boxes, dtype=torch.float32)\n",
        "  \n",
        "        labels = torch.ones((num_objs,), dtype=torch.int64)\n",
        "        masks = torch.as_tensor(masks, dtype=torch.uint8)\n",
        "\n",
        "        image_id = torch.tensor([idx])\n",
        "        area = (boxes[:, 3] - boxes[:, 1]) * (boxes[:, 2] - boxes[:, 0])\n",
        "        # suppose all instances are not crowd\n",
        "        iscrowd = torch.zeros((num_objs,), dtype=torch.int64)\n",
        "\n",
        "        target = {}\n",
        "        target[\"boxes\"] = boxes\n",
        "        target[\"labels\"] = labels\n",
        "        target[\"masks\"] = masks\n",
        "        target[\"image_id\"] = image_id\n",
        "        target[\"area\"] = area\n",
        "        target[\"iscrowd\"] = iscrowd\n",
        "\n",
        "\n",
        "        # 데이터 변환\n",
        "        # data augmentation, numpy array--> torch tensor, 기타등등....\n",
        "        if self.transforms is not None:\n",
        "            img, target = self.transforms(img, target)\n",
        "        return img, target\n",
        "\n",
        "    def __len__(self):\n",
        "        return len(self.imgs)"
      ],
      "execution_count": 9,
      "outputs": []
    },
    {
      "cell_type": "code",
      "metadata": {
        "id": "YiFF50PAYJXz"
      },
      "source": [
        "def get_transform(train): # T 는 외부에서 불러오는 함수. clone 한 github code 에 포함\n",
        "    transforms = []\n",
        "    transforms.append(T.ToTensor())\n",
        "    if train:\n",
        "        transforms.append(T.RandomHorizontalFlip(0.5))\n",
        "    return T.Compose(transforms)"
      ],
      "execution_count": 10,
      "outputs": []
    },
    {
      "cell_type": "code",
      "metadata": {
        "colab": {
          "base_uri": "https://localhost:8080/",
          "height": 558
        },
        "id": "E37xDYqoh8cY",
        "outputId": "450acd22-fa99-4385-8f88-a6ea7d3ff319"
      },
      "source": [
        "# 데이터 테스트 출력\n",
        "def tmp_test_dataloader():\n",
        "  import cv2\n",
        "  import matplotlib.pyplot as plt\n",
        "\n",
        "  # 박스 시각화\n",
        "  def makeBox(voc_im, bbox):\n",
        "    image = voc_im.copy()\n",
        "    for i in range(len(bbox)):\n",
        "      cv2.rectangle(image,(int(bbox[i][0]),int(bbox[i][1])),(int(bbox[i][2]),int(bbox[i][3])),color = (0,255,0),thickness = 1)\n",
        "    return image\n",
        "\n",
        "\n",
        "  dataset = PennFudanDataset('PennFudanPed', get_transform(train=True))\n",
        "  dataloader = torch.utils.data.DataLoader(dataset, shuffle=True)\n",
        "\n",
        "  for i, (image, targets) in enumerate(dataloader):\n",
        "    test_image = image\n",
        "    test_target = targets\n",
        "    if i == 0 : break\n",
        "\n",
        "  print(test_target)\n",
        "\n",
        "  plot_image = makeBox(test_image.squeeze(0).permute(1,2,0).numpy(),test_target['boxes'].squeeze(0))\n",
        "  plt.imshow(plot_image)\n",
        "\n",
        "tmp_test_dataloader()"
      ],
      "execution_count": 11,
      "outputs": [
        {
          "output_type": "stream",
          "name": "stderr",
          "text": [
            "Clipping input data to the valid range for imshow with RGB data ([0..1] for floats or [0..255] for integers).\n"
          ]
        },
        {
          "output_type": "stream",
          "name": "stdout",
          "text": [
            "{'boxes': tensor([[[123.,  31., 264., 326.],\n",
            "         [248.,  21., 334., 298.]]]), 'labels': tensor([[1, 1]]), 'masks': tensor([[[[0, 0, 0,  ..., 0, 0, 0],\n",
            "          [0, 0, 0,  ..., 0, 0, 0],\n",
            "          [0, 0, 0,  ..., 0, 0, 0],\n",
            "          ...,\n",
            "          [0, 0, 0,  ..., 0, 0, 0],\n",
            "          [0, 0, 0,  ..., 0, 0, 0],\n",
            "          [0, 0, 0,  ..., 0, 0, 0]],\n",
            "\n",
            "         [[0, 0, 0,  ..., 0, 0, 0],\n",
            "          [0, 0, 0,  ..., 0, 0, 0],\n",
            "          [0, 0, 0,  ..., 0, 0, 0],\n",
            "          ...,\n",
            "          [0, 0, 0,  ..., 0, 0, 0],\n",
            "          [0, 0, 0,  ..., 0, 0, 0],\n",
            "          [0, 0, 0,  ..., 0, 0, 0]]]], dtype=torch.uint8), 'image_id': tensor([[156]]), 'area': tensor([[41595., 23822.]]), 'iscrowd': tensor([[0, 0]])}\n"
          ]
        },
        {
          "output_type": "display_data",
          "data": {
            "image/png": "[encoded data removed]",
            "text/plain": [
              "<Figure size 432x288 with 1 Axes>"
            ]
          },
          "metadata": {
            "needs_background": "light"
          }
        }
      ]
    },
    {
      "cell_type": "code",
      "metadata": {
        "id": "gEfwd26BjL3P"
      },
      "source": [
        "def create_faster_rcnn():\n",
        "    # backbone\n",
        "    resnet = torchvision.models.resnet50(pretrained=True)\n",
        "    backbone = nn.Sequential(\n",
        "        resnet.conv1, resnet.bn1, resnet.relu, resnet.maxpool,\n",
        "        resnet.layer1, resnet.layer2, resnet.layer3, resnet.layer4\n",
        "    )\n",
        "    backbone.out_channels = 2048\n",
        "\n",
        "\n",
        "    # anchor generator\n",
        "    rpn_anchor_generator = AnchorGenerator(\n",
        "        sizes=((32, 64, 128, 256, 512),), aspect_ratios=((0.5, 1.0, 2.0),))\n",
        "\n",
        "    # RPN head\n",
        "    num_anchors = 5 * 3\n",
        "    in_channels = backbone.out_channels\n",
        "    rpn_head = RPNHead(in_channels, num_anchors)\n",
        "\n",
        "    # roi pooler\n",
        "    roi_pooler = torchvision.ops.MultiScaleRoIAlign(\n",
        "        featmap_names=['0'], output_size=7, sampling_ratio=2)\n",
        "\n",
        "    # roi head, box base, two mlp head\n",
        "    in_channles = 7 * 7 * backbone.out_channels\n",
        "    representation_size = 2048\n",
        "    box_base = TwoMLPHead(in_channels=in_channles,\n",
        "                          representation_size=representation_size)\n",
        "    \n",
        "    # fast rcnn predictor, box predictor\n",
        "    num_classes = 2\n",
        "    box_predictor = FastRCNNPredictor(in_channels=representation_size, num_classes=num_classes)\n",
        "\n",
        "    # put the pieces together inside a FasterRCNN model\n",
        "    model = FasterRCNN(backbone,\n",
        "                       # num_classes=2,\n",
        "                       rpn_head=rpn_head,\n",
        "                       rpn_anchor_generator=rpn_anchor_generator,\n",
        "                       box_roi_pool=roi_pooler,\n",
        "                       box_head=box_base,\n",
        "                       box_predictor=box_predictor)\n",
        "    return model"
      ],
      "execution_count": 12,
      "outputs": []
    },
    {
      "cell_type": "code",
      "source": [
        "# faster rcnn inference example\n",
        "\n",
        "from collections import OrderedDict\n",
        "from torchvision.models.detection.image_list import ImageList\n",
        "\n",
        "\n",
        "# assume that original image size : (256, 768) \n",
        "@torch.no_grad()\n",
        "def tmp_test_FasterRCNN():\n",
        "  faster_rcnn = create_faster_rcnn().eval()\n",
        "  dummy_img = torch.ones((1, 3, 256, 768))\n",
        "  dummy_img_list = ImageList(dummy_img, [(256, 768)])\n",
        "\n",
        "  print(f'{\"image shape : \" :>25}', dummy_img.shape)\n",
        "  features = faster_rcnn.backbone(dummy_img_list.tensors)\n",
        "  print(f'{\"feature shape : \" :>25}', features.shape)\n",
        "  if isinstance(features, torch.Tensor):\n",
        "      features = OrderedDict([(\"0\", features)])\n",
        "\n",
        "\n",
        "  proposals, _ = faster_rcnn.rpn(dummy_img_list, features)\n",
        "  print(f'{\"proposal shape : \" :>25}', proposals[0].shape)\n",
        "\n",
        "  box_features = faster_rcnn.roi_heads.box_roi_pool(features, proposals, dummy_img_list.image_sizes)\n",
        "  print(f'{\"roi pooling result : \" :>25}', box_features.shape)\n",
        "\n",
        "  box_features = faster_rcnn.roi_heads.box_head(box_features)\n",
        "  print(f'{\"box head output : \" :>25}', box_features.shape, '\\n')\n",
        "\n",
        "  class_logits, box_regression = faster_rcnn.roi_heads.box_predictor(box_features)\n",
        "  boxes, scores, labels = faster_rcnn.roi_heads.postprocess_detections(\n",
        "      class_logits, box_regression, proposals, dummy_img_list.image_sizes)\n",
        "  print(f'{\"final output shape : \" :>25}')\n",
        "  print('\\tboxes :', boxes[0].shape, '\\te.g.', boxes[0][0])\n",
        "  print('\\tlabels :', labels[0].shape, '\\te.g.', labels[0][0])\n",
        "  print('\\tscores :', scores[0].shape, '\\te.g.', scores[0][0])\n",
        "  print('\\tThis output is the result including post-processing such as NMS and Thresholding.')\n",
        "\n",
        "tmp_test_FasterRCNN()"
      ],
      "metadata": {
        "colab": {
          "base_uri": "https://localhost:8080/",
          "height": 287,
          "referenced_widgets": [
            "0bf42bdad2cd475b8b9f9cffbc9d2712",
            "6585475e10bf42cbade9118c5854342e",
            "c77d9c6c6d7d4165af50dce2b8ab2263",
            "87a7accb5b3b4428b733863fce820f2e",
            "adddf987a8f34d4d8b1a778302d029ec",
            "99d9d458d2704526953cd6191c00a111",
            "b82d9ac47572416db0d8c2cd82c88598",
            "ac5829daac384fb1aea32e27b71075b0",
            "12a3194a44fe4ac896f1d8bdef857eb7",
            "c56e668678ec4b91afa1655814334287",
            "59fb236c8e40435cbfda8ef3a49fe4ff"
          ]
        },
        "id": "CJTqZcJ2a70u",
        "outputId": "f78ba67d-8c07-4672-99eb-fb131ff3498e"
      },
      "execution_count": 13,
      "outputs": [
        {
          "output_type": "stream",
          "name": "stderr",
          "text": [
            "Downloading: \"https://download.pytorch.org/models/resnet50-0676ba61.pth\" to /root/.cache/torch/hub/checkpoints/resnet50-0676ba61.pth\n"
          ]
        },
        {
          "output_type": "display_data",
          "data": {
            "application/vnd.jupyter.widget-view+json": {
              "model_id": "0bf42bdad2cd475b8b9f9cffbc9d2712",
              "version_minor": 0,
              "version_major": 2
            },
            "text/plain": [
              "  0%|          | 0.00/97.8M [00:00<?, ?B/s]"
            ]
          },
          "metadata": {}
        },
        {
          "output_type": "stream",
          "name": "stdout",
          "text": [
            "           image shape :  torch.Size([1, 3, 256, 768])\n",
            "         feature shape :  torch.Size([1, 2048, 8, 24])\n"
          ]
        },
        {
          "output_type": "stream",
          "name": "stderr",
          "text": [
            "/usr/local/lib/python3.7/dist-packages/torch/functional.py:445: UserWarning: torch.meshgrid: in an upcoming release, it will be required to pass the indexing argument. (Triggered internally at  ../aten/src/ATen/native/TensorShape.cpp:2157.)\n",
            "  return _VF.meshgrid(tensors, **kwargs)  # type: ignore[attr-defined]\n"
          ]
        },
        {
          "output_type": "stream",
          "name": "stdout",
          "text": [
            "        proposal shape :  torch.Size([468, 4])\n",
            "    roi pooling result :  torch.Size([468, 2048, 7, 7])\n",
            "       box head output :  torch.Size([468, 2048]) \n",
            "\n",
            "    final output shape : \n",
            "\tboxes : torch.Size([100, 4]) \te.g. tensor([119.3547,   0.0000, 567.4575, 256.0000])\n",
            "\tlabels : torch.Size([100]) \te.g. tensor(1)\n",
            "\tscores : torch.Size([100]) \te.g. tensor(0.5290)\n",
            "\tThis output is the result including post-processing such as NMS and Thresholding.\n"
          ]
        }
      ]
    },
    {
      "cell_type": "code",
      "metadata": {
        "id": "MTIdxOdJKYC7",
        "colab": {
          "base_uri": "https://localhost:8080/"
        },
        "outputId": "43f0b848-b538-4e5e-a055-c2585d7a6211"
      },
      "source": [
        "@torch.no_grad()\n",
        "def tmp_test_backbone():\n",
        "  resnet = torchvision.models.resnet50(pretrained=True)\n",
        "  backbone = nn.Sequential(\n",
        "      resnet.conv1, resnet.bn1, resnet.relu, resnet.maxpool,\n",
        "      resnet.layer1, resnet.layer2, resnet.layer3, resnet.layer4,\n",
        "  )\n",
        "\n",
        "  input_img = torch.rand(8, 3, 800, 800)\n",
        "  output_feature = backbone(input_img)\n",
        "  print('input : image batch {}'.format(input_img.shape))\n",
        "  print('output : backbone feature {}'.format(output_feature.shape))\n",
        "\n",
        "tmp_test_backbone()"
      ],
      "execution_count": 14,
      "outputs": [
        {
          "output_type": "stream",
          "name": "stdout",
          "text": [
            "input : image batch torch.Size([8, 3, 800, 800])\n",
            "output : backbone feature torch.Size([8, 2048, 25, 25])\n"
          ]
        }
      ]
    },
    {
      "cell_type": "code",
      "metadata": {
        "id": "LxHmHs0gjiGU",
        "colab": {
          "base_uri": "https://localhost:8080/",
          "height": 575
        },
        "outputId": "5323a286-4d9d-4c17-d0be-90964d08d7bc"
      },
      "source": [
        "@torch.no_grad()\n",
        "def tmp_test_anchor_generator(draw_index):\n",
        "  import cv2\n",
        "  import matplotlib.pyplot as plt\n",
        "\n",
        "  rpn_anchor_generator = AnchorGenerator(\n",
        "        sizes=((32, 64, 128, 256, 512),), aspect_ratios=((0.5, 1.0, 2.0),))\n",
        "  rpn_anchor_generator.to('cpu')\n",
        "  \n",
        "  images = torch.rand(1, 3, 800, 800)\n",
        "  features = torch.rand(1, 2048, 25, 25)\n",
        "\n",
        "  from torchvision.models.detection.image_list import ImageList\n",
        "  images = ImageList(images, [(800, 800)])\n",
        "\n",
        "  anchors = rpn_anchor_generator(images, features)\n",
        "\n",
        "  print('input : images, features  {}, {}'.format(images.tensors.shape, features.shape))\n",
        "  print('output : anchors  {}'.format(anchors[0].shape)) # 9,375 == 25x25 x 15\n",
        "  \n",
        "  draw_img = torch.zeros(800, 800, 3).numpy()\n",
        "  # 박스 시각화\n",
        "  def makeBox(voc_im, bbox):\n",
        "    image = voc_im.copy()\n",
        "    for i in range(len(bbox)):\n",
        "      cv2.rectangle(image,(int(bbox[i][0]),int(bbox[i][1])),(int(bbox[i][2]),int(bbox[i][3])),color = (0,255,0),thickness = 2)\n",
        "    return image\n",
        "\n",
        "  selected_boxes = anchors[0][15*draw_index:15*(draw_index+1)]\n",
        "\n",
        "  print(selected_boxes)\n",
        "  plot_image = makeBox(draw_img, selected_boxes)\n",
        "  plt.imshow(plot_image)\n",
        "\n",
        "tmp_test_anchor_generator(440) # 0, 1, 2, 3, ... ,  25*25-2, 25*25-1 까지"
      ],
      "execution_count": 15,
      "outputs": [
        {
          "output_type": "stream",
          "name": "stderr",
          "text": [
            "Clipping input data to the valid range for imshow with RGB data ([0..1] for floats or [0..255] for integers).\n"
          ]
        },
        {
          "output_type": "stream",
          "name": "stdout",
          "text": [
            "input : images, features  torch.Size([1, 3, 800, 800]), torch.Size([1, 2048, 25, 25])\n",
            "output : anchors  torch.Size([9375, 4])\n",
            "tensor([[457., 533., 503., 555.],\n",
            "        [435., 521., 525., 567.],\n",
            "        [389., 499., 571., 589.],\n",
            "        [299., 453., 661., 635.],\n",
            "        [118., 363., 842., 725.],\n",
            "        [464., 528., 496., 560.],\n",
            "        [448., 512., 512., 576.],\n",
            "        [416., 480., 544., 608.],\n",
            "        [352., 416., 608., 672.],\n",
            "        [224., 288., 736., 800.],\n",
            "        [469., 521., 491., 567.],\n",
            "        [457., 499., 503., 589.],\n",
            "        [435., 453., 525., 635.],\n",
            "        [389., 363., 571., 725.],\n",
            "        [299., 182., 661., 906.]])\n"
          ]
        },
        {
          "output_type": "display_data",
          "data": {
            "image/png": "[encoded data removed]",
            "text/plain": [
              "<Figure size 432x288 with 1 Axes>"
            ]
          },
          "metadata": {
            "needs_background": "light"
          }
        }
      ]
    },
    {
      "cell_type": "code",
      "metadata": {
        "id": "QaeSLBkKLOvC",
        "colab": {
          "base_uri": "https://localhost:8080/"
        },
        "outputId": "493dccae-55bb-4807-9d71-4a261ea6c289"
      },
      "source": [
        "@torch.no_grad()\n",
        "def tmp_test_RPNHead():\n",
        "  rpn_head = RPNHead(in_channels=2048, num_anchors=5*3) # 2048 : backbone의 output channel\n",
        "\n",
        "  backbone_feature_map = torch.rand(8, 2048, 25, 25)\n",
        "\n",
        "  prob, box_delta = rpn_head([backbone_feature_map])\n",
        "  print('intput : backbone feature {}'.format(backbone_feature_map.shape))\n",
        "  print('output : prob {}  and  box_delta {}'.format(prob[0].shape, box_delta[0].shape))\n",
        "\n",
        "tmp_test_RPNHead()"
      ],
      "execution_count": 16,
      "outputs": [
        {
          "output_type": "stream",
          "name": "stdout",
          "text": [
            "intput : backbone feature torch.Size([8, 2048, 25, 25])\n",
            "output : prob torch.Size([8, 15, 25, 25])  and  box_delta torch.Size([8, 60, 25, 25])\n"
          ]
        }
      ]
    },
    {
      "cell_type": "code",
      "metadata": {
        "id": "yVY0KOJTMloS",
        "colab": {
          "base_uri": "https://localhost:8080/"
        },
        "outputId": "abb3f8cd-1907-4ea5-a147-272fb7c7b2ef"
      },
      "source": [
        "@torch.no_grad()\n",
        "def tmp_test_RoIAlign():\n",
        "  roi_pooler = torchvision.ops.MultiScaleRoIAlign(\n",
        "          featmap_names=['0'], output_size=7, sampling_ratio=2)\n",
        "\n",
        "  backbone_feature_map = torch.rand(8, 2048, 25, 25)\n",
        "  box_of_rpn = [torch.randint(0, 800, size=(100, 4)).float()] * 8   # 8:batch size\n",
        "  print('[input]')\n",
        "  print('backbone feature  {}'.format(backbone_feature_map.shape))\n",
        "  print('box :  batch {}  and  shape : {}'.format(len(box_of_rpn), box_of_rpn[0].shape))\n",
        "  print()\n",
        "  print('output : ', roi_pooler(\n",
        "      x={'0': backbone_feature_map},\n",
        "      boxes=box_of_rpn,\n",
        "      image_shapes=[(800, 800)] * 8).shape)\n",
        "  \n",
        "tmp_test_RoIAlign()"
      ],
      "execution_count": 17,
      "outputs": [
        {
          "output_type": "stream",
          "name": "stdout",
          "text": [
            "[input]\n",
            "backbone feature  torch.Size([8, 2048, 25, 25])\n",
            "box :  batch 8  and  shape : torch.Size([100, 4])\n",
            "\n",
            "output :  torch.Size([800, 2048, 7, 7])\n"
          ]
        }
      ]
    },
    {
      "cell_type": "code",
      "metadata": {
        "id": "-mK3fj7uPSgq",
        "colab": {
          "base_uri": "https://localhost:8080/"
        },
        "outputId": "76238ada-9093-4fc6-92d1-4080c798e8aa"
      },
      "source": [
        "@torch.no_grad()\n",
        "def tmp_test_boxbase():\n",
        "  box_base = TwoMLPHead(in_channels=7*7*2048,\n",
        "                            representation_size=2048)\n",
        "\n",
        "  roi_pooling_result = torch.rand(800, 2048, 7, 7)\n",
        "  output = box_base(roi_pooling_result)\n",
        "\n",
        "  print('input : roi pooling result  {}'.format(roi_pooling_result.shape))\n",
        "  print('output : box base feature  {}'.format(output.shape))\n",
        "\n",
        "tmp_test_boxbase()"
      ],
      "execution_count": 18,
      "outputs": [
        {
          "output_type": "stream",
          "name": "stdout",
          "text": [
            "input : roi pooling result  torch.Size([800, 2048, 7, 7])\n",
            "output : box base feature  torch.Size([800, 2048])\n"
          ]
        }
      ]
    },
    {
      "cell_type": "code",
      "metadata": {
        "id": "QniVkdnZPSqb",
        "colab": {
          "base_uri": "https://localhost:8080/"
        },
        "outputId": "ec3e1d9e-5d91-4b9b-8a77-91de1b78f009"
      },
      "source": [
        "@torch.no_grad()\n",
        "def tmp_test_boxpredictor():\n",
        "  num_classes = 81 # e.g. coco : 80 class + 1 background\n",
        "  box_predictor = FastRCNNPredictor(in_channels=2048, num_classes=num_classes)\n",
        "\n",
        "  box_base_result = torch.rand(800, 2048)\n",
        "  prob, box_delta = box_predictor(box_base_result)\n",
        "\n",
        "  print('input : roi pooling result  {}'.format(box_base_result.shape))\n",
        "  print('output : box prob  {}   and    box delta {}'.format(prob.shape, box_delta.shape))\n",
        "\n",
        "tmp_test_boxpredictor()"
      ],
      "execution_count": 19,
      "outputs": [
        {
          "output_type": "stream",
          "name": "stdout",
          "text": [
            "input : roi pooling result  torch.Size([800, 2048])\n",
            "output : box prob  torch.Size([800, 81])   and    box delta torch.Size([800, 324])\n"
          ]
        }
      ]
    },
    {
      "cell_type": "code",
      "metadata": {
        "id": "byx5-IJfh5MK"
      },
      "source": [
        "def create_pretrained_faster_rcnn():\n",
        "    # COCO 에서 학습된 weight 를 불러오기\n",
        "    model = torchvision.models.detection.fasterrcnn_resnet50_fpn(pretrained=True)\n",
        "\n",
        "    # COCO는 80 클래스. 클래스 개수가 달라졌기에 클래스 분류 layer 를 교체해줘야 함.\n",
        "    num_classes = 2  # 1 class (person) + background\n",
        "    in_features = model.roi_heads.box_predictor.cls_score.in_features\n",
        "    model.roi_heads.box_predictor = FastRCNNPredictor(in_features, num_classes)\n",
        "    return model"
      ],
      "execution_count": 20,
      "outputs": []
    },
    {
      "cell_type": "code",
      "metadata": {
        "id": "-bOQyjbUkWSR"
      },
      "source": [
        "def create_pretrained_ssd():\n",
        "    model = torchvision.models.detection.ssdlite320_mobilenet_v3_large(pretrained=True)\n",
        "    # feature_maps = model.backbone(torch.rand(4, 3, 320, 320))\n",
        "    # print(len(feature_maps), feature_maps.keys())\n",
        "    # print(feature_maps['0'].shape, feature_maps['1'].shape, feature_maps['2'].shape,\n",
        "    #       feature_maps['3'].shape, feature_maps['4'].shape, feature_maps['5'].shape)\n",
        "    # out = model.head(list(feature_maps.values()))\n",
        "    # print(out['bbox_regression'].shape, out['cls_logits'].shape)\n",
        "    return model"
      ],
      "execution_count": 21,
      "outputs": []
    },
    {
      "cell_type": "code",
      "metadata": {
        "id": "7CyE7hl2jZcp"
      },
      "source": [
        "def train_one_epoch(model, optimizer, data_loader, device, epoch, print_freq):\n",
        "    model.train()\n",
        "\n",
        "    metric_logger = utils.MetricLogger(delimiter=\"  \") # 학습할 때 가독성 좋은 log 를 위해 사용\n",
        "    metric_logger.add_meter('lr', utils.SmoothedValue(window_size=1, fmt='{value:.6f}'))\n",
        "    header = 'Epoch: [{}]'.format(epoch)\n",
        "\n",
        "    for images, targets in metric_logger.log_every(data_loader, print_freq, header):\n",
        "        # train 할 때는 input image 와 target 이 필요\n",
        "        # 현재 사용하는 네트워크에 맞게 transform\n",
        "        images = list(image.to(device) for image in images)\n",
        "        targets = [{k: v.to(device) for k, v in t.items()} for t in targets]\n",
        "\n",
        "        loss_dict = model(images, targets)\n",
        "\n",
        "        # loss 계산 후 backward  &  파라미터 update\n",
        "        losses = sum(loss for loss in loss_dict.values())\n",
        "        optimizer.zero_grad()\n",
        "        losses.backward()\n",
        "        optimizer.step()\n",
        "\n",
        "        if not math.isfinite(losses.item()): # loss 가 무한대 되면 강제 정지\n",
        "            print(\"Loss is {}, stopping training\".format(losses.item()))\n",
        "            print(loss_dict)\n",
        "            sys.exit(1)\n",
        "\n",
        "        # 학습 과정 log\n",
        "        metric_logger.update(loss=losses, **loss_dict)\n",
        "        metric_logger.update(lr=optimizer.param_groups[0][\"lr\"])"
      ],
      "execution_count": 22,
      "outputs": []
    },
    {
      "cell_type": "code",
      "source": [
        "torch.cuda.is_available()"
      ],
      "metadata": {
        "colab": {
          "base_uri": "https://localhost:8080/"
        },
        "id": "-kXBjY5SaWPP",
        "outputId": "0e9de08c-1cb9-40d8-ac80-e0d98b644b08"
      },
      "execution_count": 23,
      "outputs": [
        {
          "output_type": "execute_result",
          "data": {
            "text/plain": [
              "True"
            ]
          },
          "metadata": {},
          "execution_count": 23
        }
      ]
    },
    {
      "cell_type": "code",
      "metadata": {
        "colab": {
          "base_uri": "https://localhost:8080/"
        },
        "id": "18VZbStUkfCZ",
        "outputId": "c17086ef-c410-471d-9058-086ad21a1dfb"
      },
      "source": [
        "if __name__ == \"__main__\":\n",
        "    model = main(model_name='faster_rcnn', num_epochs=5)\n",
        "    '''\n",
        "    model_name\n",
        "        faster_rcnn : full modeling and weight initialization\n",
        "        pretrained_faster_rcnn : coco-pretrained. faster rcnn\n",
        "        pretrained_ssd : coco-trained. ssdlite320_mobilenet_v3_large\n",
        "    '''"
      ],
      "execution_count": 24,
      "outputs": [
        {
          "output_type": "stream",
          "name": "stderr",
          "text": [
            "/usr/local/lib/python3.7/dist-packages/torch/utils/data/dataloader.py:481: UserWarning: This DataLoader will create 4 worker processes in total. Our suggested max number of worker in current system is 2, which is smaller than what this DataLoader is going to create. Please be aware that excessive worker creation might get DataLoader running slow or even freeze, lower the worker number to avoid potential slowness/freeze if necessary.\n",
            "  cpuset_checked))\n"
          ]
        },
        {
          "output_type": "stream",
          "name": "stdout",
          "text": [
            "Epoch: [0]  [ 0/60]  eta: 0:01:30  lr: 0.005000  loss: 1.5400 (1.5400)  loss_classifier: 0.7355 (0.7355)  loss_box_reg: 0.0189 (0.0189)  loss_objectness: 0.7445 (0.7445)  loss_rpn_box_reg: 0.0411 (0.0411)  time: 1.5140  data: 0.3249  max mem: 5106\n",
            "Epoch: [0]  [10/60]  eta: 0:00:45  lr: 0.005000  loss: 0.8595 (0.8736)  loss_classifier: 0.2160 (0.3285)  loss_box_reg: 0.0929 (0.1225)  loss_objectness: 0.2861 (0.3679)  loss_rpn_box_reg: 0.0556 (0.0546)  time: 0.9183  data: 0.0385  max mem: 8249\n",
            "Epoch: [0]  [20/60]  eta: 0:00:36  lr: 0.005000  loss: 0.6714 (0.7788)  loss_classifier: 0.2238 (0.2985)  loss_box_reg: 0.1816 (0.1794)  loss_objectness: 0.1707 (0.2449)  loss_rpn_box_reg: 0.0477 (0.0560)  time: 0.8720  data: 0.0091  max mem: 8250\n",
            "Epoch: [0]  [30/60]  eta: 0:00:26  lr: 0.005000  loss: 0.5183 (0.6958)  loss_classifier: 0.2238 (0.2733)  loss_box_reg: 0.1901 (0.1780)  loss_objectness: 0.0790 (0.1919)  loss_rpn_box_reg: 0.0411 (0.0527)  time: 0.8670  data: 0.0083  max mem: 8250\n",
            "Epoch: [0]  [40/60]  eta: 0:00:17  lr: 0.005000  loss: 0.5025 (0.6486)  loss_classifier: 0.2062 (0.2560)  loss_box_reg: 0.1725 (0.1823)  loss_objectness: 0.0657 (0.1605)  loss_rpn_box_reg: 0.0343 (0.0498)  time: 0.8669  data: 0.0084  max mem: 8813\n",
            "Epoch: [0]  [50/60]  eta: 0:00:08  lr: 0.005000  loss: 0.4276 (0.6073)  loss_classifier: 0.1747 (0.2401)  loss_box_reg: 0.1716 (0.1813)  loss_objectness: 0.0439 (0.1381)  loss_rpn_box_reg: 0.0390 (0.0478)  time: 0.8880  data: 0.0087  max mem: 8853\n",
            "Epoch: [0]  [59/60]  eta: 0:00:00  lr: 0.005000  loss: 0.4112 (0.5835)  loss_classifier: 0.1705 (0.2299)  loss_box_reg: 0.1716 (0.1839)  loss_objectness: 0.0381 (0.1235)  loss_rpn_box_reg: 0.0402 (0.0461)  time: 0.8850  data: 0.0078  max mem: 8853\n",
            "Epoch: [0] Total time: 0:00:53 (0.8890 s / it)\n",
            "creating index...\n",
            "index created!\n",
            "Test:  [ 0/50]  eta: 0:00:23  model_time: 0.2143 (0.2143)  evaluator_time: 0.0099 (0.0099)  time: 0.4760  data: 0.2499  max mem: 8853\n",
            "Test:  [49/50]  eta: 0:00:00  model_time: 0.1274 (0.1283)  evaluator_time: 0.0049 (0.0066)  time: 0.1360  data: 0.0036  max mem: 8853\n",
            "Test: Total time: 0:00:07 (0.1474 s / it)\n",
            "Averaged stats: model_time: 0.1274 (0.1283)  evaluator_time: 0.0049 (0.0066)\n",
            "Accumulating evaluation results...\n",
            "DONE (t=0.03s).\n",
            "IoU metric: bbox\n",
            " Average Precision  (AP) @[ IoU=0.50:0.95 | area=   all | maxDets=100 ] = 0.138\n",
            " Average Precision  (AP) @[ IoU=0.50      | area=   all | maxDets=100 ] = 0.446\n",
            " Average Precision  (AP) @[ IoU=0.75      | area=   all | maxDets=100 ] = 0.025\n",
            " Average Precision  (AP) @[ IoU=0.50:0.95 | area= small | maxDets=100 ] = -1.000\n",
            " Average Precision  (AP) @[ IoU=0.50:0.95 | area=medium | maxDets=100 ] = 0.083\n",
            " Average Precision  (AP) @[ IoU=0.50:0.95 | area= large | maxDets=100 ] = 0.147\n",
            " Average Recall     (AR) @[ IoU=0.50:0.95 | area=   all | maxDets=  1 ] = 0.071\n",
            " Average Recall     (AR) @[ IoU=0.50:0.95 | area=   all | maxDets= 10 ] = 0.383\n",
            " Average Recall     (AR) @[ IoU=0.50:0.95 | area=   all | maxDets=100 ] = 0.424\n",
            " Average Recall     (AR) @[ IoU=0.50:0.95 | area= small | maxDets=100 ] = -1.000\n",
            " Average Recall     (AR) @[ IoU=0.50:0.95 | area=medium | maxDets=100 ] = 0.243\n",
            " Average Recall     (AR) @[ IoU=0.50:0.95 | area= large | maxDets=100 ] = 0.436\n",
            "Epoch: [1]  [ 0/60]  eta: 0:01:06  lr: 0.005000  loss: 0.3041 (0.3041)  loss_classifier: 0.1199 (0.1199)  loss_box_reg: 0.1318 (0.1318)  loss_objectness: 0.0158 (0.0158)  loss_rpn_box_reg: 0.0367 (0.0367)  time: 1.1053  data: 0.2383  max mem: 8853\n",
            "Epoch: [1]  [10/60]  eta: 0:00:45  lr: 0.005000  loss: 0.3536 (0.3546)  loss_classifier: 0.1199 (0.1198)  loss_box_reg: 0.1629 (0.1618)  loss_objectness: 0.0204 (0.0312)  loss_rpn_box_reg: 0.0357 (0.0417)  time: 0.9173  data: 0.0287  max mem: 8853\n",
            "Epoch: [1]  [20/60]  eta: 0:00:36  lr: 0.005000  loss: 0.3133 (0.3295)  loss_classifier: 0.0926 (0.1046)  loss_box_reg: 0.1405 (0.1492)  loss_objectness: 0.0263 (0.0305)  loss_rpn_box_reg: 0.0391 (0.0452)  time: 0.9051  data: 0.0081  max mem: 8853\n",
            "Epoch: [1]  [30/60]  eta: 0:00:28  lr: 0.005000  loss: 0.2727 (0.3078)  loss_classifier: 0.0717 (0.0963)  loss_box_reg: 0.1249 (0.1412)  loss_objectness: 0.0263 (0.0293)  loss_rpn_box_reg: 0.0375 (0.0411)  time: 0.9480  data: 0.0080  max mem: 9568\n",
            "Epoch: [1]  [40/60]  eta: 0:00:18  lr: 0.005000  loss: 0.2531 (0.3047)  loss_classifier: 0.0716 (0.0925)  loss_box_reg: 0.1208 (0.1399)  loss_objectness: 0.0260 (0.0310)  loss_rpn_box_reg: 0.0341 (0.0413)  time: 0.9520  data: 0.0084  max mem: 9568\n",
            "Epoch: [1]  [50/60]  eta: 0:00:09  lr: 0.005000  loss: 0.2531 (0.2954)  loss_classifier: 0.0683 (0.0869)  loss_box_reg: 0.1208 (0.1382)  loss_objectness: 0.0210 (0.0288)  loss_rpn_box_reg: 0.0379 (0.0414)  time: 0.9140  data: 0.0089  max mem: 9568\n",
            "Epoch: [1]  [59/60]  eta: 0:00:00  lr: 0.005000  loss: 0.2084 (0.2889)  loss_classifier: 0.0629 (0.0859)  loss_box_reg: 0.0973 (0.1325)  loss_objectness: 0.0205 (0.0295)  loss_rpn_box_reg: 0.0379 (0.0410)  time: 0.9076  data: 0.0080  max mem: 9568\n",
            "Epoch: [1] Total time: 0:00:55 (0.9288 s / it)\n",
            "creating index...\n",
            "index created!\n",
            "Test:  [ 0/50]  eta: 0:00:24  model_time: 0.1997 (0.1997)  evaluator_time: 0.0044 (0.0044)  time: 0.4868  data: 0.2809  max mem: 9568\n",
            "Test:  [49/50]  eta: 0:00:00  model_time: 0.1263 (0.1289)  evaluator_time: 0.0026 (0.0035)  time: 0.1339  data: 0.0036  max mem: 9568\n",
            "Test: Total time: 0:00:07 (0.1454 s / it)\n",
            "Averaged stats: model_time: 0.1263 (0.1289)  evaluator_time: 0.0026 (0.0035)\n",
            "Accumulating evaluation results...\n",
            "DONE (t=0.02s).\n",
            "IoU metric: bbox\n",
            " Average Precision  (AP) @[ IoU=0.50:0.95 | area=   all | maxDets=100 ] = 0.255\n",
            " Average Precision  (AP) @[ IoU=0.50      | area=   all | maxDets=100 ] = 0.858\n",
            " Average Precision  (AP) @[ IoU=0.75      | area=   all | maxDets=100 ] = 0.050\n",
            " Average Precision  (AP) @[ IoU=0.50:0.95 | area= small | maxDets=100 ] = -1.000\n",
            " Average Precision  (AP) @[ IoU=0.50:0.95 | area=medium | maxDets=100 ] = 0.073\n",
            " Average Precision  (AP) @[ IoU=0.50:0.95 | area= large | maxDets=100 ] = 0.265\n",
            " Average Recall     (AR) @[ IoU=0.50:0.95 | area=   all | maxDets=  1 ] = 0.163\n",
            " Average Recall     (AR) @[ IoU=0.50:0.95 | area=   all | maxDets= 10 ] = 0.410\n",
            " Average Recall     (AR) @[ IoU=0.50:0.95 | area=   all | maxDets=100 ] = 0.431\n",
            " Average Recall     (AR) @[ IoU=0.50:0.95 | area= small | maxDets=100 ] = -1.000\n",
            " Average Recall     (AR) @[ IoU=0.50:0.95 | area=medium | maxDets=100 ] = 0.429\n",
            " Average Recall     (AR) @[ IoU=0.50:0.95 | area= large | maxDets=100 ] = 0.431\n",
            "Epoch: [2]  [ 0/60]  eta: 0:01:17  lr: 0.005000  loss: 0.2111 (0.2111)  loss_classifier: 0.0709 (0.0709)  loss_box_reg: 0.0993 (0.0993)  loss_objectness: 0.0136 (0.0136)  loss_rpn_box_reg: 0.0273 (0.0273)  time: 1.2918  data: 0.3188  max mem: 9568\n",
            "Epoch: [2]  [10/60]  eta: 0:00:46  lr: 0.005000  loss: 0.2394 (0.2738)  loss_classifier: 0.0806 (0.0871)  loss_box_reg: 0.1185 (0.1247)  loss_objectness: 0.0288 (0.0264)  loss_rpn_box_reg: 0.0327 (0.0356)  time: 0.9339  data: 0.0355  max mem: 9568\n",
            "Epoch: [2]  [20/60]  eta: 0:00:37  lr: 0.005000  loss: 0.2491 (0.2774)  loss_classifier: 0.0801 (0.0841)  loss_box_reg: 0.1005 (0.1241)  loss_objectness: 0.0288 (0.0305)  loss_rpn_box_reg: 0.0387 (0.0388)  time: 0.9200  data: 0.0077  max mem: 9568\n",
            "Epoch: [2]  [30/60]  eta: 0:00:28  lr: 0.005000  loss: 0.2524 (0.2818)  loss_classifier: 0.0823 (0.0859)  loss_box_reg: 0.1092 (0.1289)  loss_objectness: 0.0283 (0.0293)  loss_rpn_box_reg: 0.0387 (0.0377)  time: 0.9677  data: 0.0082  max mem: 9568\n",
            "Epoch: [2]  [40/60]  eta: 0:00:19  lr: 0.005000  loss: 0.2786 (0.2776)  loss_classifier: 0.0823 (0.0838)  loss_box_reg: 0.1401 (0.1306)  loss_objectness: 0.0194 (0.0289)  loss_rpn_box_reg: 0.0282 (0.0343)  time: 0.9711  data: 0.0081  max mem: 9568\n",
            "Epoch: [2]  [50/60]  eta: 0:00:09  lr: 0.005000  loss: 0.2503 (0.2706)  loss_classifier: 0.0731 (0.0804)  loss_box_reg: 0.1318 (0.1294)  loss_objectness: 0.0212 (0.0277)  loss_rpn_box_reg: 0.0241 (0.0332)  time: 0.9538  data: 0.0081  max mem: 9568\n",
            "Epoch: [2]  [59/60]  eta: 0:00:00  lr: 0.005000  loss: 0.2001 (0.2622)  loss_classifier: 0.0612 (0.0780)  loss_box_reg: 0.0972 (0.1274)  loss_objectness: 0.0201 (0.0260)  loss_rpn_box_reg: 0.0177 (0.0309)  time: 0.9492  data: 0.0077  max mem: 9568\n",
            "Epoch: [2] Total time: 0:00:57 (0.9560 s / it)\n",
            "creating index...\n",
            "index created!\n",
            "Test:  [ 0/50]  eta: 0:00:22  model_time: 0.2123 (0.2123)  evaluator_time: 0.0030 (0.0030)  time: 0.4597  data: 0.2425  max mem: 9568\n",
            "Test:  [49/50]  eta: 0:00:00  model_time: 0.1402 (0.1417)  evaluator_time: 0.0012 (0.0017)  time: 0.1469  data: 0.0037  max mem: 9568\n",
            "Test: Total time: 0:00:07 (0.1557 s / it)\n",
            "Averaged stats: model_time: 0.1402 (0.1417)  evaluator_time: 0.0012 (0.0017)\n",
            "Accumulating evaluation results...\n",
            "DONE (t=0.01s).\n",
            "IoU metric: bbox\n",
            " Average Precision  (AP) @[ IoU=0.50:0.95 | area=   all | maxDets=100 ] = 0.352\n",
            " Average Precision  (AP) @[ IoU=0.50      | area=   all | maxDets=100 ] = 0.827\n",
            " Average Precision  (AP) @[ IoU=0.75      | area=   all | maxDets=100 ] = 0.222\n",
            " Average Precision  (AP) @[ IoU=0.50:0.95 | area= small | maxDets=100 ] = -1.000\n",
            " Average Precision  (AP) @[ IoU=0.50:0.95 | area=medium | maxDets=100 ] = 0.201\n",
            " Average Precision  (AP) @[ IoU=0.50:0.95 | area= large | maxDets=100 ] = 0.362\n",
            " Average Recall     (AR) @[ IoU=0.50:0.95 | area=   all | maxDets=  1 ] = 0.209\n",
            " Average Recall     (AR) @[ IoU=0.50:0.95 | area=   all | maxDets= 10 ] = 0.503\n",
            " Average Recall     (AR) @[ IoU=0.50:0.95 | area=   all | maxDets=100 ] = 0.503\n",
            " Average Recall     (AR) @[ IoU=0.50:0.95 | area= small | maxDets=100 ] = -1.000\n",
            " Average Recall     (AR) @[ IoU=0.50:0.95 | area=medium | maxDets=100 ] = 0.314\n",
            " Average Recall     (AR) @[ IoU=0.50:0.95 | area= large | maxDets=100 ] = 0.515\n",
            "Epoch: [3]  [ 0/60]  eta: 0:01:23  lr: 0.005000  loss: 0.4444 (0.4444)  loss_classifier: 0.1215 (0.1215)  loss_box_reg: 0.2519 (0.2519)  loss_objectness: 0.0359 (0.0359)  loss_rpn_box_reg: 0.0351 (0.0351)  time: 1.3947  data: 0.3316  max mem: 9568\n",
            "Epoch: [3]  [10/60]  eta: 0:00:48  lr: 0.005000  loss: 0.1934 (0.2188)  loss_classifier: 0.0511 (0.0586)  loss_box_reg: 0.0977 (0.1059)  loss_objectness: 0.0202 (0.0228)  loss_rpn_box_reg: 0.0314 (0.0314)  time: 0.9691  data: 0.0365  max mem: 9568\n",
            "Epoch: [3]  [20/60]  eta: 0:00:38  lr: 0.005000  loss: 0.1934 (0.2151)  loss_classifier: 0.0511 (0.0599)  loss_box_reg: 0.0953 (0.1024)  loss_objectness: 0.0202 (0.0250)  loss_rpn_box_reg: 0.0201 (0.0278)  time: 0.9334  data: 0.0075  max mem: 9568\n",
            "Epoch: [3]  [30/60]  eta: 0:00:28  lr: 0.005000  loss: 0.1707 (0.2106)  loss_classifier: 0.0477 (0.0585)  loss_box_reg: 0.0933 (0.1021)  loss_objectness: 0.0213 (0.0245)  loss_rpn_box_reg: 0.0195 (0.0255)  time: 0.9432  data: 0.0080  max mem: 9568\n",
            "Epoch: [3]  [40/60]  eta: 0:00:19  lr: 0.005000  loss: 0.2182 (0.2196)  loss_classifier: 0.0608 (0.0609)  loss_box_reg: 0.1090 (0.1104)  loss_objectness: 0.0158 (0.0227)  loss_rpn_box_reg: 0.0227 (0.0257)  time: 0.9634  data: 0.0084  max mem: 9568\n",
            "Epoch: [3]  [50/60]  eta: 0:00:09  lr: 0.005000  loss: 0.2182 (0.2224)  loss_classifier: 0.0608 (0.0606)  loss_box_reg: 0.1120 (0.1139)  loss_objectness: 0.0155 (0.0221)  loss_rpn_box_reg: 0.0279 (0.0258)  time: 0.9659  data: 0.0088  max mem: 9568\n",
            "Epoch: [3]  [59/60]  eta: 0:00:00  lr: 0.005000  loss: 0.2340 (0.2275)  loss_classifier: 0.0593 (0.0620)  loss_box_reg: 0.1150 (0.1171)  loss_objectness: 0.0167 (0.0228)  loss_rpn_box_reg: 0.0224 (0.0256)  time: 0.9580  data: 0.0084  max mem: 9568\n",
            "Epoch: [3] Total time: 0:00:57 (0.9598 s / it)\n",
            "creating index...\n",
            "index created!\n",
            "Test:  [ 0/50]  eta: 0:00:20  model_time: 0.1937 (0.1937)  evaluator_time: 0.0032 (0.0032)  time: 0.4167  data: 0.2179  max mem: 9568\n",
            "Test:  [49/50]  eta: 0:00:00  model_time: 0.1413 (0.1422)  evaluator_time: 0.0014 (0.0019)  time: 0.1453  data: 0.0037  max mem: 9568\n",
            "Test: Total time: 0:00:07 (0.1561 s / it)\n",
            "Averaged stats: model_time: 0.1413 (0.1422)  evaluator_time: 0.0014 (0.0019)\n",
            "Accumulating evaluation results...\n",
            "DONE (t=0.01s).\n",
            "IoU metric: bbox\n",
            " Average Precision  (AP) @[ IoU=0.50:0.95 | area=   all | maxDets=100 ] = 0.366\n",
            " Average Precision  (AP) @[ IoU=0.50      | area=   all | maxDets=100 ] = 0.905\n",
            " Average Precision  (AP) @[ IoU=0.75      | area=   all | maxDets=100 ] = 0.167\n",
            " Average Precision  (AP) @[ IoU=0.50:0.95 | area= small | maxDets=100 ] = -1.000\n",
            " Average Precision  (AP) @[ IoU=0.50:0.95 | area=medium | maxDets=100 ] = 0.348\n",
            " Average Precision  (AP) @[ IoU=0.50:0.95 | area= large | maxDets=100 ] = 0.370\n",
            " Average Recall     (AR) @[ IoU=0.50:0.95 | area=   all | maxDets=  1 ] = 0.209\n",
            " Average Recall     (AR) @[ IoU=0.50:0.95 | area=   all | maxDets= 10 ] = 0.485\n",
            " Average Recall     (AR) @[ IoU=0.50:0.95 | area=   all | maxDets=100 ] = 0.492\n",
            " Average Recall     (AR) @[ IoU=0.50:0.95 | area= small | maxDets=100 ] = -1.000\n",
            " Average Recall     (AR) @[ IoU=0.50:0.95 | area=medium | maxDets=100 ] = 0.486\n",
            " Average Recall     (AR) @[ IoU=0.50:0.95 | area= large | maxDets=100 ] = 0.493\n",
            "Epoch: [4]  [ 0/60]  eta: 0:01:09  lr: 0.005000  loss: 0.2943 (0.2943)  loss_classifier: 0.0757 (0.0757)  loss_box_reg: 0.1637 (0.1637)  loss_objectness: 0.0099 (0.0099)  loss_rpn_box_reg: 0.0451 (0.0451)  time: 1.1666  data: 0.2512  max mem: 9568\n",
            "Epoch: [4]  [10/60]  eta: 0:00:51  lr: 0.005000  loss: 0.2232 (0.2195)  loss_classifier: 0.0582 (0.0561)  loss_box_reg: 0.1169 (0.1243)  loss_objectness: 0.0144 (0.0161)  loss_rpn_box_reg: 0.0175 (0.0231)  time: 1.0209  data: 0.0302  max mem: 9568\n",
            "Epoch: [4]  [20/60]  eta: 0:00:39  lr: 0.005000  loss: 0.2183 (0.2194)  loss_classifier: 0.0588 (0.0600)  loss_box_reg: 0.1120 (0.1234)  loss_objectness: 0.0139 (0.0153)  loss_rpn_box_reg: 0.0169 (0.0207)  time: 0.9801  data: 0.0084  max mem: 9568\n",
            "Epoch: [4]  [30/60]  eta: 0:00:29  lr: 0.005000  loss: 0.2155 (0.2047)  loss_classifier: 0.0619 (0.0567)  loss_box_reg: 0.1054 (0.1139)  loss_objectness: 0.0104 (0.0153)  loss_rpn_box_reg: 0.0162 (0.0188)  time: 0.9568  data: 0.0083  max mem: 9568\n",
            "Epoch: [4]  [40/60]  eta: 0:00:19  lr: 0.005000  loss: 0.1820 (0.2007)  loss_classifier: 0.0497 (0.0556)  loss_box_reg: 0.1020 (0.1115)  loss_objectness: 0.0096 (0.0154)  loss_rpn_box_reg: 0.0159 (0.0182)  time: 0.9582  data: 0.0086  max mem: 9568\n",
            "Epoch: [4]  [50/60]  eta: 0:00:09  lr: 0.005000  loss: 0.1914 (0.2072)  loss_classifier: 0.0563 (0.0578)  loss_box_reg: 0.1020 (0.1146)  loss_objectness: 0.0134 (0.0169)  loss_rpn_box_reg: 0.0166 (0.0179)  time: 0.9708  data: 0.0086  max mem: 9568\n",
            "Epoch: [4]  [59/60]  eta: 0:00:00  lr: 0.005000  loss: 0.1925 (0.2070)  loss_classifier: 0.0563 (0.0581)  loss_box_reg: 0.1059 (0.1137)  loss_objectness: 0.0145 (0.0174)  loss_rpn_box_reg: 0.0166 (0.0178)  time: 0.9646  data: 0.0078  max mem: 9568\n",
            "Epoch: [4] Total time: 0:00:58 (0.9745 s / it)\n",
            "creating index...\n",
            "index created!\n",
            "Test:  [ 0/50]  eta: 0:00:20  model_time: 0.2126 (0.2126)  evaluator_time: 0.0025 (0.0025)  time: 0.4167  data: 0.1998  max mem: 9568\n",
            "Test:  [49/50]  eta: 0:00:00  model_time: 0.1404 (0.1451)  evaluator_time: 0.0013 (0.0017)  time: 0.1488  data: 0.0039  max mem: 9568\n",
            "Test: Total time: 0:00:07 (0.1586 s / it)\n",
            "Averaged stats: model_time: 0.1404 (0.1451)  evaluator_time: 0.0013 (0.0017)\n",
            "Accumulating evaluation results...\n",
            "DONE (t=0.01s).\n",
            "IoU metric: bbox\n",
            " Average Precision  (AP) @[ IoU=0.50:0.95 | area=   all | maxDets=100 ] = 0.454\n",
            " Average Precision  (AP) @[ IoU=0.50      | area=   all | maxDets=100 ] = 0.932\n",
            " Average Precision  (AP) @[ IoU=0.75      | area=   all | maxDets=100 ] = 0.345\n",
            " Average Precision  (AP) @[ IoU=0.50:0.95 | area= small | maxDets=100 ] = -1.000\n",
            " Average Precision  (AP) @[ IoU=0.50:0.95 | area=medium | maxDets=100 ] = 0.241\n",
            " Average Precision  (AP) @[ IoU=0.50:0.95 | area= large | maxDets=100 ] = 0.467\n",
            " Average Recall     (AR) @[ IoU=0.50:0.95 | area=   all | maxDets=  1 ] = 0.236\n",
            " Average Recall     (AR) @[ IoU=0.50:0.95 | area=   all | maxDets= 10 ] = 0.568\n",
            " Average Recall     (AR) @[ IoU=0.50:0.95 | area=   all | maxDets=100 ] = 0.572\n",
            " Average Recall     (AR) @[ IoU=0.50:0.95 | area= small | maxDets=100 ] = -1.000\n",
            " Average Recall     (AR) @[ IoU=0.50:0.95 | area=medium | maxDets=100 ] = 0.443\n",
            " Average Recall     (AR) @[ IoU=0.50:0.95 | area= large | maxDets=100 ] = 0.580\n",
            "That's it!\n"
          ]
        }
      ]
    },
    {
      "cell_type": "code",
      "metadata": {
        "colab": {
          "base_uri": "https://localhost:8080/"
        },
        "id": "fZjGbZLm5wKQ",
        "outputId": "7cf2fa19-df7f-4884-9119-47fcd9e8d12e"
      },
      "source": [
        "# test data 중 한 장을 가져와서 시각화\n",
        "\n",
        "data_path = os.path.join('/content/PennFudanPed/PNGImages')\n",
        "file_list = list(sorted(os.listdir(data_path)))\n",
        "test_img_path = os.path.join(data_path, file_list[-1])\n",
        "print(test_img_path)"
      ],
      "execution_count": 25,
      "outputs": [
        {
          "output_type": "stream",
          "name": "stdout",
          "text": [
            "/content/PennFudanPed/PNGImages/PennPed00096.png\n"
          ]
        }
      ]
    },
    {
      "cell_type": "code",
      "metadata": {
        "id": "M4vuvUQJNBhd",
        "colab": {
          "base_uri": "https://localhost:8080/"
        },
        "outputId": "d365b1af-3996-411f-aff9-f427a91572f9"
      },
      "source": [
        "model.eval()\n",
        "\n",
        "img_path = test_img_path\n",
        "images = np.array(Image.open(img_path).convert(\"RGB\"))\n",
        "images = torch.from_numpy(images/255.0).permute(2,0,1).unsqueeze(0).float()\n",
        "print(images.shape)\n",
        "\n",
        "device = torch.device('cuda') if torch.cuda.is_available() else torch.device('cpu')\n",
        "\n",
        "images = list(image.to(device) for image in images)\n",
        "with torch.no_grad():\n",
        "  output_dict = model(images)\n",
        "print(output_dict) \n",
        "print(output_dict[0].keys())"
      ],
      "execution_count": 26,
      "outputs": [
        {
          "output_type": "stream",
          "name": "stdout",
          "text": [
            "torch.Size([1, 3, 331, 294])\n",
            "[{'boxes': tensor([[  2.2936,  40.9386, 112.0410, 323.0350],\n",
            "        [106.1715,  25.5170, 198.9298, 312.5633],\n",
            "        [  6.6652,  53.0389,  50.9693, 308.0558],\n",
            "        [  2.9967,  84.0310,  25.1506, 280.1839],\n",
            "        [146.4328,  40.2412, 213.1693, 273.8896],\n",
            "        [  0.0000,  16.2875, 214.5700, 317.9768]], device='cuda:0'), 'labels': tensor([1, 1, 1, 1, 1, 1], device='cuda:0'), 'scores': tensor([0.8647, 0.5456, 0.1870, 0.1807, 0.1419, 0.0746], device='cuda:0')}]\n",
            "dict_keys(['boxes', 'labels', 'scores'])\n"
          ]
        }
      ]
    },
    {
      "cell_type": "code",
      "metadata": {
        "id": "Wa6Z4tYDnG6G"
      },
      "source": [
        "# 시각화를 위해서 output 을 numpy 로\n",
        "boxes = output_dict[0]['boxes'].detach().cpu().numpy()\n",
        "scores = output_dict[0]['scores'].detach().cpu().numpy()\n",
        "labels = output_dict[0]['labels'].detach().cpu().numpy()"
      ],
      "execution_count": 27,
      "outputs": []
    },
    {
      "cell_type": "code",
      "metadata": {
        "colab": {
          "base_uri": "https://localhost:8080/"
        },
        "id": "EjheMuQ9nKm7",
        "outputId": "0fa69739-bf51-4935-fdbf-e34bf0f8e972"
      },
      "source": [
        "# score threshold   0.01 v.s. 0.5\n",
        "# faster rcnn 안에 후처리가 포함되어 있지만, 사용자가 추가로 thresholding 가능\n",
        "\n",
        "scores_threshold = 0.5  # 0.5\n",
        "select_idxes = scores > scores_threshold\n",
        "print(select_idxes)"
      ],
      "execution_count": 28,
      "outputs": [
        {
          "output_type": "stream",
          "name": "stdout",
          "text": [
            "[ True  True False False False False]\n"
          ]
        }
      ]
    },
    {
      "cell_type": "code",
      "metadata": {
        "id": "j83GFWCYnNb7"
      },
      "source": [
        "# score thresholding 후 남은 것들만\n",
        "selected_boxes = boxes[select_idxes].astype(np.int)\n",
        "selected_scores = scores[select_idxes]\n",
        "selected_labels = labels[select_idxes]"
      ],
      "execution_count": 29,
      "outputs": []
    },
    {
      "cell_type": "code",
      "metadata": {
        "colab": {
          "base_uri": "https://localhost:8080/"
        },
        "id": "Pmt0SHrOnS3G",
        "outputId": "6255218b-53b2-4d58-9906-ee146302f1e0"
      },
      "source": [
        "print(selected_boxes.shape, boxes.shape)  # thresohold 전후"
      ],
      "execution_count": 30,
      "outputs": [
        {
          "output_type": "stream",
          "name": "stdout",
          "text": [
            "(2, 4) (6, 4)\n"
          ]
        }
      ]
    },
    {
      "cell_type": "code",
      "metadata": {
        "colab": {
          "base_uri": "https://localhost:8080/",
          "height": 337
        },
        "id": "bj2NI-MKnWKn",
        "outputId": "80a4f28c-e58e-48d4-feed-8de61d090301"
      },
      "source": [
        "# 데이터 테스트 출력\n",
        "\n",
        "import cv2\n",
        "import matplotlib.pyplot as plt\n",
        "\n",
        "# 박스 시각화\n",
        "def makeBox(voc_im, bbox):\n",
        "  image = voc_im.copy()\n",
        "  for i in range(len(bbox)):\n",
        "    cv2.rectangle(image,(int(bbox[i][0]),int(bbox[i][1])),(int(bbox[i][2]),int(bbox[i][3])),color = (0,255,0),thickness = 1)\n",
        "  return image\n",
        "\n",
        "draw_img = images[0].permute(1, 2, 0).cpu().numpy()\n",
        "print(selected_boxes)\n",
        "plot_image = makeBox(draw_img, selected_boxes)\n",
        "plt.imshow(plot_image)"
      ],
      "execution_count": 31,
      "outputs": [
        {
          "output_type": "stream",
          "name": "stdout",
          "text": [
            "[[  2  40 112 323]\n",
            " [106  25 198 312]]\n"
          ]
        },
        {
          "output_type": "stream",
          "name": "stderr",
          "text": [
            "Clipping input data to the valid range for imshow with RGB data ([0..1] for floats or [0..255] for integers).\n"
          ]
        },
        {
          "output_type": "execute_result",
          "data": {
            "text/plain": [
              "<matplotlib.image.AxesImage at 0x7f954e09e910>"
            ]
          },
          "metadata": {},
          "execution_count": 31
        },
        {
          "output_type": "display_data",
          "data": {
            "image/png": "[encoded data removed]",
            "text/plain": [
              "<Figure size 432x288 with 1 Axes>"
            ]
          },
          "metadata": {
            "needs_background": "light"
          }
        }
      ]
    },
    {
      "cell_type": "markdown",
      "metadata": {
        "id": "0_FOpr1G76El"
      },
      "source": [
        "[실습]\n",
        "\n",
        "- main 문에서 모델을 바꿔서 AP 성능 비교\n",
        "  - model = create_faster_rcnn()\n",
        "  - model = create_pretrained_faster_rcnn()\n",
        "\n",
        "- threshold 를 바꿔가며 시각화"
      ]
    },
    {
      "cell_type": "code",
      "source": [
        "if __name__ == \"__main__\":\n",
        "    # model = main(model_name='faster_rcnn', num_epochs=5)\n",
        "    model = main(model_name='pretrained_faster_rcnn', num_epochs=1)\n",
        "    # model = main(model_name='pretrained_ssd', num_epochs=1)\n",
        "    '''\n",
        "    model_name\n",
        "        faster_rcnn : full modeling and weight initialization\n",
        "        pretrained_faster_rcnn : coco-pretrained. faster rcnn\n",
        "        pretrained_ssd : coco-trained. ssdlite320_mobilenet_v3_large\n",
        "    '''"
      ],
      "metadata": {
        "id": "yOmEGb-0f7Se",
        "colab": {
          "base_uri": "https://localhost:8080/",
          "height": 630,
          "referenced_widgets": [
            "f952e710c5f84f99948817149360642f",
            "e097ea0f8e9a4ac7a2678d5eb1ed30e5",
            "8253aa9db8da48d585ee9aa6742b922f",
            "89aae22dd68a45eb9853d66f01722ab7",
            "e1a7da806e374c17b6346cc8e5a1e101",
            "c827b61dffff4c6aaf945e1e2f1fc9a7",
            "c7633fe9d3fa4b0b81cfd4bc334e3f35",
            "c4d294e288f1418190df79f3b16d3ea0",
            "0d06b60b690740c2872957e48288731a",
            "dcdeae1945494317bb14f4b2a0a2c5bd",
            "7699ac3c8ae342d0a9aaded62c2bd55f"
          ]
        },
        "outputId": "5e329600-eb52-473c-e06c-8d4a1c6195a9"
      },
      "execution_count": 32,
      "outputs": [
        {
          "output_type": "stream",
          "name": "stderr",
          "text": [
            "/usr/local/lib/python3.7/dist-packages/torch/utils/data/dataloader.py:481: UserWarning: This DataLoader will create 4 worker processes in total. Our suggested max number of worker in current system is 2, which is smaller than what this DataLoader is going to create. Please be aware that excessive worker creation might get DataLoader running slow or even freeze, lower the worker number to avoid potential slowness/freeze if necessary.\n",
            "  cpuset_checked))\n",
            "Downloading: \"https://download.pytorch.org/models/fasterrcnn_resnet50_fpn_coco-258fb6c6.pth\" to /root/.cache/torch/hub/checkpoints/fasterrcnn_resnet50_fpn_coco-258fb6c6.pth\n"
          ]
        },
        {
          "output_type": "display_data",
          "data": {
            "application/vnd.jupyter.widget-view+json": {
              "model_id": "f952e710c5f84f99948817149360642f",
              "version_minor": 0,
              "version_major": 2
            },
            "text/plain": [
              "  0%|          | 0.00/160M [00:00<?, ?B/s]"
            ]
          },
          "metadata": {}
        },
        {
          "output_type": "stream",
          "name": "stdout",
          "text": [
            "Epoch: [0]  [ 0/60]  eta: 0:00:52  lr: 0.005000  loss: 1.0554 (1.0554)  loss_classifier: 0.6990 (0.6990)  loss_box_reg: 0.3434 (0.3434)  loss_objectness: 0.0064 (0.0064)  loss_rpn_box_reg: 0.0067 (0.0067)  time: 0.8751  data: 0.2541  max mem: 9568\n",
            "Epoch: [0]  [10/60]  eta: 0:00:29  lr: 0.005000  loss: 0.4726 (0.5399)  loss_classifier: 0.1631 (0.2355)  loss_box_reg: 0.2442 (0.2770)  loss_objectness: 0.0175 (0.0201)  loss_rpn_box_reg: 0.0047 (0.0073)  time: 0.5802  data: 0.0311  max mem: 9568\n",
            "Epoch: [0]  [20/60]  eta: 0:00:22  lr: 0.005000  loss: 0.2644 (0.4075)  loss_classifier: 0.0631 (0.1471)  loss_box_reg: 0.1756 (0.2398)  loss_objectness: 0.0075 (0.0130)  loss_rpn_box_reg: 0.0037 (0.0077)  time: 0.5442  data: 0.0084  max mem: 9568\n",
            "Epoch: [0]  [30/60]  eta: 0:00:16  lr: 0.005000  loss: 0.2293 (0.3490)  loss_classifier: 0.0467 (0.1155)  loss_box_reg: 0.1721 (0.2163)  loss_objectness: 0.0014 (0.0096)  loss_rpn_box_reg: 0.0061 (0.0076)  time: 0.5535  data: 0.0082  max mem: 9568\n",
            "Epoch: [0]  [40/60]  eta: 0:00:11  lr: 0.005000  loss: 0.2340 (0.3146)  loss_classifier: 0.0467 (0.1006)  loss_box_reg: 0.1442 (0.1983)  loss_objectness: 0.0008 (0.0075)  loss_rpn_box_reg: 0.0079 (0.0081)  time: 0.6038  data: 0.0084  max mem: 9568\n",
            "Epoch: [0]  [50/60]  eta: 0:00:05  lr: 0.005000  loss: 0.1707 (0.2809)  loss_classifier: 0.0453 (0.0901)  loss_box_reg: 0.1211 (0.1766)  loss_objectness: 0.0011 (0.0066)  loss_rpn_box_reg: 0.0062 (0.0076)  time: 0.5874  data: 0.0082  max mem: 9568\n",
            "Epoch: [0]  [59/60]  eta: 0:00:00  lr: 0.005000  loss: 0.1298 (0.2580)  loss_classifier: 0.0443 (0.0825)  loss_box_reg: 0.0819 (0.1625)  loss_objectness: 0.0014 (0.0058)  loss_rpn_box_reg: 0.0036 (0.0072)  time: 0.5406  data: 0.0074  max mem: 9568\n",
            "Epoch: [0] Total time: 0:00:34 (0.5700 s / it)\n",
            "creating index...\n",
            "index created!\n",
            "Test:  [ 0/50]  eta: 0:00:18  model_time: 0.1670 (0.1670)  evaluator_time: 0.0019 (0.0019)  time: 0.3657  data: 0.1949  max mem: 9568\n",
            "Test:  [49/50]  eta: 0:00:00  model_time: 0.0978 (0.1042)  evaluator_time: 0.0010 (0.0013)  time: 0.1059  data: 0.0036  max mem: 9568\n",
            "Test: Total time: 0:00:05 (0.1167 s / it)\n",
            "Averaged stats: model_time: 0.0978 (0.1042)  evaluator_time: 0.0010 (0.0013)\n",
            "Accumulating evaluation results...\n",
            "DONE (t=0.01s).\n",
            "IoU metric: bbox\n",
            " Average Precision  (AP) @[ IoU=0.50:0.95 | area=   all | maxDets=100 ] = 0.735\n",
            " Average Precision  (AP) @[ IoU=0.50      | area=   all | maxDets=100 ] = 0.999\n",
            " Average Precision  (AP) @[ IoU=0.75      | area=   all | maxDets=100 ] = 0.918\n",
            " Average Precision  (AP) @[ IoU=0.50:0.95 | area= small | maxDets=100 ] = -1.000\n",
            " Average Precision  (AP) @[ IoU=0.50:0.95 | area=medium | maxDets=100 ] = 0.634\n",
            " Average Precision  (AP) @[ IoU=0.50:0.95 | area= large | maxDets=100 ] = 0.740\n",
            " Average Recall     (AR) @[ IoU=0.50:0.95 | area=   all | maxDets=  1 ] = 0.341\n",
            " Average Recall     (AR) @[ IoU=0.50:0.95 | area=   all | maxDets= 10 ] = 0.775\n",
            " Average Recall     (AR) @[ IoU=0.50:0.95 | area=   all | maxDets=100 ] = 0.775\n",
            " Average Recall     (AR) @[ IoU=0.50:0.95 | area= small | maxDets=100 ] = -1.000\n",
            " Average Recall     (AR) @[ IoU=0.50:0.95 | area=medium | maxDets=100 ] = 0.700\n",
            " Average Recall     (AR) @[ IoU=0.50:0.95 | area= large | maxDets=100 ] = 0.780\n",
            "That's it!\n"
          ]
        }
      ]
    },
    {
      "cell_type": "code",
      "source": [
        ""
      ],
      "metadata": {
        "id": "kIdFInrohqNB"
      },
      "execution_count": 32,
      "outputs": []
    }
  ]
}