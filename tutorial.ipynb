{
  "nbformat": 4,
  "nbformat_minor": 0,
  "metadata": {
    "colab": {
      "name": "tutorial.ipynb",
      "provenance": [],
      "collapsed_sections": [],
      "include_colab_link": true
    },
    "kernelspec": {
      "name": "python3",
      "display_name": "Python 3"
    },
    "accelerator": "GPU",
    "widgets": {
      "application/vnd.jupyter.widget-state+json": {
        "fa2a30f771064812be2dce4e5a6a0af8": {
          "model_module": "@jupyter-widgets/controls",
          "model_name": "HBoxModel",
          "model_module_version": "1.5.0",
          "state": {
            "_view_name": "HBoxView",
            "_dom_classes": [],
            "_model_name": "HBoxModel",
            "_view_module": "@jupyter-widgets/controls",
            "_model_module_version": "1.5.0",
            "_view_count": null,
            "_view_module_version": "1.5.0",
            "box_style": "",
            "layout": "IPY_MODEL_842ad34df35b449a84743516b90ef07e",
            "_model_module": "@jupyter-widgets/controls",
            "children": [
              "IPY_MODEL_9b02c9d18c1940849855347959b424c8",
              "IPY_MODEL_67ea239ac825423a8a42059a52dc2db4",
              "IPY_MODEL_f95559be5c8243c6bc22052763257d7b"
            ]
          }
        },
        "842ad34df35b449a84743516b90ef07e": {
          "model_module": "@jupyter-widgets/base",
          "model_name": "LayoutModel",
          "model_module_version": "1.2.0",
          "state": {
            "_view_name": "LayoutView",
            "grid_template_rows": null,
            "right": null,
            "justify_content": null,
            "_view_module": "@jupyter-widgets/base",
            "overflow": null,
            "_model_module_version": "1.2.0",
            "_view_count": null,
            "flex_flow": null,
            "width": null,
            "min_width": null,
            "border": null,
            "align_items": null,
            "bottom": null,
            "_model_module": "@jupyter-widgets/base",
            "top": null,
            "grid_column": null,
            "overflow_y": null,
            "overflow_x": null,
            "grid_auto_flow": null,
            "grid_area": null,
            "grid_template_columns": null,
            "flex": null,
            "_model_name": "LayoutModel",
            "justify_items": null,
            "grid_row": null,
            "max_height": null,
            "align_content": null,
            "visibility": null,
            "align_self": null,
            "height": null,
            "min_height": null,
            "padding": null,
            "grid_auto_rows": null,
            "grid_gap": null,
            "max_width": null,
            "order": null,
            "_view_module_version": "1.2.0",
            "grid_template_areas": null,
            "object_position": null,
            "object_fit": null,
            "grid_auto_columns": null,
            "margin": null,
            "display": null,
            "left": null
          }
        },
        "9b02c9d18c1940849855347959b424c8": {
          "model_module": "@jupyter-widgets/controls",
          "model_name": "HTMLModel",
          "model_module_version": "1.5.0",
          "state": {
            "_view_name": "HTMLView",
            "style": "IPY_MODEL_c3159b4406ae458f835a2fd7a730eb1c",
            "_dom_classes": [],
            "description": "",
            "_model_name": "HTMLModel",
            "placeholder": "​",
            "_view_module": "@jupyter-widgets/controls",
            "_model_module_version": "1.5.0",
            "value": "100%",
            "_view_count": null,
            "_view_module_version": "1.5.0",
            "description_tooltip": null,
            "_model_module": "@jupyter-widgets/controls",
            "layout": "IPY_MODEL_6f9d36de7bf14c78892b856539f490d6"
          }
        },
        "67ea239ac825423a8a42059a52dc2db4": {
          "model_module": "@jupyter-widgets/controls",
          "model_name": "FloatProgressModel",
          "model_module_version": "1.5.0",
          "state": {
            "_view_name": "ProgressView",
            "style": "IPY_MODEL_51b00ca87f754388953c39137dc3b0cf",
            "_dom_classes": [],
            "description": "",
            "_model_name": "FloatProgressModel",
            "bar_style": "success",
            "max": 102530333,
            "_view_module": "@jupyter-widgets/controls",
            "_model_module_version": "1.5.0",
            "value": 102530333,
            "_view_count": null,
            "_view_module_version": "1.5.0",
            "orientation": "horizontal",
            "min": 0,
            "description_tooltip": null,
            "_model_module": "@jupyter-widgets/controls",
            "layout": "IPY_MODEL_1ca73f964f044934bf617cf9b3fdf86c"
          }
        },
        "f95559be5c8243c6bc22052763257d7b": {
          "model_module": "@jupyter-widgets/controls",
          "model_name": "HTMLModel",
          "model_module_version": "1.5.0",
          "state": {
            "_view_name": "HTMLView",
            "style": "IPY_MODEL_67a10a82655a40869bdcc20862f9afc8",
            "_dom_classes": [],
            "description": "",
            "_model_name": "HTMLModel",
            "placeholder": "​",
            "_view_module": "@jupyter-widgets/controls",
            "_model_module_version": "1.5.0",
            "value": " 97.8M/97.8M [00:00&lt;00:00, 229MB/s]",
            "_view_count": null,
            "_view_module_version": "1.5.0",
            "description_tooltip": null,
            "_model_module": "@jupyter-widgets/controls",
            "layout": "IPY_MODEL_cc31313b77db4db388039a1b38ca46f5"
          }
        },
        "c3159b4406ae458f835a2fd7a730eb1c": {
          "model_module": "@jupyter-widgets/controls",
          "model_name": "DescriptionStyleModel",
          "model_module_version": "1.5.0",
          "state": {
            "_view_name": "StyleView",
            "_model_name": "DescriptionStyleModel",
            "description_width": "",
            "_view_module": "@jupyter-widgets/base",
            "_model_module_version": "1.5.0",
            "_view_count": null,
            "_view_module_version": "1.2.0",
            "_model_module": "@jupyter-widgets/controls"
          }
        },
        "6f9d36de7bf14c78892b856539f490d6": {
          "model_module": "@jupyter-widgets/base",
          "model_name": "LayoutModel",
          "model_module_version": "1.2.0",
          "state": {
            "_view_name": "LayoutView",
            "grid_template_rows": null,
            "right": null,
            "justify_content": null,
            "_view_module": "@jupyter-widgets/base",
            "overflow": null,
            "_model_module_version": "1.2.0",
            "_view_count": null,
            "flex_flow": null,
            "width": null,
            "min_width": null,
            "border": null,
            "align_items": null,
            "bottom": null,
            "_model_module": "@jupyter-widgets/base",
            "top": null,
            "grid_column": null,
            "overflow_y": null,
            "overflow_x": null,
            "grid_auto_flow": null,
            "grid_area": null,
            "grid_template_columns": null,
            "flex": null,
            "_model_name": "LayoutModel",
            "justify_items": null,
            "grid_row": null,
            "max_height": null,
            "align_content": null,
            "visibility": null,
            "align_self": null,
            "height": null,
            "min_height": null,
            "padding": null,
            "grid_auto_rows": null,
            "grid_gap": null,
            "max_width": null,
            "order": null,
            "_view_module_version": "1.2.0",
            "grid_template_areas": null,
            "object_position": null,
            "object_fit": null,
            "grid_auto_columns": null,
            "margin": null,
            "display": null,
            "left": null
          }
        },
        "51b00ca87f754388953c39137dc3b0cf": {
          "model_module": "@jupyter-widgets/controls",
          "model_name": "ProgressStyleModel",
          "model_module_version": "1.5.0",
          "state": {
            "_view_name": "StyleView",
            "_model_name": "ProgressStyleModel",
            "description_width": "",
            "_view_module": "@jupyter-widgets/base",
            "_model_module_version": "1.5.0",
            "_view_count": null,
            "_view_module_version": "1.2.0",
            "bar_color": null,
            "_model_module": "@jupyter-widgets/controls"
          }
        },
        "1ca73f964f044934bf617cf9b3fdf86c": {
          "model_module": "@jupyter-widgets/base",
          "model_name": "LayoutModel",
          "model_module_version": "1.2.0",
          "state": {
            "_view_name": "LayoutView",
            "grid_template_rows": null,
            "right": null,
            "justify_content": null,
            "_view_module": "@jupyter-widgets/base",
            "overflow": null,
            "_model_module_version": "1.2.0",
            "_view_count": null,
            "flex_flow": null,
            "width": null,
            "min_width": null,
            "border": null,
            "align_items": null,
            "bottom": null,
            "_model_module": "@jupyter-widgets/base",
            "top": null,
            "grid_column": null,
            "overflow_y": null,
            "overflow_x": null,
            "grid_auto_flow": null,
            "grid_area": null,
            "grid_template_columns": null,
            "flex": null,
            "_model_name": "LayoutModel",
            "justify_items": null,
            "grid_row": null,
            "max_height": null,
            "align_content": null,
            "visibility": null,
            "align_self": null,
            "height": null,
            "min_height": null,
            "padding": null,
            "grid_auto_rows": null,
            "grid_gap": null,
            "max_width": null,
            "order": null,
            "_view_module_version": "1.2.0",
            "grid_template_areas": null,
            "object_position": null,
            "object_fit": null,
            "grid_auto_columns": null,
            "margin": null,
            "display": null,
            "left": null
          }
        },
        "67a10a82655a40869bdcc20862f9afc8": {
          "model_module": "@jupyter-widgets/controls",
          "model_name": "DescriptionStyleModel",
          "model_module_version": "1.5.0",
          "state": {
            "_view_name": "StyleView",
            "_model_name": "DescriptionStyleModel",
            "description_width": "",
            "_view_module": "@jupyter-widgets/base",
            "_model_module_version": "1.5.0",
            "_view_count": null,
            "_view_module_version": "1.2.0",
            "_model_module": "@jupyter-widgets/controls"
          }
        },
        "cc31313b77db4db388039a1b38ca46f5": {
          "model_module": "@jupyter-widgets/base",
          "model_name": "LayoutModel",
          "model_module_version": "1.2.0",
          "state": {
            "_view_name": "LayoutView",
            "grid_template_rows": null,
            "right": null,
            "justify_content": null,
            "_view_module": "@jupyter-widgets/base",
            "overflow": null,
            "_model_module_version": "1.2.0",
            "_view_count": null,
            "flex_flow": null,
            "width": null,
            "min_width": null,
            "border": null,
            "align_items": null,
            "bottom": null,
            "_model_module": "@jupyter-widgets/base",
            "top": null,
            "grid_column": null,
            "overflow_y": null,
            "overflow_x": null,
            "grid_auto_flow": null,
            "grid_area": null,
            "grid_template_columns": null,
            "flex": null,
            "_model_name": "LayoutModel",
            "justify_items": null,
            "grid_row": null,
            "max_height": null,
            "align_content": null,
            "visibility": null,
            "align_self": null,
            "height": null,
            "min_height": null,
            "padding": null,
            "grid_auto_rows": null,
            "grid_gap": null,
            "max_width": null,
            "order": null,
            "_view_module_version": "1.2.0",
            "grid_template_areas": null,
            "object_position": null,
            "object_fit": null,
            "grid_auto_columns": null,
            "margin": null,
            "display": null,
            "left": null
          }
        },
        "2057af3ec83147f28338afe92e5a901a": {
          "model_module": "@jupyter-widgets/controls",
          "model_name": "HBoxModel",
          "model_module_version": "1.5.0",
          "state": {
            "_view_name": "HBoxView",
            "_dom_classes": [],
            "_model_name": "HBoxModel",
            "_view_module": "@jupyter-widgets/controls",
            "_model_module_version": "1.5.0",
            "_view_count": null,
            "_view_module_version": "1.5.0",
            "box_style": "",
            "layout": "IPY_MODEL_bd02338f6ee741aeae7b7d61bb2ec378",
            "_model_module": "@jupyter-widgets/controls",
            "children": [
              "IPY_MODEL_cb9826f3a8e74483a08a8284ed3c2987",
              "IPY_MODEL_97d6a1fbe8ad4153ab8ca6708ebfcb60",
              "IPY_MODEL_e41d50620cd047f0966f086ea97ef0d5"
            ]
          }
        },
        "bd02338f6ee741aeae7b7d61bb2ec378": {
          "model_module": "@jupyter-widgets/base",
          "model_name": "LayoutModel",
          "model_module_version": "1.2.0",
          "state": {
            "_view_name": "LayoutView",
            "grid_template_rows": null,
            "right": null,
            "justify_content": null,
            "_view_module": "@jupyter-widgets/base",
            "overflow": null,
            "_model_module_version": "1.2.0",
            "_view_count": null,
            "flex_flow": null,
            "width": null,
            "min_width": null,
            "border": null,
            "align_items": null,
            "bottom": null,
            "_model_module": "@jupyter-widgets/base",
            "top": null,
            "grid_column": null,
            "overflow_y": null,
            "overflow_x": null,
            "grid_auto_flow": null,
            "grid_area": null,
            "grid_template_columns": null,
            "flex": null,
            "_model_name": "LayoutModel",
            "justify_items": null,
            "grid_row": null,
            "max_height": null,
            "align_content": null,
            "visibility": null,
            "align_self": null,
            "height": null,
            "min_height": null,
            "padding": null,
            "grid_auto_rows": null,
            "grid_gap": null,
            "max_width": null,
            "order": null,
            "_view_module_version": "1.2.0",
            "grid_template_areas": null,
            "object_position": null,
            "object_fit": null,
            "grid_auto_columns": null,
            "margin": null,
            "display": null,
            "left": null
          }
        },
        "cb9826f3a8e74483a08a8284ed3c2987": {
          "model_module": "@jupyter-widgets/controls",
          "model_name": "HTMLModel",
          "model_module_version": "1.5.0",
          "state": {
            "_view_name": "HTMLView",
            "style": "IPY_MODEL_0559ab544a0a470bb05012b912b352f6",
            "_dom_classes": [],
            "description": "",
            "_model_name": "HTMLModel",
            "placeholder": "​",
            "_view_module": "@jupyter-widgets/controls",
            "_model_module_version": "1.5.0",
            "value": "100%",
            "_view_count": null,
            "_view_module_version": "1.5.0",
            "description_tooltip": null,
            "_model_module": "@jupyter-widgets/controls",
            "layout": "IPY_MODEL_851f86aa356044379bbb6c62c9898099"
          }
        },
        "97d6a1fbe8ad4153ab8ca6708ebfcb60": {
          "model_module": "@jupyter-widgets/controls",
          "model_name": "FloatProgressModel",
          "model_module_version": "1.5.0",
          "state": {
            "_view_name": "ProgressView",
            "style": "IPY_MODEL_c962b4ff8f2d4a65aa6cf3105524a303",
            "_dom_classes": [],
            "description": "",
            "_model_name": "FloatProgressModel",
            "bar_style": "success",
            "max": 167502836,
            "_view_module": "@jupyter-widgets/controls",
            "_model_module_version": "1.5.0",
            "value": 167502836,
            "_view_count": null,
            "_view_module_version": "1.5.0",
            "orientation": "horizontal",
            "min": 0,
            "description_tooltip": null,
            "_model_module": "@jupyter-widgets/controls",
            "layout": "IPY_MODEL_3a377123ffeb4326a5c3e8e441a45ec3"
          }
        },
        "e41d50620cd047f0966f086ea97ef0d5": {
          "model_module": "@jupyter-widgets/controls",
          "model_name": "HTMLModel",
          "model_module_version": "1.5.0",
          "state": {
            "_view_name": "HTMLView",
            "style": "IPY_MODEL_120f6da8c184463299badf347f2b2409",
            "_dom_classes": [],
            "description": "",
            "_model_name": "HTMLModel",
            "placeholder": "​",
            "_view_module": "@jupyter-widgets/controls",
            "_model_module_version": "1.5.0",
            "value": " 160M/160M [00:00&lt;00:00, 206MB/s]",
            "_view_count": null,
            "_view_module_version": "1.5.0",
            "description_tooltip": null,
            "_model_module": "@jupyter-widgets/controls",
            "layout": "IPY_MODEL_e695e1aa1f01414a882fbe56432f6e77"
          }
        },
        "0559ab544a0a470bb05012b912b352f6": {
          "model_module": "@jupyter-widgets/controls",
          "model_name": "DescriptionStyleModel",
          "model_module_version": "1.5.0",
          "state": {
            "_view_name": "StyleView",
            "_model_name": "DescriptionStyleModel",
            "description_width": "",
            "_view_module": "@jupyter-widgets/base",
            "_model_module_version": "1.5.0",
            "_view_count": null,
            "_view_module_version": "1.2.0",
            "_model_module": "@jupyter-widgets/controls"
          }
        },
        "851f86aa356044379bbb6c62c9898099": {
          "model_module": "@jupyter-widgets/base",
          "model_name": "LayoutModel",
          "model_module_version": "1.2.0",
          "state": {
            "_view_name": "LayoutView",
            "grid_template_rows": null,
            "right": null,
            "justify_content": null,
            "_view_module": "@jupyter-widgets/base",
            "overflow": null,
            "_model_module_version": "1.2.0",
            "_view_count": null,
            "flex_flow": null,
            "width": null,
            "min_width": null,
            "border": null,
            "align_items": null,
            "bottom": null,
            "_model_module": "@jupyter-widgets/base",
            "top": null,
            "grid_column": null,
            "overflow_y": null,
            "overflow_x": null,
            "grid_auto_flow": null,
            "grid_area": null,
            "grid_template_columns": null,
            "flex": null,
            "_model_name": "LayoutModel",
            "justify_items": null,
            "grid_row": null,
            "max_height": null,
            "align_content": null,
            "visibility": null,
            "align_self": null,
            "height": null,
            "min_height": null,
            "padding": null,
            "grid_auto_rows": null,
            "grid_gap": null,
            "max_width": null,
            "order": null,
            "_view_module_version": "1.2.0",
            "grid_template_areas": null,
            "object_position": null,
            "object_fit": null,
            "grid_auto_columns": null,
            "margin": null,
            "display": null,
            "left": null
          }
        },
        "c962b4ff8f2d4a65aa6cf3105524a303": {
          "model_module": "@jupyter-widgets/controls",
          "model_name": "ProgressStyleModel",
          "model_module_version": "1.5.0",
          "state": {
            "_view_name": "StyleView",
            "_model_name": "ProgressStyleModel",
            "description_width": "",
            "_view_module": "@jupyter-widgets/base",
            "_model_module_version": "1.5.0",
            "_view_count": null,
            "_view_module_version": "1.2.0",
            "bar_color": null,
            "_model_module": "@jupyter-widgets/controls"
          }
        },
        "3a377123ffeb4326a5c3e8e441a45ec3": {
          "model_module": "@jupyter-widgets/base",
          "model_name": "LayoutModel",
          "model_module_version": "1.2.0",
          "state": {
            "_view_name": "LayoutView",
            "grid_template_rows": null,
            "right": null,
            "justify_content": null,
            "_view_module": "@jupyter-widgets/base",
            "overflow": null,
            "_model_module_version": "1.2.0",
            "_view_count": null,
            "flex_flow": null,
            "width": null,
            "min_width": null,
            "border": null,
            "align_items": null,
            "bottom": null,
            "_model_module": "@jupyter-widgets/base",
            "top": null,
            "grid_column": null,
            "overflow_y": null,
            "overflow_x": null,
            "grid_auto_flow": null,
            "grid_area": null,
            "grid_template_columns": null,
            "flex": null,
            "_model_name": "LayoutModel",
            "justify_items": null,
            "grid_row": null,
            "max_height": null,
            "align_content": null,
            "visibility": null,
            "align_self": null,
            "height": null,
            "min_height": null,
            "padding": null,
            "grid_auto_rows": null,
            "grid_gap": null,
            "max_width": null,
            "order": null,
            "_view_module_version": "1.2.0",
            "grid_template_areas": null,
            "object_position": null,
            "object_fit": null,
            "grid_auto_columns": null,
            "margin": null,
            "display": null,
            "left": null
          }
        },
        "120f6da8c184463299badf347f2b2409": {
          "model_module": "@jupyter-widgets/controls",
          "model_name": "DescriptionStyleModel",
          "model_module_version": "1.5.0",
          "state": {
            "_view_name": "StyleView",
            "_model_name": "DescriptionStyleModel",
            "description_width": "",
            "_view_module": "@jupyter-widgets/base",
            "_model_module_version": "1.5.0",
            "_view_count": null,
            "_view_module_version": "1.2.0",
            "_model_module": "@jupyter-widgets/controls"
          }
        },
        "e695e1aa1f01414a882fbe56432f6e77": {
          "model_module": "@jupyter-widgets/base",
          "model_name": "LayoutModel",
          "model_module_version": "1.2.0",
          "state": {
            "_view_name": "LayoutView",
            "grid_template_rows": null,
            "right": null,
            "justify_content": null,
            "_view_module": "@jupyter-widgets/base",
            "overflow": null,
            "_model_module_version": "1.2.0",
            "_view_count": null,
            "flex_flow": null,
            "width": null,
            "min_width": null,
            "border": null,
            "align_items": null,
            "bottom": null,
            "_model_module": "@jupyter-widgets/base",
            "top": null,
            "grid_column": null,
            "overflow_y": null,
            "overflow_x": null,
            "grid_auto_flow": null,
            "grid_area": null,
            "grid_template_columns": null,
            "flex": null,
            "_model_name": "LayoutModel",
            "justify_items": null,
            "grid_row": null,
            "max_height": null,
            "align_content": null,
            "visibility": null,
            "align_self": null,
            "height": null,
            "min_height": null,
            "padding": null,
            "grid_auto_rows": null,
            "grid_gap": null,
            "max_width": null,
            "order": null,
            "_view_module_version": "1.2.0",
            "grid_template_areas": null,
            "object_position": null,
            "object_fit": null,
            "grid_auto_columns": null,
            "margin": null,
            "display": null,
            "left": null
          }
        }
      }
    }
  },
  "cells": [
    {
      "cell_type": "markdown",
      "metadata": {
        "id": "view-in-github",
        "colab_type": "text"
      },
      "source": [
        "<a href=\"https://colab.research.google.com/github/yoojy31/pytorch-object-detection-tutorial/blob/main/tutorial.ipynb\" target=\"_parent\"><img src=\"https://colab.research.google.com/assets/colab-badge.svg\" alt=\"Open In Colab\"/></a>"
      ]
    },
    {
      "cell_type": "code",
      "metadata": {
        "id": "D08aLiTpw5W8",
        "colab": {
          "base_uri": "https://localhost:8080/"
        },
        "outputId": "27decbbf-196f-417d-a8e9-1c53e2e1f615"
      },
      "source": [
        "from google.colab import drive\n",
        "drive.mount('/content/drive')\n",
        "# drive._mount('/content/drive')"
      ],
      "execution_count": 5,
      "outputs": [
        {
          "output_type": "stream",
          "name": "stdout",
          "text": [
            "Mounted at /content/drive\n"
          ]
        }
      ]
    },
    {
      "cell_type": "code",
      "metadata": {
        "id": "cqnoOks2LF-l",
        "colab": {
          "base_uri": "https://localhost:8080/"
        },
        "outputId": "d2806c3e-811f-4bfb-9292-8e6bafa20619"
      },
      "source": [
        "import os\n",
        "%cd \"/content/\"\n",
        "!wget \"https://www.cis.upenn.edu/~jshi/ped_html/PennFudanPed.zip\"\n",
        "\n",
        "!unzip -qq \"PennFudanPed.zip\"\n",
        "\n",
        "print('\\n\\n /content/ 경로의 파일과 폴더 리스트', os.listdir('/content/'))\n",
        "print(' /content/PennFudanPed/ 경로의 파일과 폴더 리스트', os.listdir('PennFudanPed/'), '\\n\\n')\n",
        "\n",
        "%cd /content"
      ],
      "execution_count": 21,
      "outputs": [
        {
          "output_type": "stream",
          "name": "stdout",
          "text": [
            "/content\n",
            "--2022-01-22 06:22:40--  https://www.cis.upenn.edu/~jshi/ped_html/PennFudanPed.zip\n",
            "Resolving www.cis.upenn.edu (www.cis.upenn.edu)... 158.130.69.163, 2607:f470:8:64:5ea5::d\n",
            "Connecting to www.cis.upenn.edu (www.cis.upenn.edu)|158.130.69.163|:443... connected.\n",
            "HTTP request sent, awaiting response... 200 OK\n",
            "Length: 53723336 (51M) [application/zip]\n",
            "Saving to: ‘PennFudanPed.zip’\n",
            "\n",
            "PennFudanPed.zip    100%[===================>]  51.23M  26.9MB/s    in 1.9s    \n",
            "\n",
            "2022-01-22 06:22:42 (26.9 MB/s) - ‘PennFudanPed.zip’ saved [53723336/53723336]\n",
            "\n",
            "\n",
            "\n",
            " /content/ 경로의 파일과 폴더 리스트 ['.config', 'PennFudanPed.zip', 'drive', 'PennFudanPed', 'sample_data']\n",
            " /content/PennFudanPed/ 경로의 파일과 폴더 리스트 ['PNGImages', 'Annotation', 'added-object-list.txt', 'PedMasks', 'readme.txt'] \n",
            "\n",
            "\n",
            "/content\n"
          ]
        }
      ]
    },
    {
      "cell_type": "code",
      "source": [
        "# 데이터를 구글 드라이브에 직접 업로드한 경우\n",
        "# !cp \"/content/drive/MyDrive/Colab Notebooks/Data/PennFudanPed.zip\" \"/content/PennFudanPed.zip\" \n",
        "# !unzip -qq \"/content/PennFudanPed.zip\"\n",
        "# print(os.listdir('/content/PennFudanPed/'))"
      ],
      "metadata": {
        "id": "rcdkZo6yZP7h"
      },
      "execution_count": 22,
      "outputs": []
    },
    {
      "cell_type": "code",
      "metadata": {
        "id": "01192B-Rm9fO",
        "outputId": "ef32a404-e3af-45d3-9ce9-21fb77fa95a8",
        "colab": {
          "base_uri": "https://localhost:8080/"
        }
      },
      "source": [
        "%cd /content/drive/MyDrive/Colab Notebooks\n",
        "!git clone https://github.com/yoojy31/pytorch-object-detection-tutorial.git  # 외부에서 clone 해옴"
      ],
      "execution_count": 23,
      "outputs": [
        {
          "output_type": "stream",
          "name": "stdout",
          "text": [
            "/content/drive/MyDrive/Colab Notebooks\n",
            "Cloning into 'pytorch-object-detection-tutorial'...\n",
            "remote: Enumerating objects: 52, done.\u001b[K\n",
            "remote: Counting objects: 100% (52/52), done.\u001b[K\n",
            "remote: Compressing objects: 100% (47/47), done.\u001b[K\n",
            "remote: Total 52 (delta 16), reused 29 (delta 3), pack-reused 0\u001b[K\n",
            "Unpacking objects: 100% (52/52), done.\n"
          ]
        }
      ]
    },
    {
      "cell_type": "code",
      "metadata": {
        "id": "B_YzuaMpnAiu",
        "outputId": "455d1901-014e-4765-955f-96381436dae3",
        "colab": {
          "base_uri": "https://localhost:8080/"
        }
      },
      "source": [
        "# clone 해온 코드를 import 하기 위함\n",
        "# 너무 복잡한 부분은 외부에서 불러오고, colab 에서는 생략\n",
        "\n",
        "%cd 'pytorch-object-detection-tutorial'\n",
        "import engine, utils\n",
        "import transforms as T\n",
        "%cd /content "
      ],
      "execution_count": 24,
      "outputs": [
        {
          "output_type": "stream",
          "name": "stdout",
          "text": [
            "/content/drive/MyDrive/Colab Notebooks/pytorch-object-detection-tutorial\n",
            "/content\n"
          ]
        }
      ]
    },
    {
      "cell_type": "code",
      "metadata": {
        "id": "AGbaepV1HpX3"
      },
      "source": [
        "# 필요한 라이브러리\n",
        "\n",
        "import os\n",
        "import sys\n",
        "import math\n",
        "\n",
        "import numpy as np\n",
        "import torch\n",
        "import torch.nn as nn\n",
        "from PIL import Image\n",
        "\n",
        "import torchvision\n",
        "from torchvision.models.detection import FasterRCNN\n",
        "from torchvision.models.detection.rpn import AnchorGenerator, RPNHead\n",
        "from torchvision.models.detection.faster_rcnn import TwoMLPHead, FastRCNNPredictor"
      ],
      "execution_count": 25,
      "outputs": []
    },
    {
      "cell_type": "code",
      "metadata": {
        "id": "IFo6PVNNkcxx"
      },
      "source": [
        "def main(model_name='faster_rcnn', num_epochs=5):  # 전체 코드 구조를 먼저 만든 후, 각 요소들을 만들 예정.\n",
        "    # model_name option\n",
        "    #     faster_rcnn : full modeling and weight initialization\n",
        "    #     pretrained_faster_rcnn : coco-pretrained. faster rcnn\n",
        "    #     pretrained_ssd : coco-trained. ssdlite320_mobilenet_v3_large\n",
        "\n",
        "    # Data Loader\n",
        "    data_loader_train, data_loader_test = create_dataset_and_dataloader(root='PennFudanPed')\n",
        "\n",
        "    # Model\n",
        "    if model_name=='faster_rcnn': model = create_faster_rcnn()\n",
        "    elif model_name=='pretrained_faster_rcnn': model = create_pretrained_faster_rcnn()\n",
        "    elif model_name=='pretrained_ssd': model = create_pretrained_ssd()\n",
        "\n",
        "    device = torch.device('cuda') if torch.cuda.is_available() else torch.device('cpu')\n",
        "    model.to(device)  # if gpu 가 가능 then gpu로 학습,  else, cpu로 학습\n",
        "\n",
        "    # Optimizer\n",
        "    params = [p for p in model.parameters() if p.requires_grad]\n",
        "    optimizer = torch.optim.SGD(params, lr=0.005, momentum=0.9, weight_decay=0.0005)\n",
        "\n",
        "    # let's train\n",
        "    for epoch in range(num_epochs):\n",
        "        # train for one epoch, printing every 10 iterations\n",
        "        train_one_epoch(model, optimizer, data_loader_train, device, epoch, print_freq=10)\n",
        "        # evaluate on the test dataset\n",
        "        # eval code 는 외부에서 가져옴\n",
        "        engine.evaluate(model, data_loader_test, device=device)\n",
        "\n",
        "    print(\"That's it!\")\n",
        "    return model"
      ],
      "execution_count": 26,
      "outputs": []
    },
    {
      "cell_type": "code",
      "metadata": {
        "id": "3vQl4PHOOgmm"
      },
      "source": [
        "def create_dataset_and_dataloader(root='PennFudanPed'):\n",
        "  dataset = PennFudanDataset(root, get_transform(train=True))\n",
        "  dataset_test = PennFudanDataset(root, get_transform(train=False))\n",
        "\n",
        "  # split the dataset in train and test set\n",
        "  indices = list(range(len(dataset)))\n",
        "  dataset = torch.utils.data.Subset(dataset, indices[:-50])\n",
        "  dataset_test = torch.utils.data.Subset(dataset_test, indices[-50:])\n",
        "\n",
        "  # define training and validation data loaders\n",
        "  data_loader = torch.utils.data.DataLoader(\n",
        "      dataset, batch_size=2, shuffle=True, num_workers=4,\n",
        "      collate_fn=utils.collate_fn)\n",
        "\n",
        "  data_loader_test = torch.utils.data.DataLoader(\n",
        "      dataset_test, batch_size=1, shuffle=False, num_workers=4,\n",
        "      collate_fn=utils.collate_fn)\n",
        "  return data_loader, data_loader_test\n"
      ],
      "execution_count": 27,
      "outputs": []
    },
    {
      "cell_type": "code",
      "metadata": {
        "id": "8YztgWHcMXWi"
      },
      "source": [
        "class PennFudanDataset(torch.utils.data.Dataset):\n",
        "    '''\n",
        "    PennFudanPed/\n",
        "      PedMasks/\n",
        "        FudanPed00001_mask.png\n",
        "        FudanPed00002_mask.png\n",
        "        FudanPed00003_mask.png\n",
        "        FudanPed00004_mask.png\n",
        "        ...\n",
        "      PNGImages/\n",
        "        FudanPed00001.png\n",
        "        FudanPed00002.png\n",
        "        FudanPed00003.png\n",
        "        FudanPed00004.png\n",
        "    '''\n",
        "    def __init__(self, root, transforms):\n",
        "        self.root = root\n",
        "        self.transforms = transforms\n",
        "        # load all image files, sorting them to\n",
        "        # ensure that they are aligned\n",
        "        self.imgs = list(sorted(os.listdir(os.path.join(root, \"PNGImages\"))))\n",
        "        self.masks = list(sorted(os.listdir(os.path.join(root, \"PedMasks\"))))\n",
        "\n",
        "    def __getitem__(self, idx):\n",
        "        # load images and masks\n",
        "        img_path = os.path.join(self.root, \"PNGImages\", self.imgs[idx])\n",
        "        mask_path = os.path.join(self.root, \"PedMasks\", self.masks[idx])\n",
        "\n",
        "        img = Image.open(img_path).convert(\"RGB\")\n",
        "        mask = Image.open(mask_path)  # mask --> 0 : 배경, 1,2,3,... : 보행자 \n",
        "        mask = np.array(mask) # convert the PIL Image into a numpy array\n",
        "        \n",
        "        obj_ids = np.unique(mask)\n",
        "        obj_ids = obj_ids[1:] # index 0 은 배경이라서 제거\n",
        "        masks = mask == obj_ids[:, None, None]\n",
        "\n",
        "        # mask 로부터 box를 생성  (left, top, right, bottom)\n",
        "        num_objs = len(obj_ids) \n",
        "        boxes = []\n",
        "        for i in range(num_objs):\n",
        "            pos = np.where(masks[i])\n",
        "            xmin = np.min(pos[1])\n",
        "            xmax = np.max(pos[1])\n",
        "            ymin = np.min(pos[0])\n",
        "            ymax = np.max(pos[0])\n",
        "            boxes.append([xmin, ymin, xmax, ymax])\n",
        "\n",
        "        # torch tensor 로 변환\n",
        "        boxes = torch.as_tensor(boxes, dtype=torch.float32)\n",
        "  \n",
        "        labels = torch.ones((num_objs,), dtype=torch.int64)\n",
        "        masks = torch.as_tensor(masks, dtype=torch.uint8)\n",
        "\n",
        "        image_id = torch.tensor([idx])\n",
        "        area = (boxes[:, 3] - boxes[:, 1]) * (boxes[:, 2] - boxes[:, 0])\n",
        "        # suppose all instances are not crowd\n",
        "        iscrowd = torch.zeros((num_objs,), dtype=torch.int64)\n",
        "\n",
        "        target = {}\n",
        "        target[\"boxes\"] = boxes\n",
        "        target[\"labels\"] = labels\n",
        "        target[\"masks\"] = masks\n",
        "        target[\"image_id\"] = image_id\n",
        "        target[\"area\"] = area\n",
        "        target[\"iscrowd\"] = iscrowd\n",
        "\n",
        "\n",
        "        # 데이터 변환\n",
        "        # data augmentation, numpy array--> torch tensor, 기타등등....\n",
        "        if self.transforms is not None:\n",
        "            img, target = self.transforms(img, target)\n",
        "        return img, target\n",
        "\n",
        "    def __len__(self):\n",
        "        return len(self.imgs)"
      ],
      "execution_count": 28,
      "outputs": []
    },
    {
      "cell_type": "code",
      "metadata": {
        "id": "YiFF50PAYJXz"
      },
      "source": [
        "def get_transform(train): # T 는 외부에서 불러오는 함수. clone 한 github code 에 포함\n",
        "    transforms = []\n",
        "    transforms.append(T.ToTensor())\n",
        "    if train:\n",
        "        transforms.append(T.RandomHorizontalFlip(0.5))\n",
        "    return T.Compose(transforms)"
      ],
      "execution_count": 29,
      "outputs": []
    },
    {
      "cell_type": "code",
      "metadata": {
        "colab": {
          "base_uri": "https://localhost:8080/",
          "height": 405
        },
        "id": "E37xDYqoh8cY",
        "outputId": "67b9bd7a-da43-4084-db0a-5f97ff767385"
      },
      "source": [
        "# 데이터 테스트 출력\n",
        "def tmp_test_dataloader():\n",
        "  import cv2\n",
        "  import matplotlib.pyplot as plt\n",
        "\n",
        "  # 박스 시각화\n",
        "  def makeBox(voc_im, bbox):\n",
        "    image = voc_im.copy()\n",
        "    for i in range(len(bbox)):\n",
        "      cv2.rectangle(image,(int(bbox[i][0]),int(bbox[i][1])),(int(bbox[i][2]),int(bbox[i][3])),color = (0,255,0),thickness = 1)\n",
        "    return image\n",
        "\n",
        "\n",
        "  dataset = PennFudanDataset('PennFudanPed', get_transform(train=True))\n",
        "  dataloader = torch.utils.data.DataLoader(dataset, shuffle=True)\n",
        "\n",
        "  for i, (image, targets) in enumerate(dataloader):\n",
        "    test_image = image\n",
        "    test_target = targets\n",
        "    if i == 0 : break\n",
        "\n",
        "  print(test_target)\n",
        "\n",
        "  plot_image = makeBox(test_image.squeeze(0).permute(1,2,0).numpy(),test_target['boxes'].squeeze(0))\n",
        "  plt.imshow(plot_image)\n",
        "\n",
        "tmp_test_dataloader()"
      ],
      "execution_count": 30,
      "outputs": [
        {
          "output_type": "stream",
          "name": "stderr",
          "text": [
            "Clipping input data to the valid range for imshow with RGB data ([0..1] for floats or [0..255] for integers).\n"
          ]
        },
        {
          "output_type": "stream",
          "name": "stdout",
          "text": [
            "{'boxes': tensor([[[ 98.,  38., 229., 330.]]]), 'labels': tensor([[1]]), 'masks': tensor([[[[0, 0, 0,  ..., 0, 0, 0],\n",
            "          [0, 0, 0,  ..., 0, 0, 0],\n",
            "          [0, 0, 0,  ..., 0, 0, 0],\n",
            "          ...,\n",
            "          [0, 0, 0,  ..., 0, 0, 0],\n",
            "          [0, 0, 0,  ..., 0, 0, 0],\n",
            "          [0, 0, 0,  ..., 0, 0, 0]]]], dtype=torch.uint8), 'image_id': tensor([[34]]), 'area': tensor([[38252.]]), 'iscrowd': tensor([[0]])}\n"
          ]
        },
        {
          "output_type": "display_data",
          "data": {
            "image/png": "[encoded data removed]",
            "text/plain": [
              "<Figure size 432x288 with 1 Axes>"
            ]
          },
          "metadata": {
            "needs_background": "light"
          }
        }
      ]
    },
    {
      "cell_type": "code",
      "metadata": {
        "id": "gEfwd26BjL3P"
      },
      "source": [
        "def create_faster_rcnn():\n",
        "    # backbone\n",
        "    resnet = torchvision.models.resnet50(pretrained=True)\n",
        "    backbone = nn.Sequential(\n",
        "        resnet.conv1, resnet.bn1, resnet.relu, resnet.maxpool,\n",
        "        resnet.layer1, resnet.layer2, resnet.layer3, resnet.layer4\n",
        "    )\n",
        "    backbone.out_channels = 2048\n",
        "\n",
        "\n",
        "    # anchor generator\n",
        "    rpn_anchor_generator = AnchorGenerator(\n",
        "        sizes=((32, 64, 128, 256, 512),), aspect_ratios=((0.5, 1.0, 2.0),))\n",
        "\n",
        "    # RPN head\n",
        "    num_anchors = 5 * 3\n",
        "    in_channels = backbone.out_channels\n",
        "    rpn_head = RPNHead(in_channels, num_anchors)\n",
        "\n",
        "    # roi pooler\n",
        "    roi_pooler = torchvision.ops.MultiScaleRoIAlign(\n",
        "        featmap_names=['0'], output_size=7, sampling_ratio=2)\n",
        "\n",
        "    # roi head, box base, two mlp head\n",
        "    in_channles = 7 * 7 * backbone.out_channels\n",
        "    representation_size = 2048\n",
        "    box_base = TwoMLPHead(in_channels=in_channles,\n",
        "                          representation_size=representation_size)\n",
        "    \n",
        "    # fast rcnn predictor, box predictor\n",
        "    num_classes = 2\n",
        "    box_predictor = FastRCNNPredictor(in_channels=representation_size, num_classes=num_classes)\n",
        "\n",
        "    # put the pieces together inside a FasterRCNN model\n",
        "    model = FasterRCNN(backbone,\n",
        "                       # num_classes=2,\n",
        "                       rpn_head=rpn_head,\n",
        "                       rpn_anchor_generator=rpn_anchor_generator,\n",
        "                       box_roi_pool=roi_pooler,\n",
        "                       box_head=box_base,\n",
        "                       box_predictor=box_predictor)\n",
        "    return model"
      ],
      "execution_count": 31,
      "outputs": []
    },
    {
      "cell_type": "code",
      "source": [
        "# faster rcnn inference example\n",
        "\n",
        "from collections import OrderedDict\n",
        "from torchvision.models.detection.image_list import ImageList\n",
        "\n",
        "\n",
        "# assume that original image size : (256, 768) \n",
        "@torch.no_grad()\n",
        "def tmp_test_FasterRCNN():\n",
        "  faster_rcnn = create_faster_rcnn().eval()\n",
        "  dummy_img = torch.ones((1, 3, 256, 768))\n",
        "  dummy_img_list = ImageList(dummy_img, [(256, 768)])\n",
        "\n",
        "  print(f'{\"image shape : \" :>25}', dummy_img.shape)\n",
        "  features = faster_rcnn.backbone(dummy_img_list.tensors)\n",
        "  print(f'{\"feature shape : \" :>25}', features.shape)\n",
        "  if isinstance(features, torch.Tensor):\n",
        "      features = OrderedDict([(\"0\", features)])\n",
        "\n",
        "\n",
        "  proposals, _ = faster_rcnn.rpn(dummy_img_list, features)\n",
        "  print(f'{\"proposal shape : \" :>25}', proposals[0].shape)\n",
        "\n",
        "  box_features = faster_rcnn.roi_heads.box_roi_pool(features, proposals, dummy_img_list.image_sizes)\n",
        "  print(f'{\"roi pooling result : \" :>25}', box_features.shape)\n",
        "\n",
        "  box_features = faster_rcnn.roi_heads.box_head(box_features)\n",
        "  print(f'{\"box head output : \" :>25}', box_features.shape, '\\n')\n",
        "\n",
        "  class_logits, box_regression = faster_rcnn.roi_heads.box_predictor(box_features)\n",
        "  boxes, scores, labels = faster_rcnn.roi_heads.postprocess_detections(\n",
        "      class_logits, box_regression, proposals, dummy_img_list.image_sizes)\n",
        "  print(f'{\"final output shape : \" :>25}')\n",
        "  print('\\tboxes :', boxes[0].shape, '\\te.g.', boxes[0][0])\n",
        "  print('\\tlabels :', labels[0].shape, '\\te.g.', labels[0][0])\n",
        "  print('\\tscores :', scores[0].shape, '\\te.g.', scores[0][0])\n",
        "  print('\\tThis output is the result including post-processing such as NMS and Thresholding.')\n",
        "\n",
        "tmp_test_FasterRCNN()"
      ],
      "metadata": {
        "colab": {
          "base_uri": "https://localhost:8080/",
          "height": 287,
          "referenced_widgets": [
            "fa2a30f771064812be2dce4e5a6a0af8",
            "842ad34df35b449a84743516b90ef07e",
            "9b02c9d18c1940849855347959b424c8",
            "67ea239ac825423a8a42059a52dc2db4",
            "f95559be5c8243c6bc22052763257d7b",
            "c3159b4406ae458f835a2fd7a730eb1c",
            "6f9d36de7bf14c78892b856539f490d6",
            "51b00ca87f754388953c39137dc3b0cf",
            "1ca73f964f044934bf617cf9b3fdf86c",
            "67a10a82655a40869bdcc20862f9afc8",
            "cc31313b77db4db388039a1b38ca46f5"
          ]
        },
        "id": "CJTqZcJ2a70u",
        "outputId": "ae179eae-b2ff-4038-b204-809c6602169d"
      },
      "execution_count": 32,
      "outputs": [
        {
          "output_type": "stream",
          "name": "stderr",
          "text": [
            "Downloading: \"https://download.pytorch.org/models/resnet50-0676ba61.pth\" to /root/.cache/torch/hub/checkpoints/resnet50-0676ba61.pth\n"
          ]
        },
        {
          "output_type": "display_data",
          "data": {
            "application/vnd.jupyter.widget-view+json": {
              "model_id": "fa2a30f771064812be2dce4e5a6a0af8",
              "version_minor": 0,
              "version_major": 2
            },
            "text/plain": [
              "  0%|          | 0.00/97.8M [00:00<?, ?B/s]"
            ]
          },
          "metadata": {}
        },
        {
          "output_type": "stream",
          "name": "stdout",
          "text": [
            "           image shape :  torch.Size([1, 3, 256, 768])\n",
            "         feature shape :  torch.Size([1, 2048, 8, 24])\n"
          ]
        },
        {
          "output_type": "stream",
          "name": "stderr",
          "text": [
            "/usr/local/lib/python3.7/dist-packages/torch/functional.py:445: UserWarning: torch.meshgrid: in an upcoming release, it will be required to pass the indexing argument. (Triggered internally at  ../aten/src/ATen/native/TensorShape.cpp:2157.)\n",
            "  return _VF.meshgrid(tensors, **kwargs)  # type: ignore[attr-defined]\n"
          ]
        },
        {
          "output_type": "stream",
          "name": "stdout",
          "text": [
            "        proposal shape :  torch.Size([753, 4])\n",
            "    roi pooling result :  torch.Size([753, 2048, 7, 7])\n",
            "       box head output :  torch.Size([753, 2048]) \n",
            "\n",
            "    final output shape : \n",
            "\tboxes : torch.Size([100, 4]) \te.g. tensor([156.0418,  79.1978, 211.9843, 103.8324])\n",
            "\tlabels : torch.Size([100]) \te.g. tensor(1)\n",
            "\tscores : torch.Size([100]) \te.g. tensor(0.5348)\n",
            "\tThis output is the result including post-processing such as NMS and Thresholding.\n"
          ]
        }
      ]
    },
    {
      "cell_type": "code",
      "metadata": {
        "id": "MTIdxOdJKYC7",
        "colab": {
          "base_uri": "https://localhost:8080/"
        },
        "outputId": "9143890d-6e4d-476e-aa42-11a45e78959f"
      },
      "source": [
        "@torch.no_grad()\n",
        "def tmp_test_backbone():\n",
        "  resnet = torchvision.models.resnet50(pretrained=True)\n",
        "  backbone = nn.Sequential(\n",
        "      resnet.conv1, resnet.bn1, resnet.relu, resnet.maxpool,\n",
        "      resnet.layer1, resnet.layer2, resnet.layer3, resnet.layer4,\n",
        "  )\n",
        "\n",
        "  input_img = torch.rand(8, 3, 800, 800)\n",
        "  output_feature = backbone(input_img)\n",
        "  print('input : image batch {}'.format(input_img.shape))\n",
        "  print('output : backbone feature {}'.format(output_feature.shape))\n",
        "\n",
        "tmp_test_backbone()"
      ],
      "execution_count": 33,
      "outputs": [
        {
          "output_type": "stream",
          "name": "stdout",
          "text": [
            "input : image batch torch.Size([8, 3, 800, 800])\n",
            "output : backbone feature torch.Size([8, 2048, 25, 25])\n"
          ]
        }
      ]
    },
    {
      "cell_type": "code",
      "metadata": {
        "id": "LxHmHs0gjiGU",
        "colab": {
          "base_uri": "https://localhost:8080/",
          "height": 575
        },
        "outputId": "b6ba64df-c392-40cc-e0f8-90c285e7f3a4"
      },
      "source": [
        "@torch.no_grad()\n",
        "def tmp_test_anchor_generator(draw_index):\n",
        "  import cv2\n",
        "  import matplotlib.pyplot as plt\n",
        "\n",
        "  rpn_anchor_generator = AnchorGenerator(\n",
        "        sizes=((32, 64, 128, 256, 512),), aspect_ratios=((0.5, 1.0, 2.0),))\n",
        "  rpn_anchor_generator.to('cpu')\n",
        "  \n",
        "  images = torch.rand(1, 3, 800, 800)\n",
        "  features = torch.rand(1, 2048, 25, 25)\n",
        "\n",
        "  from torchvision.models.detection.image_list import ImageList\n",
        "  images = ImageList(images, [(800, 800)])\n",
        "\n",
        "  anchors = rpn_anchor_generator(images, features)\n",
        "\n",
        "  print('input : images, features  {}, {}'.format(images.tensors.shape, features.shape))\n",
        "  print('output : anchors  {}'.format(anchors[0].shape)) # 9,375 == 25x25 x 15\n",
        "  \n",
        "  draw_img = torch.zeros(800, 800, 3).numpy()\n",
        "  # 박스 시각화\n",
        "  def makeBox(voc_im, bbox):\n",
        "    image = voc_im.copy()\n",
        "    for i in range(len(bbox)):\n",
        "      cv2.rectangle(image,(int(bbox[i][0]),int(bbox[i][1])),(int(bbox[i][2]),int(bbox[i][3])),color = (0,255,0),thickness = 2)\n",
        "    return image\n",
        "\n",
        "  selected_boxes = anchors[0][15*draw_index:15*(draw_index+1)]\n",
        "\n",
        "  print(selected_boxes)\n",
        "  plot_image = makeBox(draw_img, selected_boxes)\n",
        "  plt.imshow(plot_image)\n",
        "\n",
        "tmp_test_anchor_generator(440) # 0, 1, 2, 3, ... ,  25*25-2, 25*25-1 까지"
      ],
      "execution_count": 34,
      "outputs": [
        {
          "output_type": "stream",
          "name": "stderr",
          "text": [
            "Clipping input data to the valid range for imshow with RGB data ([0..1] for floats or [0..255] for integers).\n"
          ]
        },
        {
          "output_type": "stream",
          "name": "stdout",
          "text": [
            "input : images, features  torch.Size([1, 3, 800, 800]), torch.Size([1, 2048, 25, 25])\n",
            "output : anchors  torch.Size([9375, 4])\n",
            "tensor([[457., 533., 503., 555.],\n",
            "        [435., 521., 525., 567.],\n",
            "        [389., 499., 571., 589.],\n",
            "        [299., 453., 661., 635.],\n",
            "        [118., 363., 842., 725.],\n",
            "        [464., 528., 496., 560.],\n",
            "        [448., 512., 512., 576.],\n",
            "        [416., 480., 544., 608.],\n",
            "        [352., 416., 608., 672.],\n",
            "        [224., 288., 736., 800.],\n",
            "        [469., 521., 491., 567.],\n",
            "        [457., 499., 503., 589.],\n",
            "        [435., 453., 525., 635.],\n",
            "        [389., 363., 571., 725.],\n",
            "        [299., 182., 661., 906.]])\n"
          ]
        },
        {
          "output_type": "display_data",
          "data": {
            "image/png": "[encoded data removed]",
            "text/plain": [
              "<Figure size 432x288 with 1 Axes>"
            ]
          },
          "metadata": {
            "needs_background": "light"
          }
        }
      ]
    },
    {
      "cell_type": "code",
      "metadata": {
        "id": "QaeSLBkKLOvC",
        "colab": {
          "base_uri": "https://localhost:8080/"
        },
        "outputId": "70ea45d8-3153-4a24-8042-e431860366c2"
      },
      "source": [
        "@torch.no_grad()\n",
        "def tmp_test_RPNHead():\n",
        "  rpn_head = RPNHead(in_channels=2048, num_anchors=5*3) # 2048 : backbone의 output channel\n",
        "\n",
        "  backbone_feature_map = torch.rand(8, 2048, 25, 25)\n",
        "\n",
        "  prob, box_delta = rpn_head([backbone_feature_map])\n",
        "  print('intput : backbone feature {}'.format(backbone_feature_map.shape))\n",
        "  print('output : prob {}  and  box_delta {}'.format(prob[0].shape, box_delta[0].shape))\n",
        "\n",
        "tmp_test_RPNHead()"
      ],
      "execution_count": 35,
      "outputs": [
        {
          "output_type": "stream",
          "name": "stdout",
          "text": [
            "intput : backbone feature torch.Size([8, 2048, 25, 25])\n",
            "output : prob torch.Size([8, 15, 25, 25])  and  box_delta torch.Size([8, 60, 25, 25])\n"
          ]
        }
      ]
    },
    {
      "cell_type": "code",
      "metadata": {
        "id": "yVY0KOJTMloS",
        "colab": {
          "base_uri": "https://localhost:8080/"
        },
        "outputId": "fcf5ed17-7eef-4a19-e271-23dd603ad787"
      },
      "source": [
        "@torch.no_grad()\n",
        "def tmp_test_RoIAlign():\n",
        "  roi_pooler = torchvision.ops.MultiScaleRoIAlign(\n",
        "          featmap_names=['0'], output_size=7, sampling_ratio=2)\n",
        "\n",
        "  backbone_feature_map = torch.rand(8, 2048, 25, 25)\n",
        "  box_of_rpn = [torch.randint(0, 800, size=(100, 4)).float()] * 8   # 8:batch size\n",
        "  print('[input]')\n",
        "  print('backbone feature  {}'.format(backbone_feature_map.shape))\n",
        "  print('box :  batch {}  and  shape : {}'.format(len(box_of_rpn), box_of_rpn[0].shape))\n",
        "  print()\n",
        "  print('output : ', roi_pooler(\n",
        "      x={'0': backbone_feature_map},\n",
        "      boxes=box_of_rpn,\n",
        "      image_shapes=[(800, 800)] * 8).shape)\n",
        "  \n",
        "tmp_test_RoIAlign()"
      ],
      "execution_count": 36,
      "outputs": [
        {
          "output_type": "stream",
          "name": "stdout",
          "text": [
            "[input]\n",
            "backbone feature  torch.Size([8, 2048, 25, 25])\n",
            "box :  batch 8  and  shape : torch.Size([100, 4])\n",
            "\n",
            "output :  torch.Size([800, 2048, 7, 7])\n"
          ]
        }
      ]
    },
    {
      "cell_type": "code",
      "metadata": {
        "id": "-mK3fj7uPSgq",
        "colab": {
          "base_uri": "https://localhost:8080/"
        },
        "outputId": "d8cdc1d8-ae64-4cbb-87e7-95c0cddd0f06"
      },
      "source": [
        "@torch.no_grad()\n",
        "def tmp_test_boxbase():\n",
        "  box_base = TwoMLPHead(in_channels=7*7*2048,\n",
        "                            representation_size=2048)\n",
        "\n",
        "  roi_pooling_result = torch.rand(800, 2048, 7, 7)\n",
        "  output = box_base(roi_pooling_result)\n",
        "\n",
        "  print('input : roi pooling result  {}'.format(roi_pooling_result.shape))\n",
        "  print('output : box base feature  {}'.format(output.shape))\n",
        "\n",
        "tmp_test_boxbase()"
      ],
      "execution_count": 37,
      "outputs": [
        {
          "output_type": "stream",
          "name": "stdout",
          "text": [
            "input : roi pooling result  torch.Size([800, 2048, 7, 7])\n",
            "output : box base feature  torch.Size([800, 2048])\n"
          ]
        }
      ]
    },
    {
      "cell_type": "code",
      "metadata": {
        "id": "QniVkdnZPSqb",
        "colab": {
          "base_uri": "https://localhost:8080/"
        },
        "outputId": "233a156f-9d59-42bb-f098-270ccdc72cae"
      },
      "source": [
        "@torch.no_grad()\n",
        "def tmp_test_boxpredictor():\n",
        "  num_classes = 81 # e.g. coco : 80 class + 1 background\n",
        "  box_predictor = FastRCNNPredictor(in_channels=2048, num_classes=num_classes)\n",
        "\n",
        "  box_base_result = torch.rand(800, 2048)\n",
        "  prob, box_delta = box_predictor(box_base_result)\n",
        "\n",
        "  print('input : roi pooling result  {}'.format(box_base_result.shape))\n",
        "  print('output : box prob  {}   and    box delta {}'.format(prob.shape, box_delta.shape))\n",
        "\n",
        "tmp_test_boxpredictor()"
      ],
      "execution_count": 38,
      "outputs": [
        {
          "output_type": "stream",
          "name": "stdout",
          "text": [
            "input : roi pooling result  torch.Size([800, 2048])\n",
            "output : box prob  torch.Size([800, 81])   and    box delta torch.Size([800, 324])\n"
          ]
        }
      ]
    },
    {
      "cell_type": "code",
      "metadata": {
        "id": "byx5-IJfh5MK"
      },
      "source": [
        "def create_pretrained_faster_rcnn():\n",
        "    # COCO 에서 학습된 weight 를 불러오기\n",
        "    model = torchvision.models.detection.fasterrcnn_resnet50_fpn(pretrained=True)\n",
        "\n",
        "    # COCO는 80 클래스. 클래스 개수가 달라졌기에 클래스 분류 layer 를 교체해줘야 함.\n",
        "    num_classes = 2  # 1 class (person) + background\n",
        "    in_features = model.roi_heads.box_predictor.cls_score.in_features\n",
        "    model.roi_heads.box_predictor = FastRCNNPredictor(in_features, num_classes)\n",
        "    return model"
      ],
      "execution_count": 39,
      "outputs": []
    },
    {
      "cell_type": "code",
      "metadata": {
        "id": "-bOQyjbUkWSR"
      },
      "source": [
        "def create_pretrained_ssd():\n",
        "    model = torchvision.models.detection.ssdlite320_mobilenet_v3_large(pretrained=True)\n",
        "    # feature_maps = model.backbone(torch.rand(4, 3, 320, 320))\n",
        "    # print(len(feature_maps), feature_maps.keys())\n",
        "    # print(feature_maps['0'].shape, feature_maps['1'].shape, feature_maps['2'].shape,\n",
        "    #       feature_maps['3'].shape, feature_maps['4'].shape, feature_maps['5'].shape)\n",
        "    # out = model.head(list(feature_maps.values()))\n",
        "    # print(out['bbox_regression'].shape, out['cls_logits'].shape)\n",
        "    return model"
      ],
      "execution_count": 40,
      "outputs": []
    },
    {
      "cell_type": "code",
      "metadata": {
        "id": "7CyE7hl2jZcp"
      },
      "source": [
        "def train_one_epoch(model, optimizer, data_loader, device, epoch, print_freq):\n",
        "    model.train()\n",
        "\n",
        "    metric_logger = utils.MetricLogger(delimiter=\"  \") # 학습할 때 가독성 좋은 log 를 위해 사용\n",
        "    metric_logger.add_meter('lr', utils.SmoothedValue(window_size=1, fmt='{value:.6f}'))\n",
        "    header = 'Epoch: [{}]'.format(epoch)\n",
        "\n",
        "    for images, targets in metric_logger.log_every(data_loader, print_freq, header):\n",
        "        # train 할 때는 input image 와 target 이 필요\n",
        "        # 현재 사용하는 네트워크에 맞게 transform\n",
        "        images = list(image.to(device) for image in images)\n",
        "        targets = [{k: v.to(device) for k, v in t.items()} for t in targets]\n",
        "\n",
        "        loss_dict = model(images, targets)\n",
        "\n",
        "        # loss 계산 후 backward  &  파라미터 update\n",
        "        losses = sum(loss for loss in loss_dict.values())\n",
        "        optimizer.zero_grad()\n",
        "        losses.backward()\n",
        "        optimizer.step()\n",
        "\n",
        "        if not math.isfinite(losses.item()): # loss 가 무한대 되면 강제 정지\n",
        "            print(\"Loss is {}, stopping training\".format(losses.item()))\n",
        "            print(loss_dict)\n",
        "            sys.exit(1)\n",
        "\n",
        "        # 학습 과정 log\n",
        "        metric_logger.update(loss=losses, **loss_dict)\n",
        "        metric_logger.update(lr=optimizer.param_groups[0][\"lr\"])"
      ],
      "execution_count": 41,
      "outputs": []
    },
    {
      "cell_type": "code",
      "source": [
        "torch.cuda.is_available()"
      ],
      "metadata": {
        "colab": {
          "base_uri": "https://localhost:8080/"
        },
        "id": "-kXBjY5SaWPP",
        "outputId": "b4cc0a45-a529-4f18-8b61-569585a90154"
      },
      "execution_count": 42,
      "outputs": [
        {
          "output_type": "execute_result",
          "data": {
            "text/plain": [
              "True"
            ]
          },
          "metadata": {},
          "execution_count": 42
        }
      ]
    },
    {
      "cell_type": "code",
      "metadata": {
        "colab": {
          "base_uri": "https://localhost:8080/"
        },
        "id": "18VZbStUkfCZ",
        "outputId": "f6b64c04-79d5-4628-d567-d6b77719528a"
      },
      "source": [
        "if __name__ == \"__main__\":\n",
        "    model = main(model_name='faster_rcnn', num_epochs=5)\n",
        "    '''\n",
        "    model_name\n",
        "        faster_rcnn : full modeling and weight initialization\n",
        "        pretrained_faster_rcnn : coco-pretrained. faster rcnn\n",
        "        pretrained_ssd : coco-trained. ssdlite320_mobilenet_v3_large\n",
        "    '''"
      ],
      "execution_count": 43,
      "outputs": [
        {
          "output_type": "stream",
          "name": "stderr",
          "text": [
            "/usr/local/lib/python3.7/dist-packages/torch/utils/data/dataloader.py:481: UserWarning: This DataLoader will create 4 worker processes in total. Our suggested max number of worker in current system is 2, which is smaller than what this DataLoader is going to create. Please be aware that excessive worker creation might get DataLoader running slow or even freeze, lower the worker number to avoid potential slowness/freeze if necessary.\n",
            "  cpuset_checked))\n"
          ]
        },
        {
          "output_type": "stream",
          "name": "stdout",
          "text": [
            "Epoch: [0]  [ 0/60]  eta: 0:01:33  lr: 0.005000  loss: 1.6074 (1.6074)  loss_classifier: 0.7697 (0.7697)  loss_box_reg: 0.0750 (0.0750)  loss_objectness: 0.7239 (0.7239)  loss_rpn_box_reg: 0.0387 (0.0387)  time: 1.5607  data: 0.3013  max mem: 5121\n",
            "Epoch: [0]  [10/60]  eta: 0:00:47  lr: 0.005000  loss: 1.1889 (1.0521)  loss_classifier: 0.3184 (0.3729)  loss_box_reg: 0.1851 (0.2118)  loss_objectness: 0.3410 (0.3830)  loss_rpn_box_reg: 0.0955 (0.0845)  time: 0.9421  data: 0.0348  max mem: 8253\n",
            "Epoch: [0]  [20/60]  eta: 0:00:36  lr: 0.005000  loss: 0.6584 (0.8171)  loss_classifier: 0.2374 (0.3036)  loss_box_reg: 0.1743 (0.1996)  loss_objectness: 0.1504 (0.2469)  loss_rpn_box_reg: 0.0611 (0.0670)  time: 0.8695  data: 0.0086  max mem: 8253\n",
            "Epoch: [0]  [30/60]  eta: 0:00:27  lr: 0.005000  loss: 0.5197 (0.7092)  loss_classifier: 0.1972 (0.2670)  loss_box_reg: 0.1524 (0.1881)  loss_objectness: 0.0891 (0.1918)  loss_rpn_box_reg: 0.0452 (0.0623)  time: 0.8797  data: 0.0086  max mem: 8382\n",
            "Epoch: [0]  [40/60]  eta: 0:00:17  lr: 0.005000  loss: 0.4060 (0.6452)  loss_classifier: 0.1608 (0.2433)  loss_box_reg: 0.1488 (0.1813)  loss_objectness: 0.0708 (0.1621)  loss_rpn_box_reg: 0.0452 (0.0586)  time: 0.8951  data: 0.0087  max mem: 8602\n",
            "Epoch: [0]  [50/60]  eta: 0:00:08  lr: 0.005000  loss: 0.4147 (0.6037)  loss_classifier: 0.1596 (0.2272)  loss_box_reg: 0.1495 (0.1799)  loss_objectness: 0.0448 (0.1403)  loss_rpn_box_reg: 0.0412 (0.0563)  time: 0.8918  data: 0.0086  max mem: 8945\n",
            "Epoch: [0]  [59/60]  eta: 0:00:00  lr: 0.005000  loss: 0.4002 (0.5617)  loss_classifier: 0.1523 (0.2118)  loss_box_reg: 0.1495 (0.1728)  loss_objectness: 0.0380 (0.1237)  loss_rpn_box_reg: 0.0384 (0.0535)  time: 0.9165  data: 0.0075  max mem: 9227\n",
            "Epoch: [0] Total time: 0:00:54 (0.9043 s / it)\n",
            "creating index...\n",
            "index created!\n",
            "Test:  [ 0/50]  eta: 0:00:23  model_time: 0.2073 (0.2073)  evaluator_time: 0.0054 (0.0054)  time: 0.4641  data: 0.2494  max mem: 9227\n",
            "Test:  [49/50]  eta: 0:00:00  model_time: 0.1373 (0.1387)  evaluator_time: 0.0020 (0.0030)  time: 0.1432  data: 0.0039  max mem: 9227\n",
            "Test: Total time: 0:00:07 (0.1548 s / it)\n",
            "Averaged stats: model_time: 0.1373 (0.1387)  evaluator_time: 0.0020 (0.0030)\n",
            "Accumulating evaluation results...\n",
            "DONE (t=0.02s).\n",
            "IoU metric: bbox\n",
            " Average Precision  (AP) @[ IoU=0.50:0.95 | area=   all | maxDets=100 ] = 0.202\n",
            " Average Precision  (AP) @[ IoU=0.50      | area=   all | maxDets=100 ] = 0.554\n",
            " Average Precision  (AP) @[ IoU=0.75      | area=   all | maxDets=100 ] = 0.078\n",
            " Average Precision  (AP) @[ IoU=0.50:0.95 | area= small | maxDets=100 ] = -1.000\n",
            " Average Precision  (AP) @[ IoU=0.50:0.95 | area=medium | maxDets=100 ] = 0.094\n",
            " Average Precision  (AP) @[ IoU=0.50:0.95 | area= large | maxDets=100 ] = 0.229\n",
            " Average Recall     (AR) @[ IoU=0.50:0.95 | area=   all | maxDets=  1 ] = 0.123\n",
            " Average Recall     (AR) @[ IoU=0.50:0.95 | area=   all | maxDets= 10 ] = 0.365\n",
            " Average Recall     (AR) @[ IoU=0.50:0.95 | area=   all | maxDets=100 ] = 0.397\n",
            " Average Recall     (AR) @[ IoU=0.50:0.95 | area= small | maxDets=100 ] = -1.000\n",
            " Average Recall     (AR) @[ IoU=0.50:0.95 | area=medium | maxDets=100 ] = 0.229\n",
            " Average Recall     (AR) @[ IoU=0.50:0.95 | area= large | maxDets=100 ] = 0.408\n",
            "Epoch: [1]  [ 0/60]  eta: 0:01:14  lr: 0.005000  loss: 0.2874 (0.2874)  loss_classifier: 0.0893 (0.0893)  loss_box_reg: 0.1046 (0.1046)  loss_objectness: 0.0269 (0.0269)  loss_rpn_box_reg: 0.0665 (0.0665)  time: 1.2396  data: 0.3480  max mem: 9227\n",
            "Epoch: [1]  [10/60]  eta: 0:00:48  lr: 0.005000  loss: 0.3007 (0.3281)  loss_classifier: 0.1049 (0.1092)  loss_box_reg: 0.1480 (0.1510)  loss_objectness: 0.0283 (0.0311)  loss_rpn_box_reg: 0.0309 (0.0368)  time: 0.9758  data: 0.0384  max mem: 9227\n",
            "Epoch: [1]  [20/60]  eta: 0:00:38  lr: 0.005000  loss: 0.2960 (0.3157)  loss_classifier: 0.0969 (0.1028)  loss_box_reg: 0.1458 (0.1430)  loss_objectness: 0.0283 (0.0326)  loss_rpn_box_reg: 0.0309 (0.0373)  time: 0.9501  data: 0.0085  max mem: 9227\n",
            "Epoch: [1]  [30/60]  eta: 0:00:29  lr: 0.005000  loss: 0.2733 (0.3076)  loss_classifier: 0.0754 (0.0978)  loss_box_reg: 0.1244 (0.1430)  loss_objectness: 0.0261 (0.0307)  loss_rpn_box_reg: 0.0291 (0.0361)  time: 0.9660  data: 0.0091  max mem: 9227\n",
            "Epoch: [1]  [40/60]  eta: 0:00:19  lr: 0.005000  loss: 0.2248 (0.2862)  loss_classifier: 0.0737 (0.0900)  loss_box_reg: 0.1151 (0.1341)  loss_objectness: 0.0261 (0.0287)  loss_rpn_box_reg: 0.0258 (0.0335)  time: 0.9658  data: 0.0085  max mem: 9227\n",
            "Epoch: [1]  [50/60]  eta: 0:00:09  lr: 0.005000  loss: 0.2248 (0.2890)  loss_classifier: 0.0700 (0.0887)  loss_box_reg: 0.0904 (0.1339)  loss_objectness: 0.0310 (0.0309)  loss_rpn_box_reg: 0.0281 (0.0356)  time: 0.9789  data: 0.0091  max mem: 9227\n",
            "Epoch: [1]  [59/60]  eta: 0:00:00  lr: 0.005000  loss: 0.2287 (0.2814)  loss_classifier: 0.0700 (0.0855)  loss_box_reg: 0.1026 (0.1301)  loss_objectness: 0.0319 (0.0304)  loss_rpn_box_reg: 0.0295 (0.0354)  time: 1.0299  data: 0.0084  max mem: 9227\n",
            "Epoch: [1] Total time: 0:00:59 (0.9880 s / it)\n",
            "creating index...\n",
            "index created!\n",
            "Test:  [ 0/50]  eta: 0:00:22  model_time: 0.2169 (0.2169)  evaluator_time: 0.0043 (0.0043)  time: 0.4409  data: 0.2178  max mem: 9227\n",
            "Test:  [49/50]  eta: 0:00:00  model_time: 0.1592 (0.1579)  evaluator_time: 0.0016 (0.0025)  time: 0.1660  data: 0.0040  max mem: 9227\n",
            "Test: Total time: 0:00:08 (0.1729 s / it)\n",
            "Averaged stats: model_time: 0.1592 (0.1579)  evaluator_time: 0.0016 (0.0025)\n",
            "Accumulating evaluation results...\n",
            "DONE (t=0.01s).\n",
            "IoU metric: bbox\n",
            " Average Precision  (AP) @[ IoU=0.50:0.95 | area=   all | maxDets=100 ] = 0.343\n",
            " Average Precision  (AP) @[ IoU=0.50      | area=   all | maxDets=100 ] = 0.823\n",
            " Average Precision  (AP) @[ IoU=0.75      | area=   all | maxDets=100 ] = 0.242\n",
            " Average Precision  (AP) @[ IoU=0.50:0.95 | area= small | maxDets=100 ] = -1.000\n",
            " Average Precision  (AP) @[ IoU=0.50:0.95 | area=medium | maxDets=100 ] = 0.145\n",
            " Average Precision  (AP) @[ IoU=0.50:0.95 | area= large | maxDets=100 ] = 0.356\n",
            " Average Recall     (AR) @[ IoU=0.50:0.95 | area=   all | maxDets=  1 ] = 0.184\n",
            " Average Recall     (AR) @[ IoU=0.50:0.95 | area=   all | maxDets= 10 ] = 0.477\n",
            " Average Recall     (AR) @[ IoU=0.50:0.95 | area=   all | maxDets=100 ] = 0.502\n",
            " Average Recall     (AR) @[ IoU=0.50:0.95 | area= small | maxDets=100 ] = -1.000\n",
            " Average Recall     (AR) @[ IoU=0.50:0.95 | area=medium | maxDets=100 ] = 0.371\n",
            " Average Recall     (AR) @[ IoU=0.50:0.95 | area= large | maxDets=100 ] = 0.510\n",
            "Epoch: [2]  [ 0/60]  eta: 0:01:27  lr: 0.005000  loss: 0.2744 (0.2744)  loss_classifier: 0.0764 (0.0764)  loss_box_reg: 0.1498 (0.1498)  loss_objectness: 0.0198 (0.0198)  loss_rpn_box_reg: 0.0285 (0.0285)  time: 1.4612  data: 0.3105  max mem: 9227\n",
            "Epoch: [2]  [10/60]  eta: 0:00:56  lr: 0.005000  loss: 0.2479 (0.2612)  loss_classifier: 0.0764 (0.0732)  loss_box_reg: 0.1300 (0.1386)  loss_objectness: 0.0227 (0.0221)  loss_rpn_box_reg: 0.0276 (0.0272)  time: 1.1371  data: 0.0353  max mem: 9227\n",
            "Epoch: [2]  [20/60]  eta: 0:00:43  lr: 0.005000  loss: 0.2476 (0.2667)  loss_classifier: 0.0698 (0.0743)  loss_box_reg: 0.1293 (0.1385)  loss_objectness: 0.0242 (0.0244)  loss_rpn_box_reg: 0.0262 (0.0295)  time: 1.0710  data: 0.0084  max mem: 9227\n",
            "Epoch: [2]  [30/60]  eta: 0:00:32  lr: 0.005000  loss: 0.2193 (0.2432)  loss_classifier: 0.0556 (0.0680)  loss_box_reg: 0.1014 (0.1258)  loss_objectness: 0.0192 (0.0211)  loss_rpn_box_reg: 0.0239 (0.0283)  time: 1.0516  data: 0.0094  max mem: 9227\n",
            "Epoch: [2]  [40/60]  eta: 0:00:21  lr: 0.005000  loss: 0.1997 (0.2437)  loss_classifier: 0.0543 (0.0670)  loss_box_reg: 0.0953 (0.1253)  loss_objectness: 0.0161 (0.0239)  loss_rpn_box_reg: 0.0222 (0.0276)  time: 1.0222  data: 0.0094  max mem: 9227\n",
            "Epoch: [2]  [50/60]  eta: 0:00:10  lr: 0.005000  loss: 0.2454 (0.2504)  loss_classifier: 0.0639 (0.0687)  loss_box_reg: 0.1261 (0.1280)  loss_objectness: 0.0224 (0.0258)  loss_rpn_box_reg: 0.0260 (0.0278)  time: 1.0099  data: 0.0101  max mem: 9227\n",
            "Epoch: [2]  [59/60]  eta: 0:00:01  lr: 0.005000  loss: 0.2454 (0.2452)  loss_classifier: 0.0665 (0.0680)  loss_box_reg: 0.1139 (0.1262)  loss_objectness: 0.0224 (0.0246)  loss_rpn_box_reg: 0.0224 (0.0264)  time: 1.0158  data: 0.0093  max mem: 9227\n",
            "Epoch: [2] Total time: 0:01:02 (1.0469 s / it)\n",
            "creating index...\n",
            "index created!\n",
            "Test:  [ 0/50]  eta: 0:00:20  model_time: 0.2172 (0.2172)  evaluator_time: 0.0035 (0.0035)  time: 0.4187  data: 0.1961  max mem: 9227\n",
            "Test:  [49/50]  eta: 0:00:00  model_time: 0.1528 (0.1534)  evaluator_time: 0.0015 (0.0022)  time: 0.1587  data: 0.0040  max mem: 9227\n",
            "Test: Total time: 0:00:08 (0.1676 s / it)\n",
            "Averaged stats: model_time: 0.1528 (0.1534)  evaluator_time: 0.0015 (0.0022)\n",
            "Accumulating evaluation results...\n",
            "DONE (t=0.02s).\n",
            "IoU metric: bbox\n",
            " Average Precision  (AP) @[ IoU=0.50:0.95 | area=   all | maxDets=100 ] = 0.408\n",
            " Average Precision  (AP) @[ IoU=0.50      | area=   all | maxDets=100 ] = 0.849\n",
            " Average Precision  (AP) @[ IoU=0.75      | area=   all | maxDets=100 ] = 0.311\n",
            " Average Precision  (AP) @[ IoU=0.50:0.95 | area= small | maxDets=100 ] = -1.000\n",
            " Average Precision  (AP) @[ IoU=0.50:0.95 | area=medium | maxDets=100 ] = 0.226\n",
            " Average Precision  (AP) @[ IoU=0.50:0.95 | area= large | maxDets=100 ] = 0.421\n",
            " Average Recall     (AR) @[ IoU=0.50:0.95 | area=   all | maxDets=  1 ] = 0.202\n",
            " Average Recall     (AR) @[ IoU=0.50:0.95 | area=   all | maxDets= 10 ] = 0.528\n",
            " Average Recall     (AR) @[ IoU=0.50:0.95 | area=   all | maxDets=100 ] = 0.541\n",
            " Average Recall     (AR) @[ IoU=0.50:0.95 | area= small | maxDets=100 ] = -1.000\n",
            " Average Recall     (AR) @[ IoU=0.50:0.95 | area=medium | maxDets=100 ] = 0.429\n",
            " Average Recall     (AR) @[ IoU=0.50:0.95 | area= large | maxDets=100 ] = 0.549\n",
            "Epoch: [3]  [ 0/60]  eta: 0:01:30  lr: 0.005000  loss: 0.2804 (0.2804)  loss_classifier: 0.0693 (0.0693)  loss_box_reg: 0.1673 (0.1673)  loss_objectness: 0.0162 (0.0162)  loss_rpn_box_reg: 0.0276 (0.0276)  time: 1.5057  data: 0.3782  max mem: 9227\n",
            "Epoch: [3]  [10/60]  eta: 0:00:54  lr: 0.005000  loss: 0.2632 (0.2559)  loss_classifier: 0.0693 (0.0680)  loss_box_reg: 0.1327 (0.1342)  loss_objectness: 0.0257 (0.0285)  loss_rpn_box_reg: 0.0233 (0.0252)  time: 1.0848  data: 0.0416  max mem: 9227\n",
            "Epoch: [3]  [20/60]  eta: 0:00:41  lr: 0.005000  loss: 0.1831 (0.2156)  loss_classifier: 0.0572 (0.0587)  loss_box_reg: 0.0926 (0.1086)  loss_objectness: 0.0181 (0.0250)  loss_rpn_box_reg: 0.0160 (0.0233)  time: 1.0196  data: 0.0083  max mem: 9227\n",
            "Epoch: [3]  [30/60]  eta: 0:00:31  lr: 0.005000  loss: 0.1831 (0.2168)  loss_classifier: 0.0514 (0.0590)  loss_box_reg: 0.0887 (0.1073)  loss_objectness: 0.0177 (0.0223)  loss_rpn_box_reg: 0.0255 (0.0281)  time: 1.0351  data: 0.0087  max mem: 9227\n",
            "Epoch: [3]  [40/60]  eta: 0:00:20  lr: 0.005000  loss: 0.2093 (0.2129)  loss_classifier: 0.0514 (0.0577)  loss_box_reg: 0.1004 (0.1051)  loss_objectness: 0.0166 (0.0217)  loss_rpn_box_reg: 0.0301 (0.0284)  time: 1.0531  data: 0.0086  max mem: 9227\n",
            "Epoch: [3]  [50/60]  eta: 0:00:10  lr: 0.005000  loss: 0.1800 (0.2103)  loss_classifier: 0.0459 (0.0563)  loss_box_reg: 0.0921 (0.1046)  loss_objectness: 0.0171 (0.0224)  loss_rpn_box_reg: 0.0207 (0.0270)  time: 1.0306  data: 0.0085  max mem: 9227\n",
            "Epoch: [3]  [59/60]  eta: 0:00:01  lr: 0.005000  loss: 0.1800 (0.2109)  loss_classifier: 0.0471 (0.0565)  loss_box_reg: 0.0956 (0.1068)  loss_objectness: 0.0160 (0.0215)  loss_rpn_box_reg: 0.0161 (0.0261)  time: 1.0385  data: 0.0081  max mem: 9227\n",
            "Epoch: [3] Total time: 0:01:02 (1.0485 s / it)\n",
            "creating index...\n",
            "index created!\n",
            "Test:  [ 0/50]  eta: 0:00:21  model_time: 0.2192 (0.2192)  evaluator_time: 0.0038 (0.0038)  time: 0.4297  data: 0.2047  max mem: 9227\n",
            "Test:  [49/50]  eta: 0:00:00  model_time: 0.1523 (0.1542)  evaluator_time: 0.0018 (0.0024)  time: 0.1586  data: 0.0038  max mem: 9227\n",
            "Test: Total time: 0:00:08 (0.1684 s / it)\n",
            "Averaged stats: model_time: 0.1523 (0.1542)  evaluator_time: 0.0018 (0.0024)\n",
            "Accumulating evaluation results...\n",
            "DONE (t=0.01s).\n",
            "IoU metric: bbox\n",
            " Average Precision  (AP) @[ IoU=0.50:0.95 | area=   all | maxDets=100 ] = 0.438\n",
            " Average Precision  (AP) @[ IoU=0.50      | area=   all | maxDets=100 ] = 0.898\n",
            " Average Precision  (AP) @[ IoU=0.75      | area=   all | maxDets=100 ] = 0.341\n",
            " Average Precision  (AP) @[ IoU=0.50:0.95 | area= small | maxDets=100 ] = -1.000\n",
            " Average Precision  (AP) @[ IoU=0.50:0.95 | area=medium | maxDets=100 ] = 0.177\n",
            " Average Precision  (AP) @[ IoU=0.50:0.95 | area= large | maxDets=100 ] = 0.453\n",
            " Average Recall     (AR) @[ IoU=0.50:0.95 | area=   all | maxDets=  1 ] = 0.226\n",
            " Average Recall     (AR) @[ IoU=0.50:0.95 | area=   all | maxDets= 10 ] = 0.566\n",
            " Average Recall     (AR) @[ IoU=0.50:0.95 | area=   all | maxDets=100 ] = 0.575\n",
            " Average Recall     (AR) @[ IoU=0.50:0.95 | area= small | maxDets=100 ] = -1.000\n",
            " Average Recall     (AR) @[ IoU=0.50:0.95 | area=medium | maxDets=100 ] = 0.471\n",
            " Average Recall     (AR) @[ IoU=0.50:0.95 | area= large | maxDets=100 ] = 0.582\n",
            "Epoch: [4]  [ 0/60]  eta: 0:01:14  lr: 0.005000  loss: 0.1932 (0.1932)  loss_classifier: 0.0653 (0.0653)  loss_box_reg: 0.0834 (0.0834)  loss_objectness: 0.0231 (0.0231)  loss_rpn_box_reg: 0.0213 (0.0213)  time: 1.2475  data: 0.3010  max mem: 9227\n",
            "Epoch: [4]  [10/60]  eta: 0:00:51  lr: 0.005000  loss: 0.1932 (0.1915)  loss_classifier: 0.0419 (0.0512)  loss_box_reg: 0.0900 (0.1032)  loss_objectness: 0.0129 (0.0193)  loss_rpn_box_reg: 0.0213 (0.0178)  time: 1.0361  data: 0.0345  max mem: 9227\n",
            "Epoch: [4]  [20/60]  eta: 0:00:40  lr: 0.005000  loss: 0.1415 (0.1795)  loss_classifier: 0.0449 (0.0499)  loss_box_reg: 0.0760 (0.0901)  loss_objectness: 0.0129 (0.0203)  loss_rpn_box_reg: 0.0161 (0.0192)  time: 1.0121  data: 0.0078  max mem: 9227\n",
            "Epoch: [4]  [30/60]  eta: 0:00:31  lr: 0.005000  loss: 0.1730 (0.1859)  loss_classifier: 0.0477 (0.0523)  loss_box_reg: 0.0890 (0.0946)  loss_objectness: 0.0127 (0.0181)  loss_rpn_box_reg: 0.0210 (0.0209)  time: 1.0408  data: 0.0083  max mem: 9227\n",
            "Epoch: [4]  [40/60]  eta: 0:00:20  lr: 0.005000  loss: 0.1843 (0.1823)  loss_classifier: 0.0501 (0.0514)  loss_box_reg: 0.0908 (0.0931)  loss_objectness: 0.0138 (0.0179)  loss_rpn_box_reg: 0.0210 (0.0199)  time: 1.0615  data: 0.0086  max mem: 9227\n",
            "Epoch: [4]  [50/60]  eta: 0:00:10  lr: 0.005000  loss: 0.1789 (0.1845)  loss_classifier: 0.0474 (0.0519)  loss_box_reg: 0.0866 (0.0950)  loss_objectness: 0.0153 (0.0178)  loss_rpn_box_reg: 0.0161 (0.0198)  time: 1.0526  data: 0.0085  max mem: 9227\n",
            "Epoch: [4]  [59/60]  eta: 0:00:01  lr: 0.005000  loss: 0.1789 (0.1840)  loss_classifier: 0.0446 (0.0507)  loss_box_reg: 0.0932 (0.0968)  loss_objectness: 0.0131 (0.0168)  loss_rpn_box_reg: 0.0164 (0.0197)  time: 1.0529  data: 0.0080  max mem: 9227\n",
            "Epoch: [4] Total time: 0:01:02 (1.0479 s / it)\n",
            "creating index...\n",
            "index created!\n",
            "Test:  [ 0/50]  eta: 0:00:23  model_time: 0.2378 (0.2378)  evaluator_time: 0.0036 (0.0036)  time: 0.4653  data: 0.2220  max mem: 9227\n",
            "Test:  [49/50]  eta: 0:00:00  model_time: 0.1559 (0.1616)  evaluator_time: 0.0014 (0.0021)  time: 0.1634  data: 0.0041  max mem: 9227\n",
            "Test: Total time: 0:00:08 (0.1760 s / it)\n",
            "Averaged stats: model_time: 0.1559 (0.1616)  evaluator_time: 0.0014 (0.0021)\n",
            "Accumulating evaluation results...\n",
            "DONE (t=0.01s).\n",
            "IoU metric: bbox\n",
            " Average Precision  (AP) @[ IoU=0.50:0.95 | area=   all | maxDets=100 ] = 0.517\n",
            " Average Precision  (AP) @[ IoU=0.50      | area=   all | maxDets=100 ] = 0.948\n",
            " Average Precision  (AP) @[ IoU=0.75      | area=   all | maxDets=100 ] = 0.442\n",
            " Average Precision  (AP) @[ IoU=0.50:0.95 | area= small | maxDets=100 ] = -1.000\n",
            " Average Precision  (AP) @[ IoU=0.50:0.95 | area=medium | maxDets=100 ] = 0.249\n",
            " Average Precision  (AP) @[ IoU=0.50:0.95 | area= large | maxDets=100 ] = 0.533\n",
            " Average Recall     (AR) @[ IoU=0.50:0.95 | area=   all | maxDets=  1 ] = 0.262\n",
            " Average Recall     (AR) @[ IoU=0.50:0.95 | area=   all | maxDets= 10 ] = 0.598\n",
            " Average Recall     (AR) @[ IoU=0.50:0.95 | area=   all | maxDets=100 ] = 0.598\n",
            " Average Recall     (AR) @[ IoU=0.50:0.95 | area= small | maxDets=100 ] = -1.000\n",
            " Average Recall     (AR) @[ IoU=0.50:0.95 | area=medium | maxDets=100 ] = 0.371\n",
            " Average Recall     (AR) @[ IoU=0.50:0.95 | area= large | maxDets=100 ] = 0.613\n",
            "That's it!\n"
          ]
        }
      ]
    },
    {
      "cell_type": "code",
      "metadata": {
        "colab": {
          "base_uri": "https://localhost:8080/"
        },
        "id": "fZjGbZLm5wKQ",
        "outputId": "233f9f5a-eed3-4fd7-f69a-87b2e5cbf8a1"
      },
      "source": [
        "# test data 중 한 장을 가져와서 시각화\n",
        "\n",
        "data_path = os.path.join('/content/PennFudanPed/PNGImages')\n",
        "file_list = list(sorted(os.listdir(data_path)))\n",
        "test_img_path = os.path.join(data_path, file_list[-1])\n",
        "print(test_img_path)"
      ],
      "execution_count": 44,
      "outputs": [
        {
          "output_type": "stream",
          "name": "stdout",
          "text": [
            "/content/PennFudanPed/PNGImages/PennPed00096.png\n"
          ]
        }
      ]
    },
    {
      "cell_type": "code",
      "metadata": {
        "id": "M4vuvUQJNBhd",
        "colab": {
          "base_uri": "https://localhost:8080/"
        },
        "outputId": "f23dfc24-8a2f-4f58-b24b-f0f9875d6339"
      },
      "source": [
        "model.eval()\n",
        "\n",
        "img_path = test_img_path\n",
        "images = np.array(Image.open(img_path).convert(\"RGB\"))\n",
        "images = torch.from_numpy(images/255.0).permute(2,0,1).unsqueeze(0).float()\n",
        "print(images.shape)\n",
        "\n",
        "device = torch.device('cuda') if torch.cuda.is_available() else torch.device('cpu')\n",
        "\n",
        "images = list(image.to(device) for image in images)\n",
        "with torch.no_grad():\n",
        "  output_dict = model(images)\n",
        "print(output_dict) \n",
        "print(output_dict[0].keys())"
      ],
      "execution_count": 45,
      "outputs": [
        {
          "output_type": "stream",
          "name": "stdout",
          "text": [
            "torch.Size([1, 3, 331, 294])\n",
            "[{'boxes': tensor([[108.1943,  15.5460, 192.5591, 330.1243],\n",
            "        [  0.9314,  35.2696, 103.5248, 331.0000],\n",
            "        [  0.0000,  98.9707,  18.1337, 286.0050],\n",
            "        [  0.4654,  67.7220,  38.6720, 311.1840],\n",
            "        [ 10.1981, 121.9307,  82.6995, 312.4633],\n",
            "        [149.9798,  19.6917, 207.7247, 307.4726],\n",
            "        [166.2441,  47.1574, 220.2763, 251.4735],\n",
            "        [114.7995,  48.9348, 154.0896, 167.8455],\n",
            "        [  2.8331, 183.4879, 128.9827, 306.6243]], device='cuda:0'), 'labels': tensor([1, 1, 1, 1, 1, 1, 1, 1, 1], device='cuda:0'), 'scores': tensor([0.9650, 0.9390, 0.4291, 0.2256, 0.1737, 0.1567, 0.0956, 0.0697, 0.0671],\n",
            "       device='cuda:0')}]\n",
            "dict_keys(['boxes', 'labels', 'scores'])\n"
          ]
        }
      ]
    },
    {
      "cell_type": "code",
      "metadata": {
        "id": "Wa6Z4tYDnG6G"
      },
      "source": [
        "# 시각화를 위해서 output 을 numpy 로\n",
        "boxes = output_dict[0]['boxes'].detach().cpu().numpy()\n",
        "scores = output_dict[0]['scores'].detach().cpu().numpy()\n",
        "labels = output_dict[0]['labels'].detach().cpu().numpy()"
      ],
      "execution_count": 46,
      "outputs": []
    },
    {
      "cell_type": "code",
      "metadata": {
        "colab": {
          "base_uri": "https://localhost:8080/"
        },
        "id": "EjheMuQ9nKm7",
        "outputId": "8b01d9eb-8580-48a7-bcd7-b05dea4440a4"
      },
      "source": [
        "# score threshold   0.01 v.s. 0.5\n",
        "# faster rcnn 안에 후처리가 포함되어 있지만, 사용자가 추가로 thresholding 가능\n",
        "\n",
        "scores_threshold = 0.5  # 0.5\n",
        "select_idxes = scores > scores_threshold\n",
        "print(select_idxes)"
      ],
      "execution_count": 47,
      "outputs": [
        {
          "output_type": "stream",
          "name": "stdout",
          "text": [
            "[ True  True False False False False False False False]\n"
          ]
        }
      ]
    },
    {
      "cell_type": "code",
      "metadata": {
        "id": "j83GFWCYnNb7"
      },
      "source": [
        "# score thresholding 후 남은 것들만\n",
        "selected_boxes = boxes[select_idxes].astype(np.int)\n",
        "selected_scores = scores[select_idxes]\n",
        "selected_labels = labels[select_idxes]"
      ],
      "execution_count": 48,
      "outputs": []
    },
    {
      "cell_type": "code",
      "metadata": {
        "colab": {
          "base_uri": "https://localhost:8080/"
        },
        "id": "Pmt0SHrOnS3G",
        "outputId": "a6c09059-e2f8-488f-9d95-1e8bd9ca3732"
      },
      "source": [
        "print(selected_boxes.shape, boxes.shape)  # thresohold 전후"
      ],
      "execution_count": 49,
      "outputs": [
        {
          "output_type": "stream",
          "name": "stdout",
          "text": [
            "(2, 4) (9, 4)\n"
          ]
        }
      ]
    },
    {
      "cell_type": "code",
      "metadata": {
        "colab": {
          "base_uri": "https://localhost:8080/",
          "height": 337
        },
        "id": "bj2NI-MKnWKn",
        "outputId": "6be59907-1784-4b11-c557-a35366985f27"
      },
      "source": [
        "# 데이터 테스트 출력\n",
        "\n",
        "import cv2\n",
        "import matplotlib.pyplot as plt\n",
        "\n",
        "# 박스 시각화\n",
        "def makeBox(voc_im, bbox):\n",
        "  image = voc_im.copy()\n",
        "  for i in range(len(bbox)):\n",
        "    cv2.rectangle(image,(int(bbox[i][0]),int(bbox[i][1])),(int(bbox[i][2]),int(bbox[i][3])),color = (0,255,0),thickness = 1)\n",
        "  return image\n",
        "\n",
        "draw_img = images[0].permute(1, 2, 0).cpu().numpy()\n",
        "print(selected_boxes)\n",
        "plot_image = makeBox(draw_img, selected_boxes)\n",
        "plt.imshow(plot_image)"
      ],
      "execution_count": 50,
      "outputs": [
        {
          "output_type": "stream",
          "name": "stderr",
          "text": [
            "Clipping input data to the valid range for imshow with RGB data ([0..1] for floats or [0..255] for integers).\n"
          ]
        },
        {
          "output_type": "stream",
          "name": "stdout",
          "text": [
            "[[108  15 192 330]\n",
            " [  0  35 103 331]]\n"
          ]
        },
        {
          "output_type": "execute_result",
          "data": {
            "text/plain": [
              "<matplotlib.image.AxesImage at 0x7f2c8138bb10>"
            ]
          },
          "metadata": {},
          "execution_count": 50
        },
        {
          "output_type": "display_data",
          "data": {
            "image/png": "[encoded data removed]",
            "text/plain": [
              "<Figure size 432x288 with 1 Axes>"
            ]
          },
          "metadata": {
            "needs_background": "light"
          }
        }
      ]
    },
    {
      "cell_type": "markdown",
      "metadata": {
        "id": "0_FOpr1G76El"
      },
      "source": [
        "[실습]\n",
        "\n",
        "- main 문에서 모델을 바꿔서 AP 성능 비교\n",
        "  - model = create_faster_rcnn()\n",
        "  - model = create_pretrained_faster_rcnn()\n",
        "\n",
        "- threshold 를 바꿔가며 시각화"
      ]
    },
    {
      "cell_type": "code",
      "source": [
        "if __name__ == \"__main__\":\n",
        "    # model = main(model_name='faster_rcnn', num_epochs=5)\n",
        "    model = main(model_name='pretrained_faster_rcnn', num_epochs=1)\n",
        "    # model = main(model_name='pretrained_ssd', num_epochs=1)\n",
        "    '''\n",
        "    model_name\n",
        "        faster_rcnn : full modeling and weight initialization\n",
        "        pretrained_faster_rcnn : coco-pretrained. faster rcnn\n",
        "        pretrained_ssd : coco-trained. ssdlite320_mobilenet_v3_large\n",
        "    '''"
      ],
      "metadata": {
        "id": "yOmEGb-0f7Se",
        "colab": {
          "base_uri": "https://localhost:8080/",
          "height": 630,
          "referenced_widgets": [
            "2057af3ec83147f28338afe92e5a901a",
            "bd02338f6ee741aeae7b7d61bb2ec378",
            "cb9826f3a8e74483a08a8284ed3c2987",
            "97d6a1fbe8ad4153ab8ca6708ebfcb60",
            "e41d50620cd047f0966f086ea97ef0d5",
            "0559ab544a0a470bb05012b912b352f6",
            "851f86aa356044379bbb6c62c9898099",
            "c962b4ff8f2d4a65aa6cf3105524a303",
            "3a377123ffeb4326a5c3e8e441a45ec3",
            "120f6da8c184463299badf347f2b2409",
            "e695e1aa1f01414a882fbe56432f6e77"
          ]
        },
        "outputId": "60c0940e-1b6e-4449-893c-35718ccc40cf"
      },
      "execution_count": 51,
      "outputs": [
        {
          "output_type": "stream",
          "name": "stderr",
          "text": [
            "/usr/local/lib/python3.7/dist-packages/torch/utils/data/dataloader.py:481: UserWarning: This DataLoader will create 4 worker processes in total. Our suggested max number of worker in current system is 2, which is smaller than what this DataLoader is going to create. Please be aware that excessive worker creation might get DataLoader running slow or even freeze, lower the worker number to avoid potential slowness/freeze if necessary.\n",
            "  cpuset_checked))\n",
            "Downloading: \"https://download.pytorch.org/models/fasterrcnn_resnet50_fpn_coco-258fb6c6.pth\" to /root/.cache/torch/hub/checkpoints/fasterrcnn_resnet50_fpn_coco-258fb6c6.pth\n"
          ]
        },
        {
          "output_type": "display_data",
          "data": {
            "application/vnd.jupyter.widget-view+json": {
              "model_id": "2057af3ec83147f28338afe92e5a901a",
              "version_minor": 0,
              "version_major": 2
            },
            "text/plain": [
              "  0%|          | 0.00/160M [00:00<?, ?B/s]"
            ]
          },
          "metadata": {}
        },
        {
          "output_type": "stream",
          "name": "stdout",
          "text": [
            "Epoch: [0]  [ 0/60]  eta: 0:00:54  lr: 0.005000  loss: 0.9174 (0.9174)  loss_classifier: 0.6525 (0.6525)  loss_box_reg: 0.2219 (0.2219)  loss_objectness: 0.0416 (0.0416)  loss_rpn_box_reg: 0.0014 (0.0014)  time: 0.9037  data: 0.2783  max mem: 9227\n",
            "Epoch: [0]  [10/60]  eta: 0:00:29  lr: 0.005000  loss: 0.5713 (0.5189)  loss_classifier: 0.2019 (0.2391)  loss_box_reg: 0.2219 (0.2612)  loss_objectness: 0.0077 (0.0129)  loss_rpn_box_reg: 0.0030 (0.0057)  time: 0.5993  data: 0.0325  max mem: 9227\n",
            "Epoch: [0]  [20/60]  eta: 0:00:23  lr: 0.005000  loss: 0.3298 (0.4194)  loss_classifier: 0.0638 (0.1558)  loss_box_reg: 0.2256 (0.2488)  loss_objectness: 0.0033 (0.0084)  loss_rpn_box_reg: 0.0062 (0.0065)  time: 0.5766  data: 0.0080  max mem: 9227\n",
            "Epoch: [0]  [30/60]  eta: 0:00:17  lr: 0.005000  loss: 0.2612 (0.3537)  loss_classifier: 0.0577 (0.1226)  loss_box_reg: 0.1882 (0.2156)  loss_objectness: 0.0013 (0.0087)  loss_rpn_box_reg: 0.0075 (0.0068)  time: 0.5843  data: 0.0089  max mem: 9227\n",
            "Epoch: [0]  [40/60]  eta: 0:00:11  lr: 0.005000  loss: 0.1868 (0.3122)  loss_classifier: 0.0418 (0.1046)  loss_box_reg: 0.1249 (0.1936)  loss_objectness: 0.0009 (0.0069)  loss_rpn_box_reg: 0.0053 (0.0072)  time: 0.5749  data: 0.0094  max mem: 9227\n",
            "Epoch: [0]  [50/60]  eta: 0:00:05  lr: 0.005000  loss: 0.1426 (0.2855)  loss_classifier: 0.0402 (0.0943)  loss_box_reg: 0.0856 (0.1774)  loss_objectness: 0.0005 (0.0061)  loss_rpn_box_reg: 0.0053 (0.0077)  time: 0.5913  data: 0.0092  max mem: 9227\n",
            "Epoch: [0]  [59/60]  eta: 0:00:00  lr: 0.005000  loss: 0.1426 (0.2664)  loss_classifier: 0.0411 (0.0865)  loss_box_reg: 0.0922 (0.1666)  loss_objectness: 0.0011 (0.0058)  loss_rpn_box_reg: 0.0045 (0.0075)  time: 0.6119  data: 0.0084  max mem: 9227\n",
            "Epoch: [0] Total time: 0:00:35 (0.5962 s / it)\n",
            "creating index...\n",
            "index created!\n",
            "Test:  [ 0/50]  eta: 0:00:21  model_time: 0.1759 (0.1759)  evaluator_time: 0.0027 (0.0027)  time: 0.4223  data: 0.2418  max mem: 9227\n",
            "Test:  [49/50]  eta: 0:00:00  model_time: 0.1052 (0.1122)  evaluator_time: 0.0012 (0.0016)  time: 0.1148  data: 0.0040  max mem: 9227\n",
            "Test: Total time: 0:00:06 (0.1265 s / it)\n",
            "Averaged stats: model_time: 0.1052 (0.1122)  evaluator_time: 0.0012 (0.0016)\n",
            "Accumulating evaluation results...\n",
            "DONE (t=0.01s).\n",
            "IoU metric: bbox\n",
            " Average Precision  (AP) @[ IoU=0.50:0.95 | area=   all | maxDets=100 ] = 0.712\n",
            " Average Precision  (AP) @[ IoU=0.50      | area=   all | maxDets=100 ] = 0.994\n",
            " Average Precision  (AP) @[ IoU=0.75      | area=   all | maxDets=100 ] = 0.903\n",
            " Average Precision  (AP) @[ IoU=0.50:0.95 | area= small | maxDets=100 ] = -1.000\n",
            " Average Precision  (AP) @[ IoU=0.50:0.95 | area=medium | maxDets=100 ] = 0.620\n",
            " Average Precision  (AP) @[ IoU=0.50:0.95 | area= large | maxDets=100 ] = 0.718\n",
            " Average Recall     (AR) @[ IoU=0.50:0.95 | area=   all | maxDets=  1 ] = 0.334\n",
            " Average Recall     (AR) @[ IoU=0.50:0.95 | area=   all | maxDets= 10 ] = 0.758\n",
            " Average Recall     (AR) @[ IoU=0.50:0.95 | area=   all | maxDets=100 ] = 0.758\n",
            " Average Recall     (AR) @[ IoU=0.50:0.95 | area= small | maxDets=100 ] = -1.000\n",
            " Average Recall     (AR) @[ IoU=0.50:0.95 | area=medium | maxDets=100 ] = 0.729\n",
            " Average Recall     (AR) @[ IoU=0.50:0.95 | area= large | maxDets=100 ] = 0.760\n",
            "That's it!\n"
          ]
        }
      ]
    },
    {
      "cell_type": "code",
      "source": [
        ""
      ],
      "metadata": {
        "id": "kIdFInrohqNB"
      },
      "execution_count": null,
      "outputs": []
    }
  ]
}