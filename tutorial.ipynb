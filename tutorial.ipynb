{
 "nbformat": 4,
 "nbformat_minor": 0,
 "metadata": {
  "colab": {
   "name": "FasterRCNN_Train.ipynb",
   "provenance": [],
   "collapsed_sections": []
  },
  "kernelspec": {
   "name": "python3",
   "display_name": "Python 3"
  },
  "accelerator": "GPU",
  "widgets": {
   "application/vnd.jupyter.widget-state+json": {
    "29e5935f10dd4664ba6907c7c732d3c2": {
     "model_module": "@jupyter-widgets/controls",
     "model_name": "HBoxModel",
     "model_module_version": "1.5.0",
     "state": {
      "_view_name": "HBoxView",
      "_dom_classes": [],
      "_model_name": "HBoxModel",
      "_view_module": "@jupyter-widgets/controls",
      "_model_module_version": "1.5.0",
      "_view_count": null,
      "_view_module_version": "1.5.0",
      "box_style": "",
      "layout": "IPY_MODEL_46c19ec30e554ca78041c36dc468c3f6",
      "_model_module": "@jupyter-widgets/controls",
      "children": [
       "IPY_MODEL_b598eb60a1064de983222d55f1a87ea1",
       "IPY_MODEL_2a7e52f126d6487f8a64e5585d5d7e18",
       "IPY_MODEL_d291a2766a8d47a68717099ac0b26bf9"
      ]
     }
    },
    "46c19ec30e554ca78041c36dc468c3f6": {
     "model_module": "@jupyter-widgets/base",
     "model_name": "LayoutModel",
     "model_module_version": "1.2.0",
     "state": {
      "_view_name": "LayoutView",
      "grid_template_rows": null,
      "right": null,
      "justify_content": null,
      "_view_module": "@jupyter-widgets/base",
      "overflow": null,
      "_model_module_version": "1.2.0",
      "_view_count": null,
      "flex_flow": null,
      "width": null,
      "min_width": null,
      "border": null,
      "align_items": null,
      "bottom": null,
      "_model_module": "@jupyter-widgets/base",
      "top": null,
      "grid_column": null,
      "overflow_y": null,
      "overflow_x": null,
      "grid_auto_flow": null,
      "grid_area": null,
      "grid_template_columns": null,
      "flex": null,
      "_model_name": "LayoutModel",
      "justify_items": null,
      "grid_row": null,
      "max_height": null,
      "align_content": null,
      "visibility": null,
      "align_self": null,
      "height": null,
      "min_height": null,
      "padding": null,
      "grid_auto_rows": null,
      "grid_gap": null,
      "max_width": null,
      "order": null,
      "_view_module_version": "1.2.0",
      "grid_template_areas": null,
      "object_position": null,
      "object_fit": null,
      "grid_auto_columns": null,
      "margin": null,
      "display": null,
      "left": null
     }
    },
    "b598eb60a1064de983222d55f1a87ea1": {
     "model_module": "@jupyter-widgets/controls",
     "model_name": "HTMLModel",
     "model_module_version": "1.5.0",
     "state": {
      "_view_name": "HTMLView",
      "style": "IPY_MODEL_631da1c7276d47f487c41dfa6f42bebf",
      "_dom_classes": [],
      "description": "",
      "_model_name": "HTMLModel",
      "placeholder": "​",
      "_view_module": "@jupyter-widgets/controls",
      "_model_module_version": "1.5.0",
      "value": "100%",
      "_view_count": null,
      "_view_module_version": "1.5.0",
      "description_tooltip": null,
      "_model_module": "@jupyter-widgets/controls",
      "layout": "IPY_MODEL_cb30c8eed89942d58f7f645f51c1fba2"
     }
    },
    "2a7e52f126d6487f8a64e5585d5d7e18": {
     "model_module": "@jupyter-widgets/controls",
     "model_name": "FloatProgressModel",
     "model_module_version": "1.5.0",
     "state": {
      "_view_name": "ProgressView",
      "style": "IPY_MODEL_df4feb27f4074017ad348c5b29d77763",
      "_dom_classes": [],
      "description": "",
      "_model_name": "FloatProgressModel",
      "bar_style": "success",
      "max": 102530333,
      "_view_module": "@jupyter-widgets/controls",
      "_model_module_version": "1.5.0",
      "value": 102530333,
      "_view_count": null,
      "_view_module_version": "1.5.0",
      "orientation": "horizontal",
      "min": 0,
      "description_tooltip": null,
      "_model_module": "@jupyter-widgets/controls",
      "layout": "IPY_MODEL_22ff41c48f0b44228b3524ffb34fb106"
     }
    },
    "d291a2766a8d47a68717099ac0b26bf9": {
     "model_module": "@jupyter-widgets/controls",
     "model_name": "HTMLModel",
     "model_module_version": "1.5.0",
     "state": {
      "_view_name": "HTMLView",
      "style": "IPY_MODEL_377aeedf82044fc38f2b957f6c46299e",
      "_dom_classes": [],
      "description": "",
      "_model_name": "HTMLModel",
      "placeholder": "​",
      "_view_module": "@jupyter-widgets/controls",
      "_model_module_version": "1.5.0",
      "value": " 97.8M/97.8M [00:00&lt;00:00, 116MB/s]",
      "_view_count": null,
      "_view_module_version": "1.5.0",
      "description_tooltip": null,
      "_model_module": "@jupyter-widgets/controls",
      "layout": "IPY_MODEL_ac471274ef294655aa3518f558170d22"
     }
    },
    "631da1c7276d47f487c41dfa6f42bebf": {
     "model_module": "@jupyter-widgets/controls",
     "model_name": "DescriptionStyleModel",
     "model_module_version": "1.5.0",
     "state": {
      "_view_name": "StyleView",
      "_model_name": "DescriptionStyleModel",
      "description_width": "",
      "_view_module": "@jupyter-widgets/base",
      "_model_module_version": "1.5.0",
      "_view_count": null,
      "_view_module_version": "1.2.0",
      "_model_module": "@jupyter-widgets/controls"
     }
    },
    "cb30c8eed89942d58f7f645f51c1fba2": {
     "model_module": "@jupyter-widgets/base",
     "model_name": "LayoutModel",
     "model_module_version": "1.2.0",
     "state": {
      "_view_name": "LayoutView",
      "grid_template_rows": null,
      "right": null,
      "justify_content": null,
      "_view_module": "@jupyter-widgets/base",
      "overflow": null,
      "_model_module_version": "1.2.0",
      "_view_count": null,
      "flex_flow": null,
      "width": null,
      "min_width": null,
      "border": null,
      "align_items": null,
      "bottom": null,
      "_model_module": "@jupyter-widgets/base",
      "top": null,
      "grid_column": null,
      "overflow_y": null,
      "overflow_x": null,
      "grid_auto_flow": null,
      "grid_area": null,
      "grid_template_columns": null,
      "flex": null,
      "_model_name": "LayoutModel",
      "justify_items": null,
      "grid_row": null,
      "max_height": null,
      "align_content": null,
      "visibility": null,
      "align_self": null,
      "height": null,
      "min_height": null,
      "padding": null,
      "grid_auto_rows": null,
      "grid_gap": null,
      "max_width": null,
      "order": null,
      "_view_module_version": "1.2.0",
      "grid_template_areas": null,
      "object_position": null,
      "object_fit": null,
      "grid_auto_columns": null,
      "margin": null,
      "display": null,
      "left": null
     }
    },
    "df4feb27f4074017ad348c5b29d77763": {
     "model_module": "@jupyter-widgets/controls",
     "model_name": "ProgressStyleModel",
     "model_module_version": "1.5.0",
     "state": {
      "_view_name": "StyleView",
      "_model_name": "ProgressStyleModel",
      "description_width": "",
      "_view_module": "@jupyter-widgets/base",
      "_model_module_version": "1.5.0",
      "_view_count": null,
      "_view_module_version": "1.2.0",
      "bar_color": null,
      "_model_module": "@jupyter-widgets/controls"
     }
    },
    "22ff41c48f0b44228b3524ffb34fb106": {
     "model_module": "@jupyter-widgets/base",
     "model_name": "LayoutModel",
     "model_module_version": "1.2.0",
     "state": {
      "_view_name": "LayoutView",
      "grid_template_rows": null,
      "right": null,
      "justify_content": null,
      "_view_module": "@jupyter-widgets/base",
      "overflow": null,
      "_model_module_version": "1.2.0",
      "_view_count": null,
      "flex_flow": null,
      "width": null,
      "min_width": null,
      "border": null,
      "align_items": null,
      "bottom": null,
      "_model_module": "@jupyter-widgets/base",
      "top": null,
      "grid_column": null,
      "overflow_y": null,
      "overflow_x": null,
      "grid_auto_flow": null,
      "grid_area": null,
      "grid_template_columns": null,
      "flex": null,
      "_model_name": "LayoutModel",
      "justify_items": null,
      "grid_row": null,
      "max_height": null,
      "align_content": null,
      "visibility": null,
      "align_self": null,
      "height": null,
      "min_height": null,
      "padding": null,
      "grid_auto_rows": null,
      "grid_gap": null,
      "max_width": null,
      "order": null,
      "_view_module_version": "1.2.0",
      "grid_template_areas": null,
      "object_position": null,
      "object_fit": null,
      "grid_auto_columns": null,
      "margin": null,
      "display": null,
      "left": null
     }
    },
    "377aeedf82044fc38f2b957f6c46299e": {
     "model_module": "@jupyter-widgets/controls",
     "model_name": "DescriptionStyleModel",
     "model_module_version": "1.5.0",
     "state": {
      "_view_name": "StyleView",
      "_model_name": "DescriptionStyleModel",
      "description_width": "",
      "_view_module": "@jupyter-widgets/base",
      "_model_module_version": "1.5.0",
      "_view_count": null,
      "_view_module_version": "1.2.0",
      "_model_module": "@jupyter-widgets/controls"
     }
    },
    "ac471274ef294655aa3518f558170d22": {
     "model_module": "@jupyter-widgets/base",
     "model_name": "LayoutModel",
     "model_module_version": "1.2.0",
     "state": {
      "_view_name": "LayoutView",
      "grid_template_rows": null,
      "right": null,
      "justify_content": null,
      "_view_module": "@jupyter-widgets/base",
      "overflow": null,
      "_model_module_version": "1.2.0",
      "_view_count": null,
      "flex_flow": null,
      "width": null,
      "min_width": null,
      "border": null,
      "align_items": null,
      "bottom": null,
      "_model_module": "@jupyter-widgets/base",
      "top": null,
      "grid_column": null,
      "overflow_y": null,
      "overflow_x": null,
      "grid_auto_flow": null,
      "grid_area": null,
      "grid_template_columns": null,
      "flex": null,
      "_model_name": "LayoutModel",
      "justify_items": null,
      "grid_row": null,
      "max_height": null,
      "align_content": null,
      "visibility": null,
      "align_self": null,
      "height": null,
      "min_height": null,
      "padding": null,
      "grid_auto_rows": null,
      "grid_gap": null,
      "max_width": null,
      "order": null,
      "_view_module_version": "1.2.0",
      "grid_template_areas": null,
      "object_position": null,
      "object_fit": null,
      "grid_auto_columns": null,
      "margin": null,
      "display": null,
      "left": null
     }
    }
   }
  }
 },
 "cells": [
  {
   "cell_type": "code",
   "metadata": {
    "id": "D08aLiTpw5W8",
    "colab": {
     "base_uri": "https://localhost:8080/"
    },
    "outputId": "025771e2-0e1d-482b-83a9-47d6726552b3"
   },
   "source": [
    "from google.colab import drive\n",
    "drive.mount('/content/drive')"
   ],
   "execution_count": null,
   "outputs": [
    {
     "output_type": "stream",
     "text": [
      "Mounted at /content/drive\n"
     ],
     "name": "stdout"
    }
   ]
  },
  {
   "cell_type": "code",
   "metadata": {
    "id": "cqnoOks2LF-l",
    "colab": {
     "base_uri": "https://localhost:8080/"
    },
    "outputId": "c84b9b89-8148-417f-fddc-563ed3620d1c"
   },
   "source": [
    "import os\n",
    "!cp \"/content/drive/MyDrive/Colab_Notebooks/Data/PennFudanPed.zip\" \"/content/PennFudanPed.zip\" \n",
    "!unzip -qq \"/content/PennFudanPed.zip\"\n",
    "print(os.listdir('/content/PennFudanPed/'))"
   ],
   "execution_count": null,
   "outputs": [
    {
     "output_type": "stream",
     "text": [
      "['readme.txt', 'added-object-list.txt', 'PNGImages', 'Annotation', 'PedMasks']\n"
     ],
     "name": "stdout"
    }
   ]
  },
  {
   "cell_type": "code",
   "metadata": {
    "colab": {
     "base_uri": "https://localhost:8080/"
    },
    "id": "01192B-Rm9fO",
    "outputId": "f501b29d-b4f8-454d-b38d-1704ee3649c4"
   },
   "source": [
    "%cd /content/drive/MyDrive/Colab_Notebooks\n",
    "!git clone https://github.com/yoojy31/pytorch-object-detection-tutorial.git"
   ],
   "execution_count": null,
   "outputs": [
    {
     "output_type": "stream",
     "text": [
      "/content/drive/MyDrive/Colab_Notebooks\n",
      "fatal: destination path 'pytorch-object-detection-tutorial' already exists and is not an empty directory.\n"
     ],
     "name": "stdout"
    }
   ]
  },
  {
   "cell_type": "code",
   "metadata": {
    "colab": {
     "base_uri": "https://localhost:8080/"
    },
    "id": "B_YzuaMpnAiu",
    "outputId": "c239316a-d5c8-4c93-f140-f1209b5e44e2"
   },
   "source": [
    "# 너무 복잡한 부분은 외부에서 불러오고, colab 에서는 생략\n",
    "%cd 'pytorch-object-detection-tutorial'\n",
    "import engine, utils, coco_eval, coco_utils\n",
    "import transforms as T\n",
    "%cd /content"
   ],
   "execution_count": null,
   "outputs": [
    {
     "output_type": "stream",
     "text": [
      "/content/drive/MyDrive/Colab_Notebooks/pytorch-object-detection-tutorial\n",
      "/content\n"
     ],
     "name": "stdout"
    }
   ]
  },
  {
   "cell_type": "code",
   "metadata": {
    "id": "AGbaepV1HpX3"
   },
   "source": [
    "# 필요한 라이브러리\n",
    "\n",
    "import os\n",
    "import sys\n",
    "import math\n",
    "\n",
    "import numpy as np\n",
    "import torch\n",
    "import torch.nn as nn\n",
    "from PIL import Image\n",
    "\n",
    "import torchvision\n",
    "from torchvision.models.detection import FasterRCNN\n",
    "from torchvision.models.detection.rpn import AnchorGenerator, RPNHead\n",
    "from torchvision.models.detection.faster_rcnn import TwoMLPHead, FastRCNNPredictor"
   ],
   "execution_count": null,
   "outputs": []
  },
  {
   "cell_type": "code",
   "metadata": {
    "id": "IFo6PVNNkcxx"
   },
   "source": [
    "def main():\n",
    "    # gpu 가 불가능하면 cpu 로 학습\n",
    "    device = torch.device('cuda') if torch.cuda.is_available() else torch.device('cpu')\n",
    "\n",
    "    # Data Loader\n",
    "    data_loader, data_loader_test = create_dataset_and_dataloader(root='PennFudanPed')\n",
    "\n",
    "    # Model\n",
    "    model = create_faster_rcnn()\n",
    "    model.to(device)\n",
    "\n",
    "    # Optimizer\n",
    "    params = [p for p in model.parameters() if p.requires_grad]\n",
    "    optimizer = torch.optim.SGD(params, lr=0.005, momentum=0.9, weight_decay=0.0005)\n",
    "\n",
    "    # let's train it for 5 epochs\n",
    "    num_epochs = 5\n",
    "    for epoch in range(num_epochs):\n",
    "        # train for one epoch, printing every 10 iterations\n",
    "        train_one_epoch(model, optimizer, data_loader, device, epoch, print_freq=10)\n",
    "        # evaluate on the test dataset\n",
    "        evaluate(model, data_loader_test, device=device)\n",
    "\n",
    "    print(\"That's it!\")"
   ],
   "execution_count": null,
   "outputs": []
  },
  {
   "cell_type": "code",
   "metadata": {
    "id": "3vQl4PHOOgmm"
   },
   "source": [
    "def create_dataset_and_dataloader(root='PennFudanPed'):\n",
    "  dataset = PennFudanDataset(root, get_transform(train=True))\n",
    "  dataset_test = PennFudanDataset(root, get_transform(train=False))\n",
    "\n",
    "  # split the dataset in train and test set\n",
    "  indices = list(range(len(dataset)))\n",
    "  dataset = torch.utils.data.Subset(dataset, indices[:-50])\n",
    "  dataset_test = torch.utils.data.Subset(dataset_test, indices[-50:])\n",
    "\n",
    "  # define training and validation data loaders\n",
    "  data_loader = torch.utils.data.DataLoader(\n",
    "      dataset, batch_size=2, shuffle=True, num_workers=4,\n",
    "      collate_fn=utils.collate_fn)\n",
    "\n",
    "  data_loader_test = torch.utils.data.DataLoader(\n",
    "      dataset_test, batch_size=1, shuffle=False, num_workers=4,\n",
    "      collate_fn=utils.collate_fn)\n",
    "  return data_loader, data_loader_test\n"
   ],
   "execution_count": null,
   "outputs": []
  },
  {
   "cell_type": "code",
   "metadata": {
    "id": "8YztgWHcMXWi"
   },
   "source": [
    "class PennFudanDataset(torch.utils.data.Dataset):\n",
    "    '''\n",
    "    PennFudanPed/\n",
    "      PedMasks/\n",
    "        FudanPed00001_mask.png\n",
    "        FudanPed00002_mask.png\n",
    "        FudanPed00003_mask.png\n",
    "        FudanPed00004_mask.png\n",
    "        ...\n",
    "      PNGImages/\n",
    "        FudanPed00001.png\n",
    "        FudanPed00002.png\n",
    "        FudanPed00003.png\n",
    "        FudanPed00004.png\n",
    "    '''\n",
    "    def __init__(self, root, transforms):\n",
    "        self.root = root\n",
    "        self.transforms = transforms\n",
    "        # load all image files, sorting them to\n",
    "        # ensure that they are aligned\n",
    "        self.imgs = list(sorted(os.listdir(os.path.join(root, \"PNGImages\"))))\n",
    "        self.masks = list(sorted(os.listdir(os.path.join(root, \"PedMasks\"))))\n",
    "\n",
    "    def __getitem__(self, idx):\n",
    "        # load images and masks\n",
    "        img_path = os.path.join(self.root, \"PNGImages\", self.imgs[idx])\n",
    "        mask_path = os.path.join(self.root, \"PedMasks\", self.masks[idx])\n",
    "\n",
    "        img = Image.open(img_path).convert(\"RGB\")\n",
    "        mask = Image.open(mask_path)  # mask --> 0 : 배경, 1 : 보행자 \n",
    "        mask = np.array(mask) # convert the PIL Image into a numpy array\n",
    "        \n",
    "        obj_ids = np.unique(mask)\n",
    "        obj_ids = obj_ids[1:] # index 0 은 배경이라서 제거\n",
    "        masks = mask == obj_ids[:, None, None]\n",
    "\n",
    "        # mask 로부터 box를 생성 \n",
    "        num_objs = len(obj_ids) \n",
    "        boxes = []\n",
    "        for i in range(num_objs):\n",
    "            pos = np.where(masks[i])\n",
    "            xmin = np.min(pos[1])\n",
    "            xmax = np.max(pos[1])\n",
    "            ymin = np.min(pos[0])\n",
    "            ymax = np.max(pos[0])\n",
    "            boxes.append([xmin, ymin, xmax, ymax])\n",
    "\n",
    "        # torch tensor 로 변환\n",
    "        boxes = torch.as_tensor(boxes, dtype=torch.float32)\n",
    "  \n",
    "        labels = torch.ones((num_objs,), dtype=torch.int64)\n",
    "        masks = torch.as_tensor(masks, dtype=torch.uint8)\n",
    "\n",
    "        image_id = torch.tensor([idx])\n",
    "        area = (boxes[:, 3] - boxes[:, 1]) * (boxes[:, 2] - boxes[:, 0])\n",
    "        # suppose all instances are not crowd\n",
    "        iscrowd = torch.zeros((num_objs,), dtype=torch.int64)\n",
    "\n",
    "        target = {}\n",
    "        target[\"boxes\"] = boxes\n",
    "        target[\"labels\"] = labels\n",
    "        target[\"masks\"] = masks\n",
    "        target[\"image_id\"] = image_id\n",
    "        target[\"area\"] = area\n",
    "        target[\"iscrowd\"] = iscrowd\n",
    "\n",
    "        if self.transforms is not None:\n",
    "            img, target = self.transforms(img, target)\n",
    "        return img, target\n",
    "\n",
    "    def __len__(self):\n",
    "        return len(self.imgs)"
   ],
   "execution_count": null,
   "outputs": []
  },
  {
   "cell_type": "code",
   "metadata": {
    "id": "YiFF50PAYJXz"
   },
   "source": [
    "def get_transform(train):\n",
    "    transforms = []\n",
    "    transforms.append(T.ToTensor())\n",
    "    if train:\n",
    "        transforms.append(T.RandomHorizontalFlip(0.5))\n",
    "    return T.Compose(transforms)"
   ],
   "execution_count": null,
   "outputs": []
  },
  {
   "cell_type": "code",
   "metadata": {
    "colab": {
     "base_uri": "https://localhost:8080/",
     "height": 422
    },
    "id": "E37xDYqoh8cY",
    "outputId": "7fe5ce35-8b3d-471d-e265-658e3cf1e3bf"
   },
   "source": [
    "# 데이터 테스트 출력\n",
    "\n",
    "import cv2\n",
    "import matplotlib.pyplot as plt\n",
    "\n",
    "# 박스 시각화\n",
    "def makeBox(voc_im, bbox):\n",
    "  image = voc_im.copy()\n",
    "  for i in range(len(bbox)):\n",
    "    cv2.rectangle(image,(int(bbox[i][0]),int(bbox[i][1])),(int(bbox[i][2]),int(bbox[i][3])),color = (0,255,0),thickness = 1)\n",
    "  return image\n",
    "\n",
    "\n",
    "dataset = PennFudanDataset('PennFudanPed', get_transform(train=True))\n",
    "dataloader = torch.utils.data.DataLoader(dataset, shuffle=True)\n",
    "\n",
    "for i, (image, targets) in enumerate(dataloader):\n",
    "  test_image = image\n",
    "  test_target = targets\n",
    "  if i == 0 : break\n",
    "\n",
    "print(test_target)\n",
    "\n",
    "plot_image = makeBox(test_image.squeeze(0).permute(1,2,0).numpy(),test_target['boxes'].squeeze(0))\n",
    "plt.imshow(plot_image)"
   ],
   "execution_count": null,
   "outputs": [
    {
     "output_type": "stream",
     "text": [
      "Clipping input data to the valid range for imshow with RGB data ([0..1] for floats or [0..255] for integers).\n"
     ],
     "name": "stderr"
    },
    {
     "output_type": "stream",
     "text": [
      "{'boxes': tensor([[[ 93.,  52., 232., 345.]]]), 'labels': tensor([[1]]), 'masks': tensor([[[[0, 0, 0,  ..., 0, 0, 0],\n",
      "          [0, 0, 0,  ..., 0, 0, 0],\n",
      "          [0, 0, 0,  ..., 0, 0, 0],\n",
      "          ...,\n",
      "          [0, 0, 0,  ..., 0, 0, 0],\n",
      "          [0, 0, 0,  ..., 0, 0, 0],\n",
      "          [0, 0, 0,  ..., 0, 0, 0]]]], dtype=torch.uint8), 'image_id': tensor([[32]]), 'area': tensor([[40727.]]), 'iscrowd': tensor([[0]])}\n"
     ],
     "name": "stdout"
    },
    {
     "output_type": "execute_result",
     "data": {
      "text/plain": [
       "<matplotlib.image.AxesImage at 0x7ff4f61b7110>"
      ]
     },
     "metadata": {},
     "execution_count": 10
    },
    {
     "output_type": "display_data",
     "data": {
      "image/png": "[encoded data removed]",
      "text/plain": [
       "<Figure size 432x288 with 1 Axes>"
      ]
     },
     "metadata": {
      "needs_background": "light"
     }
    }
   ]
  },
  {
   "cell_type": "code",
   "metadata": {
    "id": "gEfwd26BjL3P"
   },
   "source": [
    "def create_faster_rcnn():\n",
    "    resnet = torchvision.models.resnet50(pretrained=True)\n",
    "    backbone = nn.Sequential(\n",
    "        resnet.conv1, resnet.bn1, resnet.relu, resnet.maxpool,\n",
    "        resnet.layer1, resnet.layer2, resnet.layer3,\n",
    "    )\n",
    "    # print(backbone(torch.rand(4, 3, 800, 800)).shape)\n",
    "    backbone.out_channels = 1024\n",
    "\n",
    "    rpn_anchor_generator = AnchorGenerator(\n",
    "        sizes=((32, 64, 128, 256, 512),), aspect_ratios=((0.5, 1.0, 2.0),))\n",
    "\n",
    "    num_anchors = 5 * 3\n",
    "    in_channels = backbone.out_channels\n",
    "    rpn_head = RPNHead(in_channels, num_anchors)\n",
    "    # prob, box_delta = rpn_head([torch.rand(4, 1024, 50, 50)])\n",
    "    # print(box_delta[0].shape, prob[0].shape)\n",
    "\n",
    "    roi_pooler = torchvision.ops.MultiScaleRoIAlign(\n",
    "        featmap_names=['0'], output_size=7, sampling_ratio=2)\n",
    "    # print(roi_pooler(\n",
    "    #     x={'0': torch.rand(4, 1024, 50, 50)},\n",
    "    #     boxes=[torch.randint(0, 800, size=(100, 4)).float()] * 4,\n",
    "    #     image_shapes=[(800, 800)] * 4).shape)\n",
    "\n",
    "    in_channles = 7 * 7 * backbone.out_channels\n",
    "    representation_size = 2048\n",
    "    box_base = TwoMLPHead(in_channels=in_channles,\n",
    "                          representation_size=representation_size)\n",
    "    # print(box_base(torch.rand(400, 1024, 7, 7)).shape)\n",
    "\n",
    "    num_classes = 2\n",
    "    box_predictor = FastRCNNPredictor(in_channels=representation_size, num_classes=num_classes)\n",
    "    # prob, box_delta = box_predictor(torch.rand(400, 2048))\n",
    "    # print(prob.shape, box_delta.shape)\n",
    "\n",
    "    # put the pieces together inside a FasterRCNN model\n",
    "    model = FasterRCNN(backbone,\n",
    "                       # num_classes=2,\n",
    "                       rpn_head=rpn_head,\n",
    "                       rpn_anchor_generator=rpn_anchor_generator,\n",
    "                       box_roi_pool=roi_pooler,\n",
    "                       box_head=box_base,\n",
    "                       box_predictor=box_predictor)\n",
    "    return model"
   ],
   "execution_count": null,
   "outputs": []
  },
  {
   "cell_type": "code",
   "metadata": {
    "id": "MTIdxOdJKYC7"
   },
   "source": [
    "if False:\n",
    "  resnet = torchvision.models.resnet50(pretrained=True)\n",
    "  backbone = nn.Sequential(\n",
    "      resnet.conv1, resnet.bn1, resnet.relu, resnet.maxpool,\n",
    "      resnet.layer1, resnet.layer2, resnet.layer3,\n",
    "  )\n",
    "\n",
    "  input_img = torch.rand(8, 3, 800, 800)\n",
    "  output_feature = backbone(input_img)\n",
    "  print('input : image batch {}'.format(input_img.shape))\n",
    "  print('output : backbone feature {}'.format(output_feature.shape))"
   ],
   "execution_count": null,
   "outputs": []
  },
  {
   "cell_type": "code",
   "metadata": {
    "id": "QaeSLBkKLOvC"
   },
   "source": [
    "if False:\n",
    "  rpn_head = RPNHead(in_channels=1024, num_anchors=5*3) # 1024 : backbone의 output channel\n",
    "\n",
    "  backbone_feature_map = torch.rand(8, 1024, 50, 50)\n",
    "\n",
    "  prob, box_delta = rpn_head([backbone_feature_map])\n",
    "  print('intput : backbone feature {}'.format(backbone_feature_map.shape))\n",
    "  print('output : prob {}  and  box_delta {}'.format(prob[0].shape, box_delta[0].shape))"
   ],
   "execution_count": null,
   "outputs": []
  },
  {
   "cell_type": "code",
   "execution_count": null,
   "outputs": [],
   "source": [
    "if False:\n",
    "  rpn_anchor_generator = AnchorGenerator(\n",
    "        sizes=((32, 64, 128, 256, 512),), aspect_ratios=((0.5, 1.0, 2.0),))\n",
    "  images = torch.rand(1, 3, 800, 800)\n",
    "  features = torch.rand(1, 1024, 50, 50)\n",
    "\n",
    "  from torchvision.models.detection.image_list import ImageList\n",
    "  images = ImageList(images, [(800, 800)])\n",
    "\n",
    "  anchors = rpn_anchor_generator(images, features)\n",
    "\n",
    "  print('input : images, features  {}, {}'.format(images.tensors.shape, features.shape))\n",
    "  print('output : anchors  {}'.format(anchors[0].shape)) # 37,500 == 50x50 x 15\n",
    "\n",
    "  draw_img = torch.zeros(800, 800, 3).numpy()\n",
    "  # 박스 시각화\n",
    "  def makeBox(voc_im, bbox):\n",
    "    image = voc_im.copy()\n",
    "    for i in range(len(bbox)):\n",
    "      cv2.rectangle(image,(int(bbox[i][0]),int(bbox[i][1])),(int(bbox[i][2]),int(bbox[i][3])),color = (0,255,0),thickness = 2)\n",
    "    return image\n",
    "\n",
    "  selected_boxes = anchors[0][20000:20015]\n",
    "\n",
    "  print(selected_boxes)\n",
    "  plot_image = makeBox(draw_img, selected_boxes)\n",
    "  plt.imshow(plot_image)\n"
   ],
   "metadata": {
    "collapsed": false,
    "pycharm": {
     "name": "#%%\n"
    }
   }
  },
  {
   "cell_type": "code",
   "metadata": {
    "id": "yVY0KOJTMloS"
   },
   "source": [
    "if False:\n",
    "  roi_pooler = torchvision.ops.MultiScaleRoIAlign(\n",
    "          featmap_names=['0'], output_size=7, sampling_ratio=2)\n",
    "\n",
    "  backbone_feature_map = torch.rand(8, 1024, 50, 50)\n",
    "  box_of_rpn = [torch.randint(0, 800, size=(100, 4)).float()] * 8\n",
    "  print('[input]')\n",
    "  print('backbone feature  {}'.format(backbone_feature_map.shape))\n",
    "  print('box :  batch {}  and  shape : {}'.format(len(box_of_rpn), box_of_rpn[0].shape))\n",
    "  print()\n",
    "  print('output : ', roi_pooler(\n",
    "      x={'0': backbone_feature_map},\n",
    "      boxes=box_of_rpn,\n",
    "      image_shapes=[(800, 800)] * 8).shape)"
   ],
   "execution_count": null,
   "outputs": []
  },
  {
   "cell_type": "code",
   "metadata": {
    "id": "-mK3fj7uPSgq"
   },
   "source": [
    "if False:\n",
    "  box_base = TwoMLPHead(in_channels=7*7*1024,\n",
    "                            representation_size=2048)\n",
    "\n",
    "  roi_pooling_result = torch.rand(800, 1024, 7, 7)\n",
    "  output = box_base(roi_pooling_result)\n",
    "\n",
    "  print('input : roi pooling result  {}'.format(roi_pooling_result.shape))\n",
    "  print('output : box base feature  {}'.format(output.shape))"
   ],
   "execution_count": null,
   "outputs": []
  },
  {
   "cell_type": "code",
   "metadata": {
    "id": "QniVkdnZPSqb"
   },
   "source": [
    "if False:\n",
    "  num_classes = 2\n",
    "  box_predictor = FastRCNNPredictor(in_channels=2048, num_classes=num_classes)\n",
    "\n",
    "  box_base_result = torch.rand(800, 2048)\n",
    "  prob, box_delta = box_predictor(box_base_result)\n",
    "\n",
    "  print('input : roi pooling result  {}'.format(box_base_result.shape))\n",
    "  print('output : box prob  {}   and    box delta {}'.format(prob.shape, box_delta.shape))"
   ],
   "execution_count": null,
   "outputs": []
  },
  {
   "cell_type": "code",
   "metadata": {
    "id": "byx5-IJfh5MK"
   },
   "source": [
    "def create_pretrained_faster_rcnn():\n",
    "    # COCO 에서 학습된 weight 를 불러오기\n",
    "    model = torchvision.models.detection.fasterrcnn_resnet50_fpn(pretrained=True)\n",
    "\n",
    "    # COCO는 80 클래스. 클래스 개수가 달라졌기에 클래스 분류 layer 를 교체해줘야 함.\n",
    "    num_classes = 2  # 1 class (person) + background\n",
    "    in_features = model.roi_heads.box_predictor.cls_score.in_features\n",
    "    model.roi_heads.box_predictor = FastRCNNPredictor(in_features, num_classes)\n",
    "    return model"
   ],
   "execution_count": null,
   "outputs": []
  },
  {
   "cell_type": "code",
   "metadata": {
    "id": "-bOQyjbUkWSR"
   },
   "source": [
    "def create_pretrained_ssd():\n",
    "    model = torchvision.models.detection.ssdlite320_mobilenet_v3_large(pretrained=True)\n",
    "    # feature_maps = model.backbone(torch.rand(4, 3, 320, 320))\n",
    "    # print(len(feature_maps), feature_maps.keys())\n",
    "    # print(feature_maps['0'].shape, feature_maps['1'].shape, feature_maps['2'].shape,\n",
    "    #       feature_maps['3'].shape, feature_maps['4'].shape, feature_maps['5'].shape)\n",
    "    # out = model.head(list(feature_maps.values()))\n",
    "    # print(out['bbox_regression'].shape, out['cls_logits'].shape)\n",
    "    return model"
   ],
   "execution_count": null,
   "outputs": []
  },
  {
   "cell_type": "code",
   "metadata": {
    "id": "7CyE7hl2jZcp"
   },
   "source": [
    "def train_one_epoch(model, optimizer, data_loader, device, epoch, print_freq):\n",
    "    model.train()\n",
    "\n",
    "    metric_logger = utils.MetricLogger(delimiter=\"  \")\n",
    "    metric_logger.add_meter('lr', utils.SmoothedValue(window_size=1, fmt='{value:.6f}'))\n",
    "    header = 'Epoch: [{}]'.format(epoch)\n",
    "\n",
    "    # for images, targets in data_loader:\n",
    "    for images, targets in metric_logger.log_every(data_loader, print_freq, header):\n",
    "        # []\n",
    "        images = list(image.to(device) for image in images)\n",
    "        targets = [{k: v.to(device) for k, v in t.items()} for t in targets]\n",
    "\n",
    "        loss_dict = model(images, targets)\n",
    "\n",
    "        # reduce losses over all GPUs for logging purposes\n",
    "        loss_dict_reduced = utils.reduce_dict(loss_dict)\n",
    "        losses_reduced = sum(loss for loss in loss_dict_reduced.values())\n",
    "        loss_value = losses_reduced.item()\n",
    "\n",
    "        if not math.isfinite(loss_value): # loss 가 무한대 되면 강제 정지\n",
    "            print(\"Loss is {}, stopping training\".format(loss_value))\n",
    "            print(loss_dict_reduced)\n",
    "            sys.exit(1)\n",
    "\n",
    "        # loss 계산 후 backward  &  파라미터 update\n",
    "        losses = sum(loss for loss in loss_dict.values())\n",
    "        optimizer.zero_grad()\n",
    "        losses.backward()\n",
    "        optimizer.step()\n",
    "\n",
    "        # 학습 과정 log\n",
    "        metric_logger.update(loss=losses_reduced, **loss_dict_reduced)\n",
    "        metric_logger.update(lr=optimizer.param_groups[0][\"lr\"])"
   ],
   "execution_count": null,
   "outputs": []
  },
  {
   "cell_type": "code",
   "metadata": {
    "id": "8zr2t2KrqfU9"
   },
   "source": [
    "\n",
    "import math\n",
    "import sys\n",
    "import time\n",
    "import torch\n",
    "\n",
    "import torchvision.models.detection.mask_rcnn\n",
    "\n",
    "from coco_utils import get_coco_api_from_dataset\n",
    "from coco_eval import CocoEvaluator\n",
    "import utils\n",
    "\n",
    "\n",
    "def _get_iou_types(model):\n",
    "    model_without_ddp = model\n",
    "    if isinstance(model, torch.nn.parallel.DistributedDataParallel):\n",
    "        model_without_ddp = model.module\n",
    "    iou_types = [\"bbox\"]\n",
    "    if isinstance(model_without_ddp, torchvision.models.detection.MaskRCNN):\n",
    "        iou_types.append(\"segm\")\n",
    "    if isinstance(model_without_ddp, torchvision.models.detection.KeypointRCNN):\n",
    "        iou_types.append(\"keypoints\")\n",
    "    return iou_types\n",
    "\n",
    "@torch.no_grad()\n",
    "def evaluate(model, data_loader, device):\n",
    "    n_threads = torch.get_num_threads()\n",
    "    # FIXME remove this and make paste_masks_in_image run on the GPU\n",
    "    torch.set_num_threads(1)\n",
    "    cpu_device = torch.device(\"cpu\")\n",
    "    model.eval()\n",
    "    metric_logger = utils.MetricLogger(delimiter=\"  \")\n",
    "    header = 'Test:'\n",
    "\n",
    "    coco = get_coco_api_from_dataset(data_loader.dataset)\n",
    "    iou_types = _get_iou_types(model)\n",
    "    coco_evaluator = CocoEvaluator(coco, iou_types)\n",
    "\n",
    "    for image, targets in metric_logger.log_every(data_loader, 100, header):\n",
    "        image = list(img.to(device) for img in image)\n",
    "        targets = [{k: v.to(device) for k, v in t.items()} for t in targets]\n",
    "\n",
    "        torch.cuda.synchronize()\n",
    "        model_time = time.time()\n",
    "        outputs = model(image)\n",
    "\n",
    "        outputs = [{k: v.to(cpu_device) for k, v in t.items()} for t in outputs]\n",
    "        model_time = time.time() - model_time\n",
    "\n",
    "        res = {target[\"image_id\"].item(): output for target, output in zip(targets, outputs)}\n",
    "        evaluator_time = time.time()\n",
    "        coco_evaluator.update(res)\n",
    "        evaluator_time = time.time() - evaluator_time\n",
    "        metric_logger.update(model_time=model_time, evaluator_time=evaluator_time)\n",
    "\n",
    "    # gather the stats from all processes\n",
    "    metric_logger.synchronize_between_processes()\n",
    "    print(\"Averaged stats:\", metric_logger)\n",
    "    coco_evaluator.synchronize_between_processes()\n",
    "\n",
    "    # accumulate predictions from all images\n",
    "    coco_evaluator.accumulate()\n",
    "    coco_evaluator.summarize()\n",
    "    torch.set_num_threads(n_threads)\n",
    "    return coco_evaluator\n"
   ],
   "execution_count": null,
   "outputs": []
  },
  {
   "cell_type": "code",
   "metadata": {
    "colab": {
     "base_uri": "https://localhost:8080/",
     "height": 1000,
     "referenced_widgets": [
      "29e5935f10dd4664ba6907c7c732d3c2",
      "46c19ec30e554ca78041c36dc468c3f6",
      "b598eb60a1064de983222d55f1a87ea1",
      "2a7e52f126d6487f8a64e5585d5d7e18",
      "d291a2766a8d47a68717099ac0b26bf9",
      "631da1c7276d47f487c41dfa6f42bebf",
      "cb30c8eed89942d58f7f645f51c1fba2",
      "df4feb27f4074017ad348c5b29d77763",
      "22ff41c48f0b44228b3524ffb34fb106",
      "377aeedf82044fc38f2b957f6c46299e",
      "ac471274ef294655aa3518f558170d22"
     ]
    },
    "id": "18VZbStUkfCZ",
    "outputId": "9f21d43e-d36c-4762-f42f-91adb4c0c310"
   },
   "source": [
    "if __name__ == \"__main__\":\n",
    "    main()"
   ],
   "execution_count": null,
   "outputs": [
    {
     "output_type": "stream",
     "text": [
      "/usr/local/lib/python3.7/dist-packages/torch/utils/data/dataloader.py:481: UserWarning: This DataLoader will create 4 worker processes in total. Our suggested max number of worker in current system is 2, which is smaller than what this DataLoader is going to create. Please be aware that excessive worker creation might get DataLoader running slow or even freeze, lower the worker number to avoid potential slowness/freeze if necessary.\n",
      "  cpuset_checked))\n",
      "Downloading: \"https://download.pytorch.org/models/resnet50-0676ba61.pth\" to /root/.cache/torch/hub/checkpoints/resnet50-0676ba61.pth\n"
     ],
     "name": "stderr"
    },
    {
     "output_type": "display_data",
     "data": {
      "application/vnd.jupyter.widget-view+json": {
       "model_id": "29e5935f10dd4664ba6907c7c732d3c2",
       "version_minor": 0,
       "version_major": 2
      },
      "text/plain": [
       "  0%|          | 0.00/97.8M [00:00<?, ?B/s]"
      ]
     },
     "metadata": {}
    },
    {
     "output_type": "stream",
     "text": [
      "/usr/local/lib/python3.7/dist-packages/torch/nn/functional.py:718: UserWarning: Named tensors and all their associated APIs are an experimental feature and subject to change. Please do not use them for anything important until they are released as stable. (Triggered internally at  /pytorch/c10/core/TensorImpl.h:1156.)\n",
      "  return torch.max_pool2d(input, kernel_size, stride, padding, dilation, ceil_mode)\n"
     ],
     "name": "stderr"
    },
    {
     "output_type": "stream",
     "text": [
      "Epoch: [0]  [ 0/60]  eta: 0:02:03  lr: 0.005000  loss: 1.6811 (1.6811)  loss_classifier: 0.7002 (0.7002)  loss_box_reg: 0.0860 (0.0860)  loss_objectness: 0.6942 (0.6942)  loss_rpn_box_reg: 0.2008 (0.2008)  time: 2.0524  data: 0.2770  max mem: 4155\n",
      "Epoch: [0]  [10/60]  eta: 0:01:16  lr: 0.005000  loss: 1.4390 (1.4576)  loss_classifier: 0.6115 (0.5982)  loss_box_reg: 0.0803 (0.0779)  loss_objectness: 0.6890 (0.6886)  loss_rpn_box_reg: 0.0949 (0.0929)  time: 1.5309  data: 0.0350  max mem: 6444\n",
      "Epoch: [0]  [20/60]  eta: 0:00:56  lr: 0.005000  loss: 1.3694 (1.3594)  loss_classifier: 0.4507 (0.4677)  loss_box_reg: 0.1081 (0.1316)  loss_objectness: 0.6815 (0.6811)  loss_rpn_box_reg: 0.0590 (0.0790)  time: 1.3915  data: 0.0112  max mem: 6923\n",
      "Epoch: [0]  [30/60]  eta: 0:00:40  lr: 0.005000  loss: 1.2279 (1.3846)  loss_classifier: 0.3222 (0.4402)  loss_box_reg: 0.2175 (0.1962)  loss_objectness: 0.6602 (0.6704)  loss_rpn_box_reg: 0.0620 (0.0778)  time: 1.2402  data: 0.0119  max mem: 6923\n",
      "Epoch: [0]  [40/60]  eta: 0:00:26  lr: 0.005000  loss: 1.3321 (1.3851)  loss_classifier: 0.3493 (0.4186)  loss_box_reg: 0.3031 (0.2311)  loss_objectness: 0.6406 (0.6598)  loss_rpn_box_reg: 0.0682 (0.0757)  time: 1.2225  data: 0.0118  max mem: 6923\n",
      "Epoch: [0]  [50/60]  eta: 0:00:12  lr: 0.005000  loss: 1.3375 (1.3848)  loss_classifier: 0.3493 (0.4089)  loss_box_reg: 0.3281 (0.2545)  loss_objectness: 0.6111 (0.6472)  loss_rpn_box_reg: 0.0682 (0.0743)  time: 1.2059  data: 0.0115  max mem: 6923\n",
      "Epoch: [0]  [59/60]  eta: 0:00:01  lr: 0.005000  loss: 1.3263 (1.3609)  loss_classifier: 0.3385 (0.3959)  loss_box_reg: 0.3281 (0.2559)  loss_objectness: 0.5859 (0.6357)  loss_rpn_box_reg: 0.0669 (0.0733)  time: 1.1302  data: 0.0110  max mem: 6923\n",
      "Epoch: [0] Total time: 0:01:16 (1.2683 s / it)\n",
      "creating index...\n",
      "index created!\n",
      "Test:  [ 0/50]  eta: 0:00:21  model_time: 0.2590 (0.2590)  evaluator_time: 0.0081 (0.0081)  time: 0.4249  data: 0.1558  max mem: 6923\n",
      "Test:  [49/50]  eta: 0:00:00  model_time: 0.1772 (0.1893)  evaluator_time: 0.0042 (0.0050)  time: 0.1961  data: 0.0060  max mem: 6923\n",
      "Test: Total time: 0:00:10 (0.2061 s / it)\n",
      "Averaged stats: model_time: 0.1772 (0.1893)  evaluator_time: 0.0042 (0.0050)\n",
      "Accumulating evaluation results...\n",
      "DONE (t=0.02s).\n",
      "IoU metric: bbox\n",
      " Average Precision  (AP) @[ IoU=0.50:0.95 | area=   all | maxDets=100 ] = 0.184\n",
      " Average Precision  (AP) @[ IoU=0.50      | area=   all | maxDets=100 ] = 0.585\n",
      " Average Precision  (AP) @[ IoU=0.75      | area=   all | maxDets=100 ] = 0.058\n",
      " Average Precision  (AP) @[ IoU=0.50:0.95 | area= small | maxDets=100 ] = -1.000\n",
      " Average Precision  (AP) @[ IoU=0.50:0.95 | area=medium | maxDets=100 ] = 0.000\n",
      " Average Precision  (AP) @[ IoU=0.50:0.95 | area= large | maxDets=100 ] = 0.196\n",
      " Average Recall     (AR) @[ IoU=0.50:0.95 | area=   all | maxDets=  1 ] = 0.118\n",
      " Average Recall     (AR) @[ IoU=0.50:0.95 | area=   all | maxDets= 10 ] = 0.288\n",
      " Average Recall     (AR) @[ IoU=0.50:0.95 | area=   all | maxDets=100 ] = 0.297\n",
      " Average Recall     (AR) @[ IoU=0.50:0.95 | area= small | maxDets=100 ] = -1.000\n",
      " Average Recall     (AR) @[ IoU=0.50:0.95 | area=medium | maxDets=100 ] = 0.000\n",
      " Average Recall     (AR) @[ IoU=0.50:0.95 | area= large | maxDets=100 ] = 0.317\n",
      "Epoch: [1]  [ 0/60]  eta: 0:01:37  lr: 0.005000  loss: 1.1658 (1.1658)  loss_classifier: 0.3098 (0.3098)  loss_box_reg: 0.2786 (0.2786)  loss_objectness: 0.5489 (0.5489)  loss_rpn_box_reg: 0.0286 (0.0286)  time: 1.6208  data: 0.3857  max mem: 6923\n",
      "Epoch: [1]  [10/60]  eta: 0:00:59  lr: 0.005000  loss: 1.2501 (1.2674)  loss_classifier: 0.3242 (0.3313)  loss_box_reg: 0.3404 (0.3412)  loss_objectness: 0.5343 (0.5273)  loss_rpn_box_reg: 0.0640 (0.0676)  time: 1.1915  data: 0.0426  max mem: 6923\n",
      "Epoch: [1]  [20/60]  eta: 0:00:47  lr: 0.005000  loss: 1.0888 (1.1921)  loss_classifier: 0.2797 (0.3104)  loss_box_reg: 0.2758 (0.3043)  loss_objectness: 0.5160 (0.5165)  loss_rpn_box_reg: 0.0575 (0.0609)  time: 1.1547  data: 0.0101  max mem: 6923\n",
      "Epoch: [1]  [30/60]  eta: 0:00:35  lr: 0.005000  loss: 1.1510 (1.1967)  loss_classifier: 0.3035 (0.3190)  loss_box_reg: 0.3239 (0.3221)  loss_objectness: 0.4561 (0.4892)  loss_rpn_box_reg: 0.0625 (0.0664)  time: 1.1921  data: 0.0116  max mem: 6923\n",
      "Epoch: [1]  [40/60]  eta: 0:00:23  lr: 0.005000  loss: 1.1643 (1.1723)  loss_classifier: 0.3114 (0.3117)  loss_box_reg: 0.3270 (0.3263)  loss_objectness: 0.4048 (0.4674)  loss_rpn_box_reg: 0.0674 (0.0670)  time: 1.2197  data: 0.0112  max mem: 6923\n",
      "Epoch: [1]  [50/60]  eta: 0:00:11  lr: 0.005000  loss: 1.0510 (1.1560)  loss_classifier: 0.2841 (0.3087)  loss_box_reg: 0.3695 (0.3371)  loss_objectness: 0.3646 (0.4436)  loss_rpn_box_reg: 0.0553 (0.0665)  time: 1.1887  data: 0.0115  max mem: 6923\n",
      "Epoch: [1]  [59/60]  eta: 0:00:01  lr: 0.005000  loss: 1.0086 (1.1280)  loss_classifier: 0.2665 (0.2997)  loss_box_reg: 0.3374 (0.3331)  loss_objectness: 0.3402 (0.4266)  loss_rpn_box_reg: 0.0638 (0.0685)  time: 1.1628  data: 0.0112  max mem: 6923\n",
      "Epoch: [1] Total time: 0:01:11 (1.1852 s / it)\n",
      "creating index...\n",
      "index created!\n",
      "Test:  [ 0/50]  eta: 0:00:22  model_time: 0.2773 (0.2773)  evaluator_time: 0.0046 (0.0046)  time: 0.4591  data: 0.1752  max mem: 6923\n",
      "Test:  [49/50]  eta: 0:00:00  model_time: 0.1768 (0.1886)  evaluator_time: 0.0024 (0.0030)  time: 0.1926  data: 0.0057  max mem: 6923\n",
      "Test: Total time: 0:00:10 (0.2032 s / it)\n",
      "Averaged stats: model_time: 0.1768 (0.1886)  evaluator_time: 0.0024 (0.0030)\n",
      "Accumulating evaluation results...\n",
      "DONE (t=0.02s).\n",
      "IoU metric: bbox\n",
      " Average Precision  (AP) @[ IoU=0.50:0.95 | area=   all | maxDets=100 ] = 0.245\n",
      " Average Precision  (AP) @[ IoU=0.50      | area=   all | maxDets=100 ] = 0.634\n",
      " Average Precision  (AP) @[ IoU=0.75      | area=   all | maxDets=100 ] = 0.120\n",
      " Average Precision  (AP) @[ IoU=0.50:0.95 | area= small | maxDets=100 ] = -1.000\n",
      " Average Precision  (AP) @[ IoU=0.50:0.95 | area=medium | maxDets=100 ] = 0.000\n",
      " Average Precision  (AP) @[ IoU=0.50:0.95 | area= large | maxDets=100 ] = 0.260\n",
      " Average Recall     (AR) @[ IoU=0.50:0.95 | area=   all | maxDets=  1 ] = 0.158\n",
      " Average Recall     (AR) @[ IoU=0.50:0.95 | area=   all | maxDets= 10 ] = 0.390\n",
      " Average Recall     (AR) @[ IoU=0.50:0.95 | area=   all | maxDets=100 ] = 0.394\n",
      " Average Recall     (AR) @[ IoU=0.50:0.95 | area= small | maxDets=100 ] = -1.000\n",
      " Average Recall     (AR) @[ IoU=0.50:0.95 | area=medium | maxDets=100 ] = 0.000\n",
      " Average Recall     (AR) @[ IoU=0.50:0.95 | area= large | maxDets=100 ] = 0.419\n",
      "Epoch: [2]  [ 0/60]  eta: 0:01:16  lr: 0.005000  loss: 0.7412 (0.7412)  loss_classifier: 0.1957 (0.1957)  loss_box_reg: 0.2007 (0.2007)  loss_objectness: 0.2984 (0.2984)  loss_rpn_box_reg: 0.0465 (0.0465)  time: 1.2819  data: 0.3198  max mem: 6923\n",
      "Epoch: [2]  [10/60]  eta: 0:00:57  lr: 0.005000  loss: 0.9616 (0.9881)  loss_classifier: 0.2364 (0.2515)  loss_box_reg: 0.3522 (0.3588)  loss_objectness: 0.2979 (0.2986)  loss_rpn_box_reg: 0.0678 (0.0792)  time: 1.1433  data: 0.0381  max mem: 6923\n",
      "Epoch: [2]  [20/60]  eta: 0:00:46  lr: 0.005000  loss: 0.9616 (0.9655)  loss_classifier: 0.2364 (0.2410)  loss_box_reg: 0.3743 (0.3712)  loss_objectness: 0.2631 (0.2757)  loss_rpn_box_reg: 0.0678 (0.0776)  time: 1.1464  data: 0.0114  max mem: 6923\n",
      "Epoch: [2]  [30/60]  eta: 0:00:34  lr: 0.005000  loss: 1.0096 (0.9829)  loss_classifier: 0.2384 (0.2482)  loss_box_reg: 0.4099 (0.3979)  loss_objectness: 0.2381 (0.2601)  loss_rpn_box_reg: 0.0662 (0.0767)  time: 1.1318  data: 0.0129  max mem: 6923\n",
      "Epoch: [2]  [40/60]  eta: 0:00:23  lr: 0.005000  loss: 1.1353 (1.0437)  loss_classifier: 0.2681 (0.2660)  loss_box_reg: 0.5652 (0.4520)  loss_objectness: 0.2161 (0.2478)  loss_rpn_box_reg: 0.0662 (0.0778)  time: 1.1907  data: 0.0118  max mem: 6923\n",
      "Epoch: [2]  [50/60]  eta: 0:00:11  lr: 0.005000  loss: 1.0706 (1.0428)  loss_classifier: 0.2681 (0.2662)  loss_box_reg: 0.5652 (0.4600)  loss_objectness: 0.2057 (0.2384)  loss_rpn_box_reg: 0.0711 (0.0782)  time: 1.2432  data: 0.0115  max mem: 6923\n",
      "Epoch: [2]  [59/60]  eta: 0:00:01  lr: 0.005000  loss: 1.0399 (1.0505)  loss_classifier: 0.2779 (0.2700)  loss_box_reg: 0.4273 (0.4648)  loss_objectness: 0.1914 (0.2316)  loss_rpn_box_reg: 0.0795 (0.0841)  time: 1.2331  data: 0.0111  max mem: 6923\n",
      "Epoch: [2] Total time: 0:01:11 (1.1905 s / it)\n",
      "creating index...\n",
      "index created!\n",
      "Test:  [ 0/50]  eta: 0:00:21  model_time: 0.2774 (0.2774)  evaluator_time: 0.0044 (0.0044)  time: 0.4384  data: 0.1545  max mem: 6923\n",
      "Test:  [49/50]  eta: 0:00:00  model_time: 0.1776 (0.1896)  evaluator_time: 0.0020 (0.0025)  time: 0.1936  data: 0.0056  max mem: 6923\n",
      "Test: Total time: 0:00:10 (0.2038 s / it)\n",
      "Averaged stats: model_time: 0.1776 (0.1896)  evaluator_time: 0.0020 (0.0025)\n",
      "Accumulating evaluation results...\n",
      "DONE (t=0.02s).\n",
      "IoU metric: bbox\n",
      " Average Precision  (AP) @[ IoU=0.50:0.95 | area=   all | maxDets=100 ] = 0.117\n",
      " Average Precision  (AP) @[ IoU=0.50      | area=   all | maxDets=100 ] = 0.415\n",
      " Average Precision  (AP) @[ IoU=0.75      | area=   all | maxDets=100 ] = 0.046\n",
      " Average Precision  (AP) @[ IoU=0.50:0.95 | area= small | maxDets=100 ] = -1.000\n",
      " Average Precision  (AP) @[ IoU=0.50:0.95 | area=medium | maxDets=100 ] = 0.058\n",
      " Average Precision  (AP) @[ IoU=0.50:0.95 | area= large | maxDets=100 ] = 0.122\n",
      " Average Recall     (AR) @[ IoU=0.50:0.95 | area=   all | maxDets=  1 ] = 0.061\n",
      " Average Recall     (AR) @[ IoU=0.50:0.95 | area=   all | maxDets= 10 ] = 0.226\n",
      " Average Recall     (AR) @[ IoU=0.50:0.95 | area=   all | maxDets=100 ] = 0.226\n",
      " Average Recall     (AR) @[ IoU=0.50:0.95 | area= small | maxDets=100 ] = -1.000\n",
      " Average Recall     (AR) @[ IoU=0.50:0.95 | area=medium | maxDets=100 ] = 0.057\n",
      " Average Recall     (AR) @[ IoU=0.50:0.95 | area= large | maxDets=100 ] = 0.237\n",
      "Epoch: [3]  [ 0/60]  eta: 0:01:14  lr: 0.005000  loss: 1.2503 (1.2503)  loss_classifier: 0.3608 (0.3608)  loss_box_reg: 0.4874 (0.4874)  loss_objectness: 0.1842 (0.1842)  loss_rpn_box_reg: 0.2179 (0.2179)  time: 1.2424  data: 0.2274  max mem: 6923\n",
      "Epoch: [3]  [10/60]  eta: 0:00:58  lr: 0.005000  loss: 1.2595 (1.3418)  loss_classifier: 0.3608 (0.3792)  loss_box_reg: 0.6611 (0.6967)  loss_objectness: 0.1675 (0.1730)  loss_rpn_box_reg: 0.0730 (0.0929)  time: 1.1756  data: 0.0308  max mem: 6923\n",
      "Epoch: [3]  [20/60]  eta: 0:00:45  lr: 0.005000  loss: 1.2317 (1.2138)  loss_classifier: 0.3236 (0.3292)  loss_box_reg: 0.6011 (0.6219)  loss_objectness: 0.1581 (0.1704)  loss_rpn_box_reg: 0.0730 (0.0923)  time: 1.1420  data: 0.0119  max mem: 6923\n",
      "Epoch: [3]  [30/60]  eta: 0:00:34  lr: 0.005000  loss: 1.2294 (1.2519)  loss_classifier: 0.2855 (0.3302)  loss_box_reg: 0.5670 (0.6523)  loss_objectness: 0.1573 (0.1651)  loss_rpn_box_reg: 0.0973 (0.1043)  time: 1.1426  data: 0.0122  max mem: 6923\n",
      "Epoch: [3]  [40/60]  eta: 0:00:23  lr: 0.005000  loss: 1.2294 (1.2450)  loss_classifier: 0.3004 (0.3334)  loss_box_reg: 0.6502 (0.6437)  loss_objectness: 0.1452 (0.1591)  loss_rpn_box_reg: 0.1133 (0.1088)  time: 1.1741  data: 0.0122  max mem: 6923\n",
      "Epoch: [3]  [50/60]  eta: 0:00:11  lr: 0.005000  loss: 1.1545 (1.2109)  loss_classifier: 0.2967 (0.3255)  loss_box_reg: 0.5437 (0.6257)  loss_objectness: 0.1236 (0.1517)  loss_rpn_box_reg: 0.1119 (0.1081)  time: 1.2031  data: 0.0123  max mem: 6923\n",
      "Epoch: [3]  [59/60]  eta: 0:00:01  lr: 0.005000  loss: 1.0514 (1.1904)  loss_classifier: 0.2884 (0.3224)  loss_box_reg: 0.5435 (0.6187)  loss_objectness: 0.1101 (0.1459)  loss_rpn_box_reg: 0.0943 (0.1034)  time: 1.1934  data: 0.0110  max mem: 6923\n",
      "Epoch: [3] Total time: 0:01:10 (1.1733 s / it)\n",
      "creating index...\n",
      "index created!\n",
      "Test:  [ 0/50]  eta: 0:00:22  model_time: 0.2566 (0.2566)  evaluator_time: 0.0040 (0.0040)  time: 0.4414  data: 0.1787  max mem: 6923\n",
      "Test:  [49/50]  eta: 0:00:00  model_time: 0.1784 (0.1886)  evaluator_time: 0.0029 (0.0030)  time: 0.1927  data: 0.0054  max mem: 6923\n",
      "Test: Total time: 0:00:10 (0.2035 s / it)\n",
      "Averaged stats: model_time: 0.1784 (0.1886)  evaluator_time: 0.0029 (0.0030)\n",
      "Accumulating evaluation results...\n",
      "DONE (t=0.02s).\n",
      "IoU metric: bbox\n",
      " Average Precision  (AP) @[ IoU=0.50:0.95 | area=   all | maxDets=100 ] = 0.193\n",
      " Average Precision  (AP) @[ IoU=0.50      | area=   all | maxDets=100 ] = 0.665\n",
      " Average Precision  (AP) @[ IoU=0.75      | area=   all | maxDets=100 ] = 0.036\n",
      " Average Precision  (AP) @[ IoU=0.50:0.95 | area= small | maxDets=100 ] = -1.000\n",
      " Average Precision  (AP) @[ IoU=0.50:0.95 | area=medium | maxDets=100 ] = 0.091\n",
      " Average Precision  (AP) @[ IoU=0.50:0.95 | area= large | maxDets=100 ] = 0.203\n",
      " Average Recall     (AR) @[ IoU=0.50:0.95 | area=   all | maxDets=  1 ] = 0.119\n",
      " Average Recall     (AR) @[ IoU=0.50:0.95 | area=   all | maxDets= 10 ] = 0.340\n",
      " Average Recall     (AR) @[ IoU=0.50:0.95 | area=   all | maxDets=100 ] = 0.346\n",
      " Average Recall     (AR) @[ IoU=0.50:0.95 | area= small | maxDets=100 ] = -1.000\n",
      " Average Recall     (AR) @[ IoU=0.50:0.95 | area=medium | maxDets=100 ] = 0.100\n",
      " Average Recall     (AR) @[ IoU=0.50:0.95 | area= large | maxDets=100 ] = 0.361\n",
      "Epoch: [4]  [ 0/60]  eta: 0:01:31  lr: 0.005000  loss: 1.0019 (1.0019)  loss_classifier: 0.3620 (0.3620)  loss_box_reg: 0.4603 (0.4603)  loss_objectness: 0.0820 (0.0820)  loss_rpn_box_reg: 0.0977 (0.0977)  time: 1.5276  data: 0.2618  max mem: 6923\n",
      "Epoch: [4]  [10/60]  eta: 0:01:03  lr: 0.005000  loss: 1.0019 (1.1014)  loss_classifier: 0.2526 (0.3318)  loss_box_reg: 0.4964 (0.5600)  loss_objectness: 0.1011 (0.1062)  loss_rpn_box_reg: 0.0922 (0.1033)  time: 1.2715  data: 0.0339  max mem: 6923\n",
      "Epoch: [4]  [20/60]  eta: 0:00:50  lr: 0.005000  loss: 0.8796 (1.0035)  loss_classifier: 0.2320 (0.2872)  loss_box_reg: 0.4255 (0.5046)  loss_objectness: 0.0933 (0.1080)  loss_rpn_box_reg: 0.0870 (0.1037)  time: 1.2506  data: 0.0114  max mem: 6923\n",
      "Epoch: [4]  [30/60]  eta: 0:00:37  lr: 0.005000  loss: 0.8236 (0.9383)  loss_classifier: 0.2208 (0.2612)  loss_box_reg: 0.4176 (0.4813)  loss_objectness: 0.0888 (0.0998)  loss_rpn_box_reg: 0.0865 (0.0960)  time: 1.2312  data: 0.0120  max mem: 6923\n",
      "Epoch: [4]  [40/60]  eta: 0:00:24  lr: 0.005000  loss: 0.7716 (0.9094)  loss_classifier: 0.2032 (0.2516)  loss_box_reg: 0.4044 (0.4615)  loss_objectness: 0.0754 (0.0969)  loss_rpn_box_reg: 0.0865 (0.0994)  time: 1.1783  data: 0.0121  max mem: 6923\n",
      "Epoch: [4]  [50/60]  eta: 0:00:12  lr: 0.005000  loss: 0.7034 (0.8870)  loss_classifier: 0.2032 (0.2469)  loss_box_reg: 0.3457 (0.4506)  loss_objectness: 0.0760 (0.0956)  loss_rpn_box_reg: 0.0778 (0.0939)  time: 1.1627  data: 0.0125  max mem: 6923\n",
      "Epoch: [4]  [59/60]  eta: 0:00:01  lr: 0.005000  loss: 0.5829 (0.8503)  loss_classifier: 0.1909 (0.2412)  loss_box_reg: 0.2727 (0.4293)  loss_objectness: 0.0624 (0.0906)  loss_rpn_box_reg: 0.0653 (0.0892)  time: 1.1447  data: 0.0118  max mem: 6923\n",
      "Epoch: [4] Total time: 0:01:11 (1.1993 s / it)\n",
      "creating index...\n",
      "index created!\n",
      "Test:  [ 0/50]  eta: 0:00:24  model_time: 0.2618 (0.2618)  evaluator_time: 0.0028 (0.0028)  time: 0.4910  data: 0.2244  max mem: 6923\n",
      "Test:  [49/50]  eta: 0:00:00  model_time: 0.1740 (0.1813)  evaluator_time: 0.0015 (0.0018)  time: 0.1869  data: 0.0054  max mem: 6923\n",
      "Test: Total time: 0:00:09 (0.1957 s / it)\n",
      "Averaged stats: model_time: 0.1740 (0.1813)  evaluator_time: 0.0015 (0.0018)\n",
      "Accumulating evaluation results...\n",
      "DONE (t=0.01s).\n",
      "IoU metric: bbox\n",
      " Average Precision  (AP) @[ IoU=0.50:0.95 | area=   all | maxDets=100 ] = 0.397\n",
      " Average Precision  (AP) @[ IoU=0.50      | area=   all | maxDets=100 ] = 0.822\n",
      " Average Precision  (AP) @[ IoU=0.75      | area=   all | maxDets=100 ] = 0.307\n",
      " Average Precision  (AP) @[ IoU=0.50:0.95 | area= small | maxDets=100 ] = -1.000\n",
      " Average Precision  (AP) @[ IoU=0.50:0.95 | area=medium | maxDets=100 ] = 0.059\n",
      " Average Precision  (AP) @[ IoU=0.50:0.95 | area= large | maxDets=100 ] = 0.418\n",
      " Average Recall     (AR) @[ IoU=0.50:0.95 | area=   all | maxDets=  1 ] = 0.230\n",
      " Average Recall     (AR) @[ IoU=0.50:0.95 | area=   all | maxDets= 10 ] = 0.506\n",
      " Average Recall     (AR) @[ IoU=0.50:0.95 | area=   all | maxDets=100 ] = 0.506\n",
      " Average Recall     (AR) @[ IoU=0.50:0.95 | area= small | maxDets=100 ] = -1.000\n",
      " Average Recall     (AR) @[ IoU=0.50:0.95 | area=medium | maxDets=100 ] = 0.057\n",
      " Average Recall     (AR) @[ IoU=0.50:0.95 | area= large | maxDets=100 ] = 0.535\n",
      "That's it!\n"
     ],
     "name": "stdout"
    }
   ]
  },
  {
   "cell_type": "code",
   "metadata": {
    "id": "M4vuvUQJNBhd"
   },
   "source": [
    "# model 은 메인에서 리턴하거나, 새로 선언.\n",
    "# model = create_pretrained_faster_rcnn()\n",
    "\n",
    "\n",
    "model.eval()\n",
    "\n",
    "img_path = '/content/PennFudanPed/PNGImages/PennPed00058.png'\n",
    "\n",
    "images = np.array(Image.open(img_path).convert(\"RGB\"))\n",
    "images = torch.from_numpy(images/255.0).permute(2,0,1).unsqueeze(0).float()\n",
    "print(images.shape)\n",
    "\n",
    "device = torch.device('cuda') if torch.cuda.is_available() else torch.device('cpu')\n",
    "\n",
    "images = list(image.to(device) for image in images)\n",
    "with torch.no_grad():\n",
    "  output_dict = model(images)\n",
    "print(output_dict)\n",
    "print(output_dict[0].keys())"
   ],
   "execution_count": null,
   "outputs": []
  },
  {
   "cell_type": "code",
   "execution_count": null,
   "outputs": [],
   "source": [
    "boxes = output_dict[0]['boxes'].detach().cpu().numpy()\n",
    "scores = output_dict[0]['scores'].detach().cpu().numpy()\n",
    "labels = output_dict[0]['labels'].detach().cpu().numpy()\n",
    "\n",
    "scores_threshold = 0.01\n",
    "select_idxes = scores > scores_threshold\n",
    "print(select_idxes)\n",
    "\n",
    "selected_boxes = boxes[select_idxes].astype(np.int)\n",
    "selected_scores = scores[select_idxes]\n",
    "selected_labels = labels[select_idxes]\n",
    "\n",
    "print(selected_boxes.shape, boxes.shape)\n"
   ],
   "metadata": {
    "collapsed": false,
    "pycharm": {
     "name": "#%%\n"
    }
   }
  },
  {
   "cell_type": "code",
   "execution_count": null,
   "outputs": [],
   "source": [
    "# 데이터 테스트 출력\n",
    "\n",
    "import cv2\n",
    "import matplotlib.pyplot as plt\n",
    "\n",
    "# 박스 시각화\n",
    "def makeBox(voc_im, bbox):\n",
    "  image = voc_im.copy()\n",
    "  for i in range(len(bbox)):\n",
    "    cv2.rectangle(image,(int(bbox[i][0]),int(bbox[i][1])),(int(bbox[i][2]),int(bbox[i][3])),color = (0,255,0),thickness = 1)\n",
    "  return image\n",
    "\n",
    "draw_img = images[0].permute(1, 2, 0).cpu().numpy()\n",
    "print(selected_boxes)\n",
    "plot_image = makeBox(draw_img, selected_boxes)\n",
    "plt.imshow(plot_image)"
   ],
   "metadata": {
    "collapsed": false,
    "pycharm": {
     "name": "#%%\n"
    }
   }
  }
 ]
}